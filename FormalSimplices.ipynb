{
 "cells": [
  {
   "cell_type": "code",
   "execution_count": 19,
   "metadata": {},
   "outputs": [],
   "source": [
    "from simplicial import *"
   ]
  },
  {
   "attachments": {},
   "cell_type": "markdown",
   "metadata": {},
   "source": [
    "Consider a complex $K=\\{a,b,c,ab,bc,ca,abc\\}.$ Enumerate all elements in the 1-chain, 1-cycle, 1-boundary groups defined on $K$ under $\\mathbb{Z}_2$ coefficients."
   ]
  },
  {
   "cell_type": "code",
   "execution_count": 20,
   "metadata": {},
   "outputs": [],
   "source": [
    "K=SimplicialComplex()\n",
    "a=K.addSimplex(id=1)\n",
    "b=K.addSimplex(id=2)\n",
    "c=K.addSimplex(id=3)\n",
    "ab=K.addSimplex(fs=[1,2])\n",
    "bc=K.addSimplex(fs=[2,3])\n",
    "ca=K.addSimplex(fs=[3,1])\n",
    "\n",
    "abc=K.addSimplex(fs=[ab,bc,ca])"
   ]
  },
  {
   "cell_type": "code",
   "execution_count": 21,
   "metadata": {},
   "outputs": [
    {
     "data": {
      "text/plain": [
       "[{1, 2}, {2, 3}, {1, 3}, {1, 3}, {1, 2}, {2, 3}, set()]"
      ]
     },
     "execution_count": 21,
     "metadata": {},
     "output_type": "execute_result"
    }
   ],
   "source": [
    "bs1=K.boundary([ab])\n",
    "bs2=K.boundary([bc])\n",
    "bs3=K.boundary([ca])\n",
    "bs4=K.boundary([ab,bc])\n",
    "bs5=K.boundary([bc,ca])\n",
    "bs6=K.boundary([ca,ab])\n",
    "bs7=K.boundary([ab,bc,ca])\n",
    "b1=[bs1,bs2,bs3,bs4,bs5,bs6,bs7]\n",
    "b1\n"
   ]
  },
  {
   "attachments": {},
   "cell_type": "markdown",
   "metadata": {},
   "source": [
    "Therefore the unique 1-cycle is $$ab+bc+ca.$$"
   ]
  },
  {
   "attachments": {},
   "cell_type": "markdown",
   "metadata": {},
   "source": [
    "In the case of 1-boundaries, we need to compute the boundaries of all 2-chains. The unique 2-chain in $K$ is $$abc$$ therefore:"
   ]
  },
  {
   "cell_type": "code",
   "execution_count": 22,
   "metadata": {},
   "outputs": [
    {
     "data": {
      "text/plain": [
       "{'1d0', '1d1', '1d2'}"
      ]
     },
     "execution_count": 22,
     "metadata": {},
     "output_type": "execute_result"
    }
   ],
   "source": [
    "c1=K.boundary([abc])\n",
    "c1"
   ]
  },
  {
   "cell_type": "code",
   "execution_count": 27,
   "metadata": {},
   "outputs": [
    {
     "data": {
      "text/plain": [
       "{'1d0', '1d1', '1d2'}"
      ]
     },
     "execution_count": 27,
     "metadata": {},
     "output_type": "execute_result"
    }
   ],
   "source": [
    "f1=K.faces(abc)\n",
    "f1"
   ]
  },
  {
   "attachments": {},
   "cell_type": "markdown",
   "metadata": {},
   "source": [
    "Ejercicio: Considera el siguiente complejo Simplicial (figura).\n",
    "Determina si:\n",
    "\n",
    "1. 1-cycles\n",
    "2. 2-chains\n",
    "3. 2-cycles\n",
    "3. 3-cycles."
   ]
  }
 ],
 "metadata": {
  "kernelspec": {
   "display_name": "Python 3",
   "language": "python",
   "name": "python3"
  },
  "language_info": {
   "codemirror_mode": {
    "name": "ipython",
    "version": 3
   },
   "file_extension": ".py",
   "mimetype": "text/x-python",
   "name": "python",
   "nbconvert_exporter": "python",
   "pygments_lexer": "ipython3",
   "version": "3.10.6"
  },
  "orig_nbformat": 4,
  "vscode": {
   "interpreter": {
    "hash": "c937e1fda9f955598d1e9ce2f0a8b833dc3f319bbe96c6232a06f21c3925d963"
   }
  }
 },
 "nbformat": 4,
 "nbformat_minor": 2
}
