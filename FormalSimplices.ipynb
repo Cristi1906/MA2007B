{
 "cells": [
  {
   "cell_type": "code",
   "execution_count": 1,
   "metadata": {},
   "outputs": [],
   "source": [
    "from simplicial import *"
   ]
  },
  {
   "attachments": {},
   "cell_type": "markdown",
   "metadata": {},
   "source": [
    "Consider a complex $K=\\{a,b,c,ab,bc,ca,abc\\}.$ Enumerate all elements in the 1-chain, 1-cycle, 1-boundary groups defined on $K$ under $\\mathbb{Z}_2$ coefficients."
   ]
  },
  {
   "cell_type": "code",
   "execution_count": 20,
   "metadata": {},
   "outputs": [],
   "source": [
    "K=SimplicialComplex()\n",
    "a=K.addSimplex(id=1)\n",
    "b=K.addSimplex(id=2)\n",
    "c=K.addSimplex(id=3)\n",
    "ab=K.addSimplex(fs=[1,2])\n",
    "bc=K.addSimplex(fs=[2,3])\n",
    "ca=K.addSimplex(fs=[3,1])\n",
    "\n",
    "abc=K.addSimplex(fs=[ab,bc,ca])"
   ]
  },
  {
   "cell_type": "code",
   "execution_count": 21,
   "metadata": {},
   "outputs": [
    {
     "data": {
      "text/plain": [
       "[{1, 2}, {2, 3}, {1, 3}, {1, 3}, {1, 2}, {2, 3}, set()]"
      ]
     },
     "execution_count": 21,
     "metadata": {},
     "output_type": "execute_result"
    }
   ],
   "source": [
    "bs1=K.boundary([ab])\n",
    "bs2=K.boundary([bc])\n",
    "bs3=K.boundary([ca])\n",
    "bs4=K.boundary([ab,bc])\n",
    "bs5=K.boundary([bc,ca])\n",
    "bs6=K.boundary([ca,ab])\n",
    "bs7=K.boundary([ab,bc,ca])\n",
    "b1=[bs1,bs2,bs3,bs4,bs5,bs6,bs7]\n",
    "b1\n"
   ]
  },
  {
   "attachments": {},
   "cell_type": "markdown",
   "metadata": {},
   "source": [
    "Therefore the unique 1-cycle is $$ab+bc+ca.$$"
   ]
  },
  {
   "attachments": {},
   "cell_type": "markdown",
   "metadata": {},
   "source": [
    "In the case of 1-boundaries, we need to compute the boundaries of all 2-chains. The unique 2-chain in $K$ is $$abc$$ therefore:"
   ]
  },
  {
   "cell_type": "code",
   "execution_count": 22,
   "metadata": {},
   "outputs": [
    {
     "data": {
      "text/plain": [
       "{'1d0', '1d1', '1d2'}"
      ]
     },
     "execution_count": 22,
     "metadata": {},
     "output_type": "execute_result"
    }
   ],
   "source": [
    "c1=K.boundary([abc])\n",
    "c1"
   ]
  },
  {
   "cell_type": "code",
   "execution_count": 27,
   "metadata": {},
   "outputs": [
    {
     "data": {
      "text/plain": [
       "{'1d0', '1d1', '1d2'}"
      ]
     },
     "execution_count": 27,
     "metadata": {},
     "output_type": "execute_result"
    }
   ],
   "source": [
    "f1=K.faces(abc)\n",
    "f1"
   ]
  },
  {
   "attachments": {},
   "cell_type": "markdown",
   "metadata": {},
   "source": [
    "Ejercicio: Considera el siguiente complejo Simplicial (figura).\n",
    "Determina si:\n",
    "\n",
    "1. 1-cycles\n",
    "2. 2-chains\n",
    "3. 2-cycles\n",
    "3. 3-cycles."
   ]
  },
  {
   "cell_type": "code",
   "execution_count": 3,
   "metadata": {},
   "outputs": [
    {
     "ename": "KeyError",
     "evalue": "'Already have simplex 1d0 with faces [2, 1]'",
     "output_type": "error",
     "traceback": [
      "\u001b[1;31m---------------------------------------------------------------------------\u001b[0m",
      "\u001b[1;31mKeyError\u001b[0m                                  Traceback (most recent call last)",
      "Cell \u001b[1;32mIn[3], line 8\u001b[0m\n\u001b[0;32m      6\u001b[0m bc\u001b[39m=\u001b[39mT\u001b[39m.\u001b[39maddSimplex(fs\u001b[39m=\u001b[39m[\u001b[39m2\u001b[39m,\u001b[39m3\u001b[39m])\n\u001b[0;32m      7\u001b[0m ca\u001b[39m=\u001b[39mT\u001b[39m.\u001b[39maddSimplex(fs\u001b[39m=\u001b[39m[\u001b[39m3\u001b[39m,\u001b[39m1\u001b[39m])\n\u001b[1;32m----> 8\u001b[0m ba\u001b[39m=\u001b[39mT\u001b[39m.\u001b[39;49maddSimplex(fs\u001b[39m=\u001b[39;49m[\u001b[39m2\u001b[39;49m,\u001b[39m1\u001b[39;49m])\n\u001b[0;32m      9\u001b[0m cb\u001b[39m=\u001b[39mT\u001b[39m.\u001b[39maddSimplex(fs\u001b[39m=\u001b[39m[\u001b[39m3\u001b[39m,\u001b[39m2\u001b[39m])\n\u001b[0;32m     10\u001b[0m ac\u001b[39m=\u001b[39mT\u001b[39m.\u001b[39maddSimplex(fs\u001b[39m=\u001b[39m[\u001b[39m1\u001b[39m,\u001b[39m3\u001b[39m])\n",
      "File \u001b[1;32mc:\\Users\\L03088338\\AppData\\Local\\Programs\\Python\\Python310\\lib\\site-packages\\simplicial\\base.py:112\u001b[0m, in \u001b[0;36mSimplicialComplex.addSimplex\u001b[1;34m(self, fs, id, attr)\u001b[0m\n\u001b[0;32m     97\u001b[0m \u001b[39mdef\u001b[39;00m \u001b[39maddSimplex\u001b[39m(\u001b[39mself\u001b[39m, fs: List[Simplex] \u001b[39m=\u001b[39m [], \u001b[39mid\u001b[39m: Simplex \u001b[39m=\u001b[39m \u001b[39mNone\u001b[39;00m,\n\u001b[0;32m     98\u001b[0m                attr: Attributes \u001b[39m=\u001b[39m \u001b[39mNone\u001b[39;00m) \u001b[39m-\u001b[39m\u001b[39m>\u001b[39m Simplex:\n\u001b[0;32m     99\u001b[0m     \u001b[39m\"\"\"Add a simplex to the complex whose faces are the elements of fs.\u001b[39;00m\n\u001b[0;32m    100\u001b[0m \u001b[39m    The faces must all be distinct.\u001b[39;00m\n\u001b[0;32m    101\u001b[0m \u001b[39m    If no faces are given then the simplex is a 0-simplex (point).\u001b[39;00m\n\u001b[1;32m   (...)\u001b[0m\n\u001b[0;32m    110\u001b[0m \u001b[39m    :param attr: (optional) dict of attributes\u001b[39;00m\n\u001b[0;32m    111\u001b[0m \u001b[39m    :returns: the name of the new simplex\"\"\"\u001b[39;00m\n\u001b[1;32m--> 112\u001b[0m     \u001b[39mreturn\u001b[39;00m \u001b[39mself\u001b[39;49m\u001b[39m.\u001b[39;49m_rep\u001b[39m.\u001b[39;49maddSimplex(fs, \u001b[39mid\u001b[39;49m, attr)\n",
      "File \u001b[1;32mc:\\Users\\L03088338\\AppData\\Local\\Programs\\Python\\Python310\\lib\\site-packages\\simplicial\\simplicialcomplex.py:129\u001b[0m, in \u001b[0;36mReferenceRepresentation.addSimplex\u001b[1;34m(self, fs, id, attr)\u001b[0m\n\u001b[0;32m    127\u001b[0m         swf \u001b[39m=\u001b[39m \u001b[39mself\u001b[39m\u001b[39m.\u001b[39m_complex\u001b[39m.\u001b[39msimplexWithFaces(fs)\n\u001b[0;32m    128\u001b[0m         \u001b[39mif\u001b[39;00m swf \u001b[39mis\u001b[39;00m \u001b[39mnot\u001b[39;00m \u001b[39mNone\u001b[39;00m:\n\u001b[1;32m--> 129\u001b[0m             \u001b[39mraise\u001b[39;00m \u001b[39mKeyError\u001b[39;00m(\u001b[39mf\u001b[39m\u001b[39m'\u001b[39m\u001b[39mAlready have simplex \u001b[39m\u001b[39m{\u001b[39;00mswf\u001b[39m}\u001b[39;00m\u001b[39m with faces \u001b[39m\u001b[39m{\u001b[39;00mfs\u001b[39m}\u001b[39;00m\u001b[39m'\u001b[39m)\n\u001b[0;32m    131\u001b[0m \u001b[39m# if we have simplices in the order above this one, extend that order's boundary operator\u001b[39;00m\n\u001b[0;32m    132\u001b[0m \u001b[39m# for that order\u001b[39;00m\n\u001b[0;32m    133\u001b[0m \u001b[39mif\u001b[39;00m \u001b[39mself\u001b[39m\u001b[39m.\u001b[39m_maxOrder \u001b[39m>\u001b[39m k:\n\u001b[0;32m    134\u001b[0m     \u001b[39m# we have a higher order of simplices, add a row of zeros to its boundary operator\u001b[39;00m\n\u001b[0;32m    135\u001b[0m     \u001b[39m#print(\"extended structures for order {kp}\".format(kp = k + 1))\u001b[39;00m\n",
      "\u001b[1;31mKeyError\u001b[0m: 'Already have simplex 1d0 with faces [2, 1]'"
     ]
    }
   ],
   "source": [
    "T=SimplicialComplex()\n",
    "\n"
   ]
  },
  {
   "cell_type": "code",
   "execution_count": 4,
   "metadata": {},
   "outputs": [],
   "source": [
    "points='abcdefg'\n",
    "T=SimplicialComplex()\n",
    "for p in points:\n",
    "    T.addSimplex(id=p)\n",
    "\n",
    "lines=['ab','bd','bc','ce','cf','ef','fg']\n",
    "\n",
    "for l in lines:\n",
    "    T.addSimplex(fs=list(l), id=l)\n"
   ]
  },
  {
   "cell_type": "code",
   "execution_count": 8,
   "metadata": {},
   "outputs": [
    {
     "name": "stdout",
     "output_type": "stream",
     "text": [
      "{'b', 'a'}\n",
      "{'b', 'd'}\n",
      "{'b', 'c'}\n",
      "{'e', 'c'}\n",
      "{'c', 'f'}\n",
      "{'e', 'f'}\n",
      "{'g', 'f'}\n"
     ]
    }
   ],
   "source": [
    "for i in lines:\n",
    "    print(T.boundary([i]))"
   ]
  },
  {
   "cell_type": "code",
   "execution_count": null,
   "metadata": {},
   "outputs": [],
   "source": []
  }
 ],
 "metadata": {
  "kernelspec": {
   "display_name": "Python 3",
   "language": "python",
   "name": "python3"
  },
  "language_info": {
   "codemirror_mode": {
    "name": "ipython",
    "version": 3
   },
   "file_extension": ".py",
   "mimetype": "text/x-python",
   "name": "python",
   "nbconvert_exporter": "python",
   "pygments_lexer": "ipython3",
   "version": "3.10.6"
  },
  "orig_nbformat": 4,
  "vscode": {
   "interpreter": {
    "hash": "c937e1fda9f955598d1e9ce2f0a8b833dc3f319bbe96c6232a06f21c3925d963"
   }
  }
 },
 "nbformat": 4,
 "nbformat_minor": 2
}
