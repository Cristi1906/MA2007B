{
 "cells": [
  {
   "attachments": {},
   "cell_type": "markdown",
   "metadata": {},
   "source": [
    "# Aplicaciones de Mapper\n",
    "\n",
    "En este notebook exploraremos algunas bases de datos y aplicaremos el algoritmo de Mapper para visualizarlas, esto con el fin de entender mejor como decidir que parámetros usar para el algoritmo.\n",
    "\n",
    "En particular, estamos enfocados en entender cómo funciona la selección de nuestra proyección y que información podemos sacar a partir del grafo resultante.\n",
    "\n"
   ]
  },
  {
   "cell_type": "code",
   "execution_count": 1,
   "metadata": {},
   "outputs": [],
   "source": [
    "\n",
    "import kmapper as km\n",
    "from kmapper.jupyter import display\n",
    "import sklearn\n",
    "import matplotlib.pyplot as plt\n",
    "import numpy as np\n",
    "import pandas as pd\n"
   ]
  },
  {
   "attachments": {},
   "cell_type": "markdown",
   "metadata": {},
   "source": [
    "## 1. Estudio de Calificaciones\n",
    "\n",
    "La siguiente base de datos contiene la información de las calificiones de Matemáticas, Redacción y Lectura de algunos estudiantes de Estados Unidos en el 2015, de igual manera contiene información de nivel de estudios de los padres, raza, sexo, alimentación en la escuela. \n",
    "\n",
    "La base de datos se puede encontrar en el siguiente [link](https://www.kaggle.com/spscientist/students-performance-in-exams)"
   ]
  },
  {
   "cell_type": "code",
   "execution_count": 5,
   "metadata": {},
   "outputs": [
    {
     "data": {
      "text/html": [
       "<div>\n",
       "<style scoped>\n",
       "    .dataframe tbody tr th:only-of-type {\n",
       "        vertical-align: middle;\n",
       "    }\n",
       "\n",
       "    .dataframe tbody tr th {\n",
       "        vertical-align: top;\n",
       "    }\n",
       "\n",
       "    .dataframe thead th {\n",
       "        text-align: right;\n",
       "    }\n",
       "</style>\n",
       "<table border=\"1\" class=\"dataframe\">\n",
       "  <thead>\n",
       "    <tr style=\"text-align: right;\">\n",
       "      <th></th>\n",
       "      <th>gender</th>\n",
       "      <th>race/ethnicity</th>\n",
       "      <th>parental level of education</th>\n",
       "      <th>lunch</th>\n",
       "      <th>test preparation course</th>\n",
       "      <th>math score</th>\n",
       "      <th>reading score</th>\n",
       "      <th>writing score</th>\n",
       "    </tr>\n",
       "  </thead>\n",
       "  <tbody>\n",
       "    <tr>\n",
       "      <th>0</th>\n",
       "      <td>female</td>\n",
       "      <td>group B</td>\n",
       "      <td>bachelor's degree</td>\n",
       "      <td>standard</td>\n",
       "      <td>none</td>\n",
       "      <td>72</td>\n",
       "      <td>72</td>\n",
       "      <td>74</td>\n",
       "    </tr>\n",
       "    <tr>\n",
       "      <th>1</th>\n",
       "      <td>female</td>\n",
       "      <td>group C</td>\n",
       "      <td>some college</td>\n",
       "      <td>standard</td>\n",
       "      <td>completed</td>\n",
       "      <td>69</td>\n",
       "      <td>90</td>\n",
       "      <td>88</td>\n",
       "    </tr>\n",
       "    <tr>\n",
       "      <th>2</th>\n",
       "      <td>female</td>\n",
       "      <td>group B</td>\n",
       "      <td>master's degree</td>\n",
       "      <td>standard</td>\n",
       "      <td>none</td>\n",
       "      <td>90</td>\n",
       "      <td>95</td>\n",
       "      <td>93</td>\n",
       "    </tr>\n",
       "    <tr>\n",
       "      <th>3</th>\n",
       "      <td>male</td>\n",
       "      <td>group A</td>\n",
       "      <td>associate's degree</td>\n",
       "      <td>free/reduced</td>\n",
       "      <td>none</td>\n",
       "      <td>47</td>\n",
       "      <td>57</td>\n",
       "      <td>44</td>\n",
       "    </tr>\n",
       "    <tr>\n",
       "      <th>4</th>\n",
       "      <td>male</td>\n",
       "      <td>group C</td>\n",
       "      <td>some college</td>\n",
       "      <td>standard</td>\n",
       "      <td>none</td>\n",
       "      <td>76</td>\n",
       "      <td>78</td>\n",
       "      <td>75</td>\n",
       "    </tr>\n",
       "  </tbody>\n",
       "</table>\n",
       "</div>"
      ],
      "text/plain": [
       "   gender race/ethnicity parental level of education         lunch  \\\n",
       "0  female        group B           bachelor's degree      standard   \n",
       "1  female        group C                some college      standard   \n",
       "2  female        group B             master's degree      standard   \n",
       "3    male        group A          associate's degree  free/reduced   \n",
       "4    male        group C                some college      standard   \n",
       "\n",
       "  test preparation course  math score  reading score  writing score  \n",
       "0                    none          72             72             74  \n",
       "1               completed          69             90             88  \n",
       "2                    none          90             95             93  \n",
       "3                    none          47             57             44  \n",
       "4                    none          76             78             75  "
      ]
     },
     "execution_count": 5,
     "metadata": {},
     "output_type": "execute_result"
    }
   ],
   "source": [
    "performance_data=pd.read_csv('StudentsPerformance.csv')\n",
    "performance_data.head()"
   ]
  },
  {
   "attachments": {},
   "cell_type": "markdown",
   "metadata": {},
   "source": [
    "Veamos la información básica de la base de datos de aquellos valores no categóricos."
   ]
  },
  {
   "cell_type": "code",
   "execution_count": 8,
   "metadata": {},
   "outputs": [
    {
     "data": {
      "text/html": [
       "<div>\n",
       "<style scoped>\n",
       "    .dataframe tbody tr th:only-of-type {\n",
       "        vertical-align: middle;\n",
       "    }\n",
       "\n",
       "    .dataframe tbody tr th {\n",
       "        vertical-align: top;\n",
       "    }\n",
       "\n",
       "    .dataframe thead th {\n",
       "        text-align: right;\n",
       "    }\n",
       "</style>\n",
       "<table border=\"1\" class=\"dataframe\">\n",
       "  <thead>\n",
       "    <tr style=\"text-align: right;\">\n",
       "      <th></th>\n",
       "      <th>math score</th>\n",
       "      <th>reading score</th>\n",
       "      <th>writing score</th>\n",
       "    </tr>\n",
       "  </thead>\n",
       "  <tbody>\n",
       "    <tr>\n",
       "      <th>count</th>\n",
       "      <td>1000.00000</td>\n",
       "      <td>1000.000000</td>\n",
       "      <td>1000.000000</td>\n",
       "    </tr>\n",
       "    <tr>\n",
       "      <th>mean</th>\n",
       "      <td>66.08900</td>\n",
       "      <td>69.169000</td>\n",
       "      <td>68.054000</td>\n",
       "    </tr>\n",
       "    <tr>\n",
       "      <th>std</th>\n",
       "      <td>15.16308</td>\n",
       "      <td>14.600192</td>\n",
       "      <td>15.195657</td>\n",
       "    </tr>\n",
       "    <tr>\n",
       "      <th>min</th>\n",
       "      <td>0.00000</td>\n",
       "      <td>17.000000</td>\n",
       "      <td>10.000000</td>\n",
       "    </tr>\n",
       "    <tr>\n",
       "      <th>25%</th>\n",
       "      <td>57.00000</td>\n",
       "      <td>59.000000</td>\n",
       "      <td>57.750000</td>\n",
       "    </tr>\n",
       "    <tr>\n",
       "      <th>50%</th>\n",
       "      <td>66.00000</td>\n",
       "      <td>70.000000</td>\n",
       "      <td>69.000000</td>\n",
       "    </tr>\n",
       "    <tr>\n",
       "      <th>75%</th>\n",
       "      <td>77.00000</td>\n",
       "      <td>79.000000</td>\n",
       "      <td>79.000000</td>\n",
       "    </tr>\n",
       "    <tr>\n",
       "      <th>max</th>\n",
       "      <td>100.00000</td>\n",
       "      <td>100.000000</td>\n",
       "      <td>100.000000</td>\n",
       "    </tr>\n",
       "  </tbody>\n",
       "</table>\n",
       "</div>"
      ],
      "text/plain": [
       "       math score  reading score  writing score\n",
       "count  1000.00000    1000.000000    1000.000000\n",
       "mean     66.08900      69.169000      68.054000\n",
       "std      15.16308      14.600192      15.195657\n",
       "min       0.00000      17.000000      10.000000\n",
       "25%      57.00000      59.000000      57.750000\n",
       "50%      66.00000      70.000000      69.000000\n",
       "75%      77.00000      79.000000      79.000000\n",
       "max     100.00000     100.000000     100.000000"
      ]
     },
     "execution_count": 8,
     "metadata": {},
     "output_type": "execute_result"
    }
   ],
   "source": [
    "performance_data.describe()"
   ]
  },
  {
   "attachments": {},
   "cell_type": "markdown",
   "metadata": {},
   "source": [
    "Notemos que en los tres examenes, el promedio fue de 70 puntos, con una desviación estándar de 15 puntos (aproximadamente). Esta información la tomaremos en cuenta en el futuro.\n",
    "\n",
    "\n",
    "Usualmente las calificaciones tienen una distribución normal, por lo que utilizaremos la cubierta en cuartiles para visualizar la información, por ejemplo si nuestros cuartiles tienen un traslape del 2%, entonces estos serían:\n",
    "\n",
    "$$(0,26),(24,51),(49,76),(74,100).$$\n",
    "\n",
    "Antes de decidir que vamos a estudiar, saquemos la información de los scores que tenemos."
   ]
  },
  {
   "cell_type": "code",
   "execution_count": 9,
   "metadata": {},
   "outputs": [
    {
     "data": {
      "text/plain": [
       "array([[72, 72, 74],\n",
       "       [69, 90, 88],\n",
       "       [90, 95, 93],\n",
       "       ...,\n",
       "       [59, 71, 65],\n",
       "       [68, 78, 77],\n",
       "       [77, 86, 86]], dtype=int64)"
      ]
     },
     "execution_count": 9,
     "metadata": {},
     "output_type": "execute_result"
    }
   ],
   "source": [
    "data = performance_data[['math score','reading score','writing score']].to_numpy()"
   ]
  },
  {
   "attachments": {},
   "cell_type": "markdown",
   "metadata": {},
   "source": [
    "### 1.1. ¿Qué vamos a estudiar?\n",
    "\n",
    "Supongamos que queremos conocer la relación que tiene el score de matemáticas con los otros dos (si este influye). Para esto, podemos utilizar mapper proyectando los datos en la variable que mide el score de matemáticas, esto es:\n",
    "\n",
    "$$(math\\,score,reading\\,score,writing\\,score)\\mapsto math\\,score.$$\n",
    "\n",
    "Esta es una función de $\\mathbb{R}^3\\to\\mathbb{R}.$ \n",
    "\n",
    "Como me interesa conocer que pasa con los otros dos scores, voy a utilizar su promedio para colorear los elementos del cluster."
   ]
  },
  {
   "cell_type": "code",
   "execution_count": 60,
   "metadata": {},
   "outputs": [
    {
     "data": {
      "text/plain": [
       "array([ 73. ,  89. ,  94. ,  50.5,  76.5,  80.5,  93.5,  41. ,  65.5,\n",
       "        55. ,  53. ,  47.5,  77. ,  71. ,  55.5,  76.5,  87.5,  30. ,\n",
       "        44. ,  59.5,  66. ,  72.5,  53.5,  73. ,  75.5,  73. ,  54.5,\n",
       "        72. ,  67.5,  72.5,  74. ,  63. ,  68.5,  40. ,  84.5,  80. ,\n",
       "        82. ,  61.5,  89. ,  56.5,  57.5,  70.5,  61.5,  65.5,  55. ,\n",
       "        55.5,  63.5,  73.5,  75. ,  83. ,  51.5,  68.5,  43. ,  76.5,\n",
       "        85.5,  42. ,  85.5,  52. ,  58.5,  13.5,  73. ,  36.5,  58. ,\n",
       "        75.5,  58.5,  62.5,  37. ,  73. ,  57. ,  60.5,  68. ,  59. ,\n",
       "        49.5,  56.5,  45. ,  39.5,  24. ,  79.5,  73. ,  68. ,  49.5,\n",
       "        45. ,  50.5,  63.5,  36.5,  81. ,  85.5,  72.5,  68.5,  84. ,\n",
       "        73. ,  35. ,  75. ,  47.5,  89. ,  81.5,  64. ,  71. ,  64.5,\n",
       "        64.5,  67. ,  74. ,  90. ,  45.5,  88. ,  69.5, 100. ,  63.5,\n",
       "        73. ,  68. ,  93.5,  52. ,  50. ,  56. , 100. ,  75.5,  83.5,\n",
       "        80.5,  62. ,  67. ,  90.5,  90.5,  93. ,  56.5,  76.5,  90.5,\n",
       "        67.5,  75.5,  78. ,  50. ,  83. ,  38.5,  72. ,  82.5,  77. ,\n",
       "        51.5,  47.5,  55.5,  66.5,  65. ,  71.5,  63. ,  54.5,  45. ,\n",
       "        75.5,  36. ,  79.5,  67. ,  78. ,  96.5,  68. ,  67.5,  68. ,\n",
       "        48. ,  64. ,  88.5,  76. ,  60. ,  86.5,  63. ,  76. ,  86.5,\n",
       "        52.5,  51. ,  91.5, 100. ,  51. ,  77. ,  80.5,  72.5,  73.5,\n",
       "        83. ,  83.5,  68.5,  52.5,  89. ,  56. ,  77. ,  66. , 100. ,\n",
       "        71.5,  65. ,  48.5,  69.5,  50.5,  66. ,  70.5,  67. ,  48.5,\n",
       "        87.5,  67. ,  81. ,  65. ,  62. ,  84.5,  53.5,  67. ,  53.5,\n",
       "        54. ,  77.5,  85. ,  79. ,  73. ,  68.5,  41.5,  74.5,  62. ,\n",
       "        78. ,  78.5,  63.5,  79. ,  27.5,  61. ,  53.5,  86. ,  79. ,\n",
       "        87. ,  40.5,  73.5,  56. ,  71. ,  79. ,  63.5,  77.5,  69.5,\n",
       "        55. ,  71.5,  52. ,  68. ,  94.5,  65. ,  42.5,  84.5,  82.5,\n",
       "        83. ,  76. ,  66.5,  67. ,  51.5,  80. ,  67. ,  83. ,  53.5,\n",
       "        47. ,  71.5,  73.5,  75. ,  69. ,  63. ,  56.5,  49. ,  83. ,\n",
       "        70. ,  76. ,  52. ,  71.5,  70.5,  77. ,  76.5,  81. ,  78. ,\n",
       "        78.5,  50.5,  91.5,  70.5,  41.5,  78. ,  74.5,  93.5,  73. ,\n",
       "        62. ,  45.5,  55.5,  70.5,  80.5,  75.5,  92.5,  69. ,  83. ,\n",
       "        56.5,  47. ,  47. ,  81.5,  78. ,  46. ,  82. ,  85. ,  85.5,\n",
       "        75.5,  76.5,  69. ,  71.5,  58.5,  74. ,  78.5,  61. ,  42. ,\n",
       "        71. ,  48. ,  81. ,  79.5,  53. ,  82.5,  70. ,  79. ,  68. ,\n",
       "        84. ,  48. ,  69. ,  54.5,  78. ,  58.5,  64.5,  68. ,  69.5,\n",
       "        65.5,  86.5,  75. ,  70. ,  64. ,  81.5,  82.5,  80.5,  53. ,\n",
       "        44.5,  92. ,  61.5,  21. ,  76. ,  53. ,  60.5,  36. ,  54.5,\n",
       "        79.5,  94. ,  67. ,  69.5,  47. ,  32.5,  57.5,  56.5,  68. ,\n",
       "        75. ,  69.5,  70. ,  77.5,  59. ,  94.5,  70. ,  75. ,  67. ,\n",
       "        54.5,  79. ,  57.5,  70.5,  71. ,  61. ,  67.5,  61.5,  89.5,\n",
       "        60.5,  81. ,  58. ,  33. ,  59. ,  59. ,  55.5,  63.5,  61. ,\n",
       "        84.5,  74. ,  71.5,  73. ,  96.5,  71.5,  42. ,  86. ,  97.5,\n",
       "        80. ,  63. ,  84.5,  97.5,  76. ,  47. ,  43. ,  75.5,  71.5,\n",
       "        72.5,  64. ,  72.5,  63. ,  72.5,  67. ,  55. ,  75.5,  43. ,\n",
       "        65. ,  92. ,  60. ,  56.5,  60.5,  43. ,  60. ,  99.5,  60.5,\n",
       "        70.5,  64. ,  78.5,  56.5,  84.5,  72.5,  80.5,  63. ,  67. ,\n",
       "        75.5,  71. ,  71. ,  70. ,  60.5,  55. ,  93. ,  61. ,  62.5,\n",
       "        82.5,  36.5,  64.5,  84.5,  68. ,  56. ,  58.5,  62.5,  71. ,\n",
       "        55.5,  54.5,  66. ,  50.5,  66. ,  69.5,  53.5,  85. ,  80. ,\n",
       "        80.5,  71. ,  79.5,  77.5,  75.5,  63. ,  80.5,  44. ,  72.5,\n",
       "        85. ,  94.5,  75.5,  53.5,  61.5,  51.5,  89. ,  51. , 100. ,\n",
       "        66.5,  56.5,  49.5,  73. ,  90.5,  60. ,  89. ,  34.5,  66. ,\n",
       "        86.5,  75. ,  87.5,  71.5,  85. ,  64. ,  90.5,  79.5,  64. ,\n",
       "        70. ,  67. ,  69. ,  69.5,  57.5,  64.5,  49. ,  53. ,  72.5,\n",
       "        51.5,  74.5,  55. ,  82. ,  80.5,  67. ,  86.5,  89. ,  66. ,\n",
       "        65. ,  50. ,  77. ,  68.5,  71.5,  80.5,  89.5,  57.5,  90.5,\n",
       "        56.5,  81. ,  68. ,  56.5,  77.5,  89.5,  72. ,  46.5,  50.5,\n",
       "        61.5,  95.5,  86. ,  86.5,  73.5,  78. ,  78.5,  50.5,  85. ,\n",
       "        57.5,  54.5,  50.5,  59.5,  60.5,  48. ,  44. ,  72. ,  70. ,\n",
       "        53.5,  59.5,  91. ,  68.5,  83. ,  59. ,  64. ,  68.5,  89. ,\n",
       "        68.5,  81. ,  78. ,  92. ,  64.5,  81.5,  98.5,  65.5,  65.5,\n",
       "        70.5,  70.5,  89. ,  49. ,  63. ,  42.5,  36. ,  75.5,  66.5,\n",
       "        70. ,  64. ,  77. ,  74. ,  91. ,  80. ,  48.5,  44. , 100. ,\n",
       "        74.5,  47.5,  67.5,  72.5,  94. ,  59. ,  65. ,  76. ,  54. ,\n",
       "        51.5,  90. ,  57. ,  64.5,  96.5,  79.5,  75.5,  77.5,  77. ,\n",
       "        76. ,  73. ,  62.5,  64.5,  65.5,  55.5,  56. ,  66. ,  74.5,\n",
       "        99.5,  75.5,  19.5,  51. ,  75. ,  81.5,  61.5,  29.5,  79. ,\n",
       "        54. ,  89.5,  67. ,  83. ,  56. ,  63. ,  64. ,  61.5,  62.5,\n",
       "        90.5,  75.5,  93. ,  70. ,  41.5,  80.5,  82.5,  70.5,  57.5,\n",
       "        59.5,  51.5,  91. ,  60. ,  98. ,  66.5,  47. ,  51.5,  53. ,\n",
       "        67. ,  62.5,  77.5,  86.5,  82. ,  69. ,  80.5,  90. ,  75. ,\n",
       "        73.5,  51.5,  89. ,  80. ,  79.5,  62.5,  81. ,  67.5,  65. ,\n",
       "        54. ,  80. ,  54.5,  78. ,  92. ,  72. ,  79. ,  67. ,  65.5,\n",
       "        63.5,  59. ,  86. ,  75. ,  64.5,  70. ,  68. ,  63. ,  60. ,\n",
       "        72. ,  86. ,  67.5,  74.5,  72. ,  53.5,  77. ,  84. ,  77.5,\n",
       "        65. ,  77. ,  79. ,  76.5,  60.5,  73. ,  64. ,  54.5,  42. ,\n",
       "        67. ,  99.5,  71.5,  75.5,  51. ,  86.5,  53. ,  77. ,  77.5,\n",
       "        75. ,  59.5,  87.5,  86. ,  71. ,  78.5,  62.5,  81.5,  69.5,\n",
       "        85.5,  65.5,  63.5,  68.5,  35. ,  55.5,  83. ,  59.5,  87. ,\n",
       "        85. ,  99.5,  82.5,  72. ,  90.5,  75. ,  97.5,  75. ,  76.5,\n",
       "        71. ,  59. ,  89. ,  45. ,  42. ,  72.5,  76. ,  54. ,  88. ,\n",
       "        38. ,  78.5,  44.5,  91.5,  45.5,  57.5,  58. ,  81.5,  69.5,\n",
       "        72. ,  57.5,  72.5,  56.5,  83. ,  72.5,  51. ,  76.5,  73. ,\n",
       "        66. ,  59.5,  85. ,  68.5,  68.5,  76. ,  87.5,  54. ,  93.5,\n",
       "        55. ,  70. ,  62. ,  77. ,  68. ,  56. ,  83.5,  62.5,  61. ,\n",
       "        72. ,  76. ,  61. ,  73. ,  58.5,  48.5,  73.5,  69.5,  78.5,\n",
       "        62.5,  56.5,  71. ,  43.5,  80.5,  83.5,  56.5,  87. ,  83.5,\n",
       "        60.5,  80. ,  47.5,  78. ,  35. ,  63. ,  63. ,  61. ,  68. ,\n",
       "        71.5,  80.5,  51.5,  70.5,  70. ,  82.5,  57. ,  56. ,  70.5,\n",
       "        76.5,  94.5,  86. ,  77. ,  77.5,  74.5,  42.5,  72. ,  52.5,\n",
       "        33.5,  48. ,  65.5,  80. ,  81.5,  86.5,  61.5,  73. ,  70. ,\n",
       "        89.5,  91. ,  91.5,  51.5,  84.5,  55. ,  62.5,  69. ,  72.5,\n",
       "        83.5,  53.5,  58.5,  87.5,  59. ,  85.5,  47.5,  69. ,  60.5,\n",
       "        80.5,  55. ,  75. ,  49. ,  54.5,  40. ,  76.5,  64.5,  84.5,\n",
       "        85. ,  52. ,  70. ,  72. ,  67. ,  65.5,  89. ,  64. ,  59.5,\n",
       "        96.5,  66.5,  80. ,  47.5,  72.5,  57.5,  86.5,  40. ,  75.5,\n",
       "        92. ,  85. ,  52.5,  41.5,  73. ,  51. ,  52.5,  74. ,  81. ,\n",
       "        86. ,  61.5,  65. ,  83. ,  57.5,  76. ,  75. ,  65. ,  70. ,\n",
       "        72. ,  45. ,  52.5,  78. ,  97.5,  65.5,  69.5,  49.5,  88. ,\n",
       "        88.5,  70. ,  74.5,  65.5,  36. ,  28. ,  78.5,  58.5,  80. ,\n",
       "        86.5,  76. ,  44.5, 100. ,  84. ,  77. ,  49.5,  87.5,  73.5,\n",
       "        67. ,  45. ,  83. ,  63.5,  64. ,  58. ,  68. , 100. ,  56.5,\n",
       "        78.5,  93.5,  68.5,  49.5,  66. ,  65. ,  69.5,  62. ,  54. ,\n",
       "        66. ,  43.5,  53.5,  72. ,  59.5,  72. ,  74.5,  88.5,  60.5,\n",
       "        55. ,  57.5,  83. ,  68.5,  69. ,  93.5,  65. ,  61.5,  64.5,\n",
       "        59.5,  81. ,  59. ,  51. ,  74. ,  72. ,  80. ,  73. ,  53. ,\n",
       "        69. ,  59.5,  84. , 100. ,  61. ,  76. ,  61. ,  53.5, 100. ,\n",
       "        75.5,  57.5,  71. ,  66. ,  61.5,  71.5,  82. , 100. ,  70.5,\n",
       "        55. ,  63. ,  65. ,  79.5,  61. ,  61.5,  44.5,  94.5,  23.5,\n",
       "        78. ,  85.5,  89. ,  78.5,  52.5,  55. ,  75.5,  45. ,  84.5,\n",
       "        78. ,  80. ,  76. ,  73. ,  62.5,  97. ,  55. ,  68. ,  77.5,\n",
       "        86. ])"
      ]
     },
     "execution_count": 60,
     "metadata": {},
     "output_type": "execute_result"
    }
   ],
   "source": [
    "mean_outer_score=(data[:,1]+data[:,2])/2.0"
   ]
  },
  {
   "cell_type": "code",
   "execution_count": 61,
   "metadata": {},
   "outputs": [
    {
     "name": "stdout",
     "output_type": "stream",
     "text": [
      "KeplerMapper(verbose=1)\n",
      "..Composing projection pipeline of length 1:\n",
      "\tProjections: [0]\n",
      "\tDistance matrices: False\n",
      "\tScalers: MinMaxScaler()\n",
      "..Projecting on data shaped (1000, 3)\n",
      "\n",
      "..Projecting data using: [0]\n",
      "\n",
      "..Scaling with: MinMaxScaler()\n",
      "\n"
     ]
    }
   ],
   "source": [
    "mapper = km.KeplerMapper(verbose=1)\n",
    "# La proyección sobre el math score, corresponde a proyectar sobre la primera columna de data\n",
    "projected_data = mapper.fit_transform(data, projection=[0] ) # Math score\n"
   ]
  },
  {
   "cell_type": "code",
   "execution_count": 63,
   "metadata": {},
   "outputs": [
    {
     "data": {
      "text/plain": [
       "Cover(n_cubes=4, perc_overlap=0.2, limits=None, verbose=0)"
      ]
     },
     "execution_count": 63,
     "metadata": {},
     "output_type": "execute_result"
    }
   ],
   "source": [
    "covering=km.Cover(n_cubes=4,perc_overlap=0.2)"
   ]
  },
  {
   "cell_type": "code",
   "execution_count": 64,
   "metadata": {},
   "outputs": [
    {
     "name": "stdout",
     "output_type": "stream",
     "text": [
      "Mapping on data shaped (1000, 3) using lens shaped (1000, 1)\n",
      "\n",
      "Creating 4 hypercubes.\n"
     ]
    },
    {
     "name": "stderr",
     "output_type": "stream",
     "text": [
      "c:\\Users\\L03088338\\AppData\\Local\\Programs\\Python\\Python310\\lib\\site-packages\\sklearn\\cluster\\_kmeans.py:870: FutureWarning: The default value of `n_init` will change from 10 to 'auto' in 1.4. Set the value of `n_init` explicitly to suppress the warning\n",
      "  warnings.warn(\n",
      "c:\\Users\\L03088338\\AppData\\Local\\Programs\\Python\\Python310\\lib\\site-packages\\sklearn\\cluster\\_kmeans.py:870: FutureWarning: The default value of `n_init` will change from 10 to 'auto' in 1.4. Set the value of `n_init` explicitly to suppress the warning\n",
      "  warnings.warn(\n",
      "c:\\Users\\L03088338\\AppData\\Local\\Programs\\Python\\Python310\\lib\\site-packages\\sklearn\\cluster\\_kmeans.py:870: FutureWarning: The default value of `n_init` will change from 10 to 'auto' in 1.4. Set the value of `n_init` explicitly to suppress the warning\n",
      "  warnings.warn(\n"
     ]
    },
    {
     "name": "stdout",
     "output_type": "stream",
     "text": [
      "\n",
      "Created 12 edges and 16 nodes in 0:00:00.464734.\n"
     ]
    },
    {
     "name": "stderr",
     "output_type": "stream",
     "text": [
      "c:\\Users\\L03088338\\AppData\\Local\\Programs\\Python\\Python310\\lib\\site-packages\\sklearn\\cluster\\_kmeans.py:870: FutureWarning: The default value of `n_init` will change from 10 to 'auto' in 1.4. Set the value of `n_init` explicitly to suppress the warning\n",
      "  warnings.warn(\n"
     ]
    }
   ],
   "source": [
    "G = mapper.map(projected_data, data, clusterer=sklearn.cluster.KMeans(n_clusters=4),cover=covering)"
   ]
  },
  {
   "cell_type": "code",
   "execution_count": 65,
   "metadata": {},
   "outputs": [
    {
     "data": {
      "text/plain": [
       "{'projection': '[0]',\n",
       " 'n_cubes': 4,\n",
       " 'perc_overlap': 0.2,\n",
       " 'clusterer': 'KMeans(n_clusters=4)',\n",
       " 'scaler': 'MinMaxScaler()'}"
      ]
     },
     "execution_count": 65,
     "metadata": {},
     "output_type": "execute_result"
    }
   ],
   "source": [
    "G['meta_data']"
   ]
  },
  {
   "cell_type": "code",
   "execution_count": 66,
   "metadata": {},
   "outputs": [
    {
     "name": "stdout",
     "output_type": "stream",
     "text": [
      "Wrote visualization to: mapper_visualization_output.html\n"
     ]
    },
    {
     "data": {
      "text/html": [
       "<style>\n",
       "        .container { width:100% !important; }\n",
       "        .output_scroll {height: 800px !important;}\n",
       "        </style>"
      ],
      "text/plain": [
       "<IPython.core.display.HTML object>"
      ]
     },
     "metadata": {},
     "output_type": "display_data"
    },
    {
     "name": "stderr",
     "output_type": "stream",
     "text": [
      "C:\\Users\\L03088338\\AppData\\Roaming\\Python\\Python310\\site-packages\\IPython\\core\\display.py:431: UserWarning: Consider using IPython.display.IFrame instead\n",
      "  warnings.warn(\"Consider using IPython.display.IFrame instead\")\n"
     ]
    },
    {
     "data": {
      "text/html": [
       "<iframe src=performance_math_score.html width=100%% height=800 frameBorder=\"0\"></iframe>"
      ],
      "text/plain": [
       "<IPython.core.display.HTML object>"
      ]
     },
     "metadata": {},
     "output_type": "display_data"
    }
   ],
   "source": [
    "mapper.visualize(G, \n",
    "                title='Performance Data based on Math Score and Mean of other two',\n",
    "                #custom_tooltips = performance_data['gender'].to_numpy(),\n",
    "                color_values = mean_outer_score,\n",
    "                color_function_name = 'Mean of Reading and Writing Score',\n",
    "                node_color_function=np.array(['average','std','sum','max','min']))\n",
    "\n",
    "km.jupyter.display(\"performance_math_score\" + \".html\")"
   ]
  },
  {
   "attachments": {},
   "cell_type": "markdown",
   "metadata": {},
   "source": [
    "Vemos que nuestro grafo tiene 5 componentes conexas, de las cuales 3 son singletones. Vamos a explorar la información en estas tres."
   ]
  },
  {
   "attachments": {},
   "cell_type": "markdown",
   "metadata": {},
   "source": [
    "![Graph Mapper](Mathvsothertwo.png)"
   ]
  },
  {
   "attachments": {},
   "cell_type": "markdown",
   "metadata": {},
   "source": [
    "El nodo amarillo grande, tiene como id `cube3_cluster1`."
   ]
  },
  {
   "cell_type": "code",
   "execution_count": 69,
   "metadata": {},
   "outputs": [
    {
     "name": "stdout",
     "output_type": "stream",
     "text": [
      "Este nodo cuenta con: 48 estudiantes\n"
     ]
    }
   ],
   "source": [
    "print(\"Este nodo cuenta con:\", len(G['nodes']['cube3_cluster1']), \"estudiantes\")"
   ]
  },
  {
   "cell_type": "code",
   "execution_count": 75,
   "metadata": {},
   "outputs": [],
   "source": [
    "mvstwo_cube3c1=performance_data.iloc[G['nodes']['cube3_cluster1'],:]"
   ]
  },
  {
   "attachments": {},
   "cell_type": "markdown",
   "metadata": {},
   "source": [
    "Si graficamos el score de mathematics contra el promedio de los otros dos, obtenemos lo siguiente:"
   ]
  },
  {
   "cell_type": "code",
   "execution_count": 76,
   "metadata": {},
   "outputs": [
    {
     "data": {
      "image/png": "[encoded data removed]",
      "text/plain": [
       "<Figure size 640x480 with 1 Axes>"
      ]
     },
     "metadata": {},
     "output_type": "display_data"
    }
   ],
   "source": [
    "x=mvstwo_cube3c1['math score']\n",
    "y=mean_outer_score[G['nodes']['cube3_cluster1']]\n",
    "scatter=plt.scatter(x=x,y=y,c=y,cmap='viridis')"
   ]
  },
  {
   "attachments": {},
   "cell_type": "markdown",
   "metadata": {},
   "source": [
    "Si hubiera una correlación (matemática), esta gráfica debería verse como una recta de pendiente positiva. Lo cual no es el caso.\n",
    "\n",
    "Tu puedes, comprobar esto con regresión lineal."
   ]
  },
  {
   "attachments": {},
   "cell_type": "markdown",
   "metadata": {},
   "source": [
    "Vamos a investigar que sucede con el `cube3_cluster3`."
   ]
  },
  {
   "cell_type": "code",
   "execution_count": 78,
   "metadata": {},
   "outputs": [
    {
     "data": {
      "text/html": [
       "<div>\n",
       "<style scoped>\n",
       "    .dataframe tbody tr th:only-of-type {\n",
       "        vertical-align: middle;\n",
       "    }\n",
       "\n",
       "    .dataframe tbody tr th {\n",
       "        vertical-align: top;\n",
       "    }\n",
       "\n",
       "    .dataframe thead th {\n",
       "        text-align: right;\n",
       "    }\n",
       "</style>\n",
       "<table border=\"1\" class=\"dataframe\">\n",
       "  <thead>\n",
       "    <tr style=\"text-align: right;\">\n",
       "      <th></th>\n",
       "      <th>gender</th>\n",
       "      <th>race/ethnicity</th>\n",
       "      <th>parental level of education</th>\n",
       "      <th>lunch</th>\n",
       "      <th>test preparation course</th>\n",
       "      <th>math score</th>\n",
       "      <th>reading score</th>\n",
       "      <th>writing score</th>\n",
       "    </tr>\n",
       "  </thead>\n",
       "  <tbody>\n",
       "    <tr>\n",
       "      <th>0</th>\n",
       "      <td>female</td>\n",
       "      <td>group B</td>\n",
       "      <td>bachelor's degree</td>\n",
       "      <td>standard</td>\n",
       "      <td>none</td>\n",
       "      <td>72</td>\n",
       "      <td>72</td>\n",
       "      <td>74</td>\n",
       "    </tr>\n",
       "    <tr>\n",
       "      <th>13</th>\n",
       "      <td>male</td>\n",
       "      <td>group A</td>\n",
       "      <td>some college</td>\n",
       "      <td>standard</td>\n",
       "      <td>completed</td>\n",
       "      <td>78</td>\n",
       "      <td>72</td>\n",
       "      <td>70</td>\n",
       "    </tr>\n",
       "    <tr>\n",
       "      <th>51</th>\n",
       "      <td>male</td>\n",
       "      <td>group E</td>\n",
       "      <td>associate's degree</td>\n",
       "      <td>free/reduced</td>\n",
       "      <td>completed</td>\n",
       "      <td>77</td>\n",
       "      <td>69</td>\n",
       "      <td>68</td>\n",
       "    </tr>\n",
       "    <tr>\n",
       "      <th>83</th>\n",
       "      <td>male</td>\n",
       "      <td>group E</td>\n",
       "      <td>associate's degree</td>\n",
       "      <td>standard</td>\n",
       "      <td>none</td>\n",
       "      <td>72</td>\n",
       "      <td>64</td>\n",
       "      <td>63</td>\n",
       "    </tr>\n",
       "    <tr>\n",
       "      <th>100</th>\n",
       "      <td>male</td>\n",
       "      <td>group B</td>\n",
       "      <td>some college</td>\n",
       "      <td>standard</td>\n",
       "      <td>none</td>\n",
       "      <td>79</td>\n",
       "      <td>67</td>\n",
       "      <td>67</td>\n",
       "    </tr>\n",
       "  </tbody>\n",
       "</table>\n",
       "</div>"
      ],
      "text/plain": [
       "     gender race/ethnicity parental level of education         lunch  \\\n",
       "0    female        group B           bachelor's degree      standard   \n",
       "13     male        group A                some college      standard   \n",
       "51     male        group E          associate's degree  free/reduced   \n",
       "83     male        group E          associate's degree      standard   \n",
       "100    male        group B                some college      standard   \n",
       "\n",
       "    test preparation course  math score  reading score  writing score  \n",
       "0                      none          72             72             74  \n",
       "13                completed          78             72             70  \n",
       "51                completed          77             69             68  \n",
       "83                     none          72             64             63  \n",
       "100                    none          79             67             67  "
      ]
     },
     "execution_count": 78,
     "metadata": {},
     "output_type": "execute_result"
    }
   ],
   "source": [
    "mvstwo_cube3c3=performance_data.iloc[G['nodes']['cube3_cluster3'],:]\n",
    "mvstwo_cube3c3.head()"
   ]
  },
  {
   "cell_type": "code",
   "execution_count": 79,
   "metadata": {},
   "outputs": [
    {
     "data": {
      "image/png": "[encoded data removed]",
      "text/plain": [
       "<Figure size 640x480 with 1 Axes>"
      ]
     },
     "metadata": {},
     "output_type": "display_data"
    }
   ],
   "source": [
    "x=mvstwo_cube3c3['math score']\n",
    "y=mean_outer_score[G['nodes']['cube3_cluster3']]\n",
    "scatter=plt.scatter(x=x,y=y,c=y,cmap='viridis')"
   ]
  },
  {
   "attachments": {},
   "cell_type": "markdown",
   "metadata": {},
   "source": [
    "Con esto comprobamos que no hay correlación directa entre un buen score de matemáticas contra los otros dos."
   ]
  },
  {
   "attachments": {},
   "cell_type": "markdown",
   "metadata": {},
   "source": [
    "¿Qué pasaría con la relación entre: `math score` y: <br/>\n",
    "    1. `Gender` <br/>\n",
    "    2. `Parental level of education` <br/>\n",
    "    ?\n",
    "\n",
    "Estudia si hay correlación para alguna de estas variables y el score de matemáticas."
   ]
  },
  {
   "attachments": {},
   "cell_type": "markdown",
   "metadata": {},
   "source": [
    "#### 1.2 Cambiemos de proyección\n",
    "\n",
    "Anteriormente obtuvimos información proyectando en la calificación de matemáticas, pero ¿qué pasará con nuestro grafo si proyectamos con el promedio de los scores?"
   ]
  },
  {
   "cell_type": "code",
   "execution_count": 80,
   "metadata": {},
   "outputs": [
    {
     "name": "stdout",
     "output_type": "stream",
     "text": [
      "KeplerMapper(verbose=1)\n",
      "..Composing projection pipeline of length 1:\n",
      "\tProjections: mean\n",
      "\tDistance matrices: False\n",
      "\tScalers: MinMaxScaler()\n",
      "..Projecting on data shaped (1000, 3)\n",
      "\n",
      "..Projecting data using: mean\n",
      "\n",
      "..Scaling with: MinMaxScaler()\n",
      "\n"
     ]
    }
   ],
   "source": [
    "mapper = km.KeplerMapper(verbose=1)\n",
    "projected_data = mapper.fit_transform(data, projection=\"mean\" )"
   ]
  },
  {
   "cell_type": "code",
   "execution_count": 81,
   "metadata": {},
   "outputs": [
    {
     "name": "stdout",
     "output_type": "stream",
     "text": [
      "Mapping on data shaped (1000, 3) using lens shaped (1000, 1)\n",
      "\n",
      "Creating 4 hypercubes.\n"
     ]
    },
    {
     "name": "stderr",
     "output_type": "stream",
     "text": [
      "c:\\Users\\L03088338\\AppData\\Local\\Programs\\Python\\Python310\\lib\\site-packages\\sklearn\\cluster\\_kmeans.py:870: FutureWarning: The default value of `n_init` will change from 10 to 'auto' in 1.4. Set the value of `n_init` explicitly to suppress the warning\n",
      "  warnings.warn(\n",
      "c:\\Users\\L03088338\\AppData\\Local\\Programs\\Python\\Python310\\lib\\site-packages\\sklearn\\cluster\\_kmeans.py:870: FutureWarning: The default value of `n_init` will change from 10 to 'auto' in 1.4. Set the value of `n_init` explicitly to suppress the warning\n",
      "  warnings.warn(\n",
      "c:\\Users\\L03088338\\AppData\\Local\\Programs\\Python\\Python310\\lib\\site-packages\\sklearn\\cluster\\_kmeans.py:870: FutureWarning: The default value of `n_init` will change from 10 to 'auto' in 1.4. Set the value of `n_init` explicitly to suppress the warning\n",
      "  warnings.warn(\n"
     ]
    },
    {
     "name": "stdout",
     "output_type": "stream",
     "text": [
      "\n",
      "Created 7 edges and 16 nodes in 0:00:00.574335.\n"
     ]
    },
    {
     "name": "stderr",
     "output_type": "stream",
     "text": [
      "c:\\Users\\L03088338\\AppData\\Local\\Programs\\Python\\Python310\\lib\\site-packages\\sklearn\\cluster\\_kmeans.py:870: FutureWarning: The default value of `n_init` will change from 10 to 'auto' in 1.4. Set the value of `n_init` explicitly to suppress the warning\n",
      "  warnings.warn(\n"
     ]
    }
   ],
   "source": [
    "G = mapper.map(projected_data, data, clusterer=sklearn.cluster.KMeans(n_clusters=4),cover=covering)"
   ]
  },
  {
   "attachments": {},
   "cell_type": "markdown",
   "metadata": {},
   "source": [
    "Nos interesa saber si hay alguna relación entre el promedio de los scores y el tipo de almuerzo que tienen los estudiantes.\n",
    "\n",
    "Dado que `lunch` es una variable categórica, vamos a crear un diccionario que nos permita asignarle un número a cada categoría."
   ]
  },
  {
   "cell_type": "code",
   "execution_count": 85,
   "metadata": {},
   "outputs": [],
   "source": [
    "lunch=performance_data['lunch'].unique()\n",
    "lunch\n",
    "dict_lunch={'standard':0,'free/reduced':1}\n",
    "performance_data['lunch_int']=performance_data['lunch'].map(dict_lunch)"
   ]
  },
  {
   "cell_type": "code",
   "execution_count": 86,
   "metadata": {},
   "outputs": [
    {
     "name": "stdout",
     "output_type": "stream",
     "text": [
      "Wrote visualization to: mapper_visualization_output.html\n"
     ]
    },
    {
     "name": "stderr",
     "output_type": "stream",
     "text": [
      "c:\\Users\\L03088338\\AppData\\Local\\Programs\\Python\\Python310\\lib\\site-packages\\kmapper\\visuals.py:344: RuntimeWarning: invalid value encountered in longlong_scalars\n",
      "  height = np.floor(((bar / max_bucket_value) * 100) + 0.5)\n",
      "c:\\Users\\L03088338\\AppData\\Local\\Programs\\Python\\Python310\\lib\\site-packages\\kmapper\\visuals.py:345: RuntimeWarning: invalid value encountered in longlong_scalars\n",
      "  perc = round((bar / sum_bucket_value) * 100.0, 1)\n"
     ]
    },
    {
     "data": {
      "text/html": [
       "<style>\n",
       "        .container { width:100% !important; }\n",
       "        .output_scroll {height: 800px !important;}\n",
       "        </style>"
      ],
      "text/plain": [
       "<IPython.core.display.HTML object>"
      ]
     },
     "metadata": {},
     "output_type": "display_data"
    },
    {
     "name": "stderr",
     "output_type": "stream",
     "text": [
      "C:\\Users\\L03088338\\AppData\\Roaming\\Python\\Python310\\site-packages\\IPython\\core\\display.py:431: UserWarning: Consider using IPython.display.IFrame instead\n",
      "  warnings.warn(\"Consider using IPython.display.IFrame instead\")\n"
     ]
    },
    {
     "data": {
      "text/html": [
       "<iframe src=performance_mean_score.html width=100%% height=800 frameBorder=\"0\"></iframe>"
      ],
      "text/plain": [
       "<IPython.core.display.HTML object>"
      ]
     },
     "metadata": {},
     "output_type": "display_data"
    }
   ],
   "source": [
    "mapper.visualize(G, \n",
    "                title='Performance Data based on Mean Score',\n",
    "                #custom_tooltips = performance_data['parental level of education'].to_numpy(),\n",
    "                color_values = performance_data['lunch_int'].to_numpy(),\n",
    "                color_function_name = 'Lunch type',\n",
    "                node_color_function=np.array(['average','std','sum','max','min']))\n",
    "\n",
    "km.jupyter.display(\"performance_mean_score\" + \".html\")"
   ]
  },
  {
   "attachments": {},
   "cell_type": "markdown",
   "metadata": {},
   "source": [
    "Obtendremos algo como:\n",
    "\n",
    "![Graph Mapper](Meanvslunch.png)"
   ]
  },
  {
   "attachments": {},
   "cell_type": "markdown",
   "metadata": {},
   "source": [
    "Notemos que este grafo tiene 8 componentes conexas, de las cuales 6 son singletones. Vamos a explorar la información en algunas de estas."
   ]
  },
  {
   "cell_type": "code",
   "execution_count": 87,
   "metadata": {},
   "outputs": [
    {
     "data": {
      "text/html": [
       "<div>\n",
       "<style scoped>\n",
       "    .dataframe tbody tr th:only-of-type {\n",
       "        vertical-align: middle;\n",
       "    }\n",
       "\n",
       "    .dataframe tbody tr th {\n",
       "        vertical-align: top;\n",
       "    }\n",
       "\n",
       "    .dataframe thead th {\n",
       "        text-align: right;\n",
       "    }\n",
       "</style>\n",
       "<table border=\"1\" class=\"dataframe\">\n",
       "  <thead>\n",
       "    <tr style=\"text-align: right;\">\n",
       "      <th></th>\n",
       "      <th>gender</th>\n",
       "      <th>race/ethnicity</th>\n",
       "      <th>parental level of education</th>\n",
       "      <th>lunch</th>\n",
       "      <th>test preparation course</th>\n",
       "      <th>math score</th>\n",
       "      <th>reading score</th>\n",
       "      <th>writing score</th>\n",
       "      <th>lunch_int</th>\n",
       "    </tr>\n",
       "  </thead>\n",
       "  <tbody>\n",
       "    <tr>\n",
       "      <th>8</th>\n",
       "      <td>male</td>\n",
       "      <td>group D</td>\n",
       "      <td>high school</td>\n",
       "      <td>free/reduced</td>\n",
       "      <td>completed</td>\n",
       "      <td>64</td>\n",
       "      <td>64</td>\n",
       "      <td>67</td>\n",
       "      <td>1</td>\n",
       "    </tr>\n",
       "    <tr>\n",
       "      <th>20</th>\n",
       "      <td>male</td>\n",
       "      <td>group D</td>\n",
       "      <td>high school</td>\n",
       "      <td>standard</td>\n",
       "      <td>none</td>\n",
       "      <td>66</td>\n",
       "      <td>69</td>\n",
       "      <td>63</td>\n",
       "      <td>0</td>\n",
       "    </tr>\n",
       "    <tr>\n",
       "      <th>21</th>\n",
       "      <td>female</td>\n",
       "      <td>group B</td>\n",
       "      <td>some college</td>\n",
       "      <td>free/reduced</td>\n",
       "      <td>completed</td>\n",
       "      <td>65</td>\n",
       "      <td>75</td>\n",
       "      <td>70</td>\n",
       "      <td>1</td>\n",
       "    </tr>\n",
       "    <tr>\n",
       "      <th>27</th>\n",
       "      <td>female</td>\n",
       "      <td>group C</td>\n",
       "      <td>bachelor's degree</td>\n",
       "      <td>standard</td>\n",
       "      <td>none</td>\n",
       "      <td>67</td>\n",
       "      <td>69</td>\n",
       "      <td>75</td>\n",
       "      <td>0</td>\n",
       "    </tr>\n",
       "    <tr>\n",
       "      <th>29</th>\n",
       "      <td>female</td>\n",
       "      <td>group D</td>\n",
       "      <td>master's degree</td>\n",
       "      <td>standard</td>\n",
       "      <td>none</td>\n",
       "      <td>62</td>\n",
       "      <td>70</td>\n",
       "      <td>75</td>\n",
       "      <td>0</td>\n",
       "    </tr>\n",
       "  </tbody>\n",
       "</table>\n",
       "</div>"
      ],
      "text/plain": [
       "    gender race/ethnicity parental level of education         lunch  \\\n",
       "8     male        group D                 high school  free/reduced   \n",
       "20    male        group D                 high school      standard   \n",
       "21  female        group B                some college  free/reduced   \n",
       "27  female        group C           bachelor's degree      standard   \n",
       "29  female        group D             master's degree      standard   \n",
       "\n",
       "   test preparation course  math score  reading score  writing score  \\\n",
       "8                completed          64             64             67   \n",
       "20                    none          66             69             63   \n",
       "21               completed          65             75             70   \n",
       "27                    none          67             69             75   \n",
       "29                    none          62             70             75   \n",
       "\n",
       "    lunch_int  \n",
       "8           1  \n",
       "20          0  \n",
       "21          1  \n",
       "27          0  \n",
       "29          0  "
      ]
     },
     "execution_count": 87,
     "metadata": {},
     "output_type": "execute_result"
    }
   ],
   "source": [
    "meanvslunch_cube2c1=performance_data.iloc[G['nodes']['cube2_cluster1'],:]\n",
    "meanvslunch_cube2c1.head()"
   ]
  },
  {
   "attachments": {},
   "cell_type": "markdown",
   "metadata": {},
   "source": [
    "¿Qué podemos decir de la relación entre el promedio de los scores y: <br/>\n",
    "    1. `Test preparation` <br/>\n",
    "    2. `Parental level of education` <br/>\n",
    "    ?\n",
    "    "
   ]
  }
 ],
 "metadata": {
  "kernelspec": {
   "display_name": "Python 3",
   "language": "python",
   "name": "python3"
  },
  "language_info": {
   "codemirror_mode": {
    "name": "ipython",
    "version": 3
   },
   "file_extension": ".py",
   "mimetype": "text/x-python",
   "name": "python",
   "nbconvert_exporter": "python",
   "pygments_lexer": "ipython3",
   "version": "3.10.6"
  },
  "orig_nbformat": 4
 },
 "nbformat": 4,
 "nbformat_minor": 2
}
