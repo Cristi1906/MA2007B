{
 "cells": [
  {
   "cell_type": "code",
   "execution_count": 7,
   "metadata": {},
   "outputs": [
    {
     "ename": "SyntaxError",
     "evalue": "invalid syntax. Perhaps you forgot a comma? (377506969.py, line 1)",
     "output_type": "error",
     "traceback": [
      "\u001b[1;36m  Cell \u001b[1;32mIn[7], line 1\u001b[1;36m\u001b[0m\n\u001b[1;33m    A={{5 -2 3 0},{-3 9 1 -2},{2 -1 -7 1},{ 4 3 -5 7}};\u001b[0m\n\u001b[1;37m        ^\u001b[0m\n\u001b[1;31mSyntaxError\u001b[0m\u001b[1;31m:\u001b[0m invalid syntax. Perhaps you forgot a comma?\n"
     ]
    }
   ],
   "source": [
    "\n",
    "A={{5 -2 3 0},{-3 9 1 -2},{2 -1 -7 1},{ 4 3 -5 7}};\n",
    "b=[-1 2 3 0.5];\n",
    "x=[0 0 0 0];\n",
    "n=size(x,1);\n",
    "normVal=Inf; \n",
    "%% \n",
    "% * _*Tolerence for method*_\n",
    "tol=1e-5; itr=0;\n",
    "%% Algorithm: Gauss Jacobi Method\n",
    "%%\n",
    "while normVal>tol\n",
    "    x_old=x;\n",
    "    \n",
    "    for i=1:n\n",
    "        \n",
    "        sigma=0;\n",
    "        \n",
    "        for j=1:i-1\n",
    "                sigma=sigma+A(i,j)*x(j);\n",
    "        end\n",
    "        \n",
    "        for j=i+1:n\n",
    "                sigma=sigma+A(i,j)*x_old(j);\n",
    "        end\n",
    "        \n",
    "        x(i)=(1/A(i,i))*(b(i)-sigma);\n",
    "    end\n",
    "    \n",
    "    itr=itr+1;\n",
    "    normVal=norm(x_old-x);\n",
    "end\n",
    "%%\n",
    "fprintf('Solution of the system is : \\n%f\\n%f\\n%f\\n%f in %d iterations',x,itr);"
   ]
  }
 ],
 "metadata": {
  "kernelspec": {
   "display_name": "Python 3",
   "language": "python",
   "name": "python3"
  },
  "language_info": {
   "codemirror_mode": {
    "name": "ipython",
    "version": 3
   },
   "file_extension": ".py",
   "mimetype": "text/x-python",
   "name": "python",
   "nbconvert_exporter": "python",
   "pygments_lexer": "ipython3",
   "version": "3.10.6 (tags/v3.10.6:9c7b4bd, Aug  1 2022, 21:53:49) [MSC v.1932 64 bit (AMD64)]"
  },
  "orig_nbformat": 4,
  "vscode": {
   "interpreter": {
    "hash": "c937e1fda9f955598d1e9ce2f0a8b833dc3f319bbe96c6232a06f21c3925d963"
   }
  }
 },
 "nbformat": 4,
 "nbformat_minor": 2
}
