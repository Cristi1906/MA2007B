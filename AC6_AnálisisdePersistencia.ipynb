{
 "cells": [
  {
   "attachments": {},
   "cell_type": "markdown",
   "metadata": {},
   "source": [
    "# Diagramas de Persistencia\n",
    "\n",
    "Los diagramas de persistencia nos indican las propiedades topológicas (de nuestra base de datos) que persisten cuando hacemos variar el parámetro de filtración. En este caso, el parámetro de filtración es el radio de las bolas abiertas en nuestra cubierta (directamente relacionada con el complejo de Rips).\n",
    "\n",
    "Decimos que una propiedad topológica nace cuando aparece por primera vez en el diagrama de persistencia y muere cuando desaparece. La duración de una propiedad topológica es el tiempo que vive en el diagrama de persistencia.\n",
    "\n",
    "Mientras más alejada sea la muerte (o no exista muerte) de la nacimiento, la propiedad topológica es intrinseca a la base de datos.\n",
    "\n",
    "Es importante mencionar que una propiedad topológica puede nacer y morir en el mismo instante de filtración, lo que significa que la propiedad topológica no es intrínseca a la base de datos. Pero una propiedad topológica no puede morir antes de nacer, por lo que parte inferior del rectangulo de la persistencia siempre es cero o no se toma en cuenta.\n",
    "\n",
    "Veamos esto con algunos ejemplos:\n",
    "\n",
    "Componentes conexas: https://gjkoplik.github.io/pers-hom-examples/0d_pers_2d_data_widget.html\n",
    "\n",
    "Hoyo de dimensión 1: https://gjkoplik.github.io/pers-hom-examples/1d_pers_2d_data_widget.html "
   ]
  },
  {
   "attachments": {},
   "cell_type": "markdown",
   "metadata": {},
   "source": [
    "# Intuición con Componentes Conexas\n",
    "\n",
    "El número de componentes conexas persistentes indicará el número de grupos de datos que son intrínsecos a la base de datos. En el ejemplo siguiente, veremos que hay 3 componentes conexas persistentes, lo que significa que hay 3 grupos de datos que son intrínsecos a la base de datos."
   ]
  },
  {
   "cell_type": "code",
   "execution_count": 1,
   "metadata": {},
   "outputs": [
    {
     "ename": "SyntaxError",
     "evalue": "invalid syntax (3941235133.py, line 1)",
     "output_type": "error",
     "traceback": [
      "\u001b[1;36m  Cell \u001b[1;32mIn[1], line 1\u001b[1;36m\u001b[0m\n\u001b[1;33m    import scikit-tda\u001b[0m\n\u001b[1;37m                 ^\u001b[0m\n\u001b[1;31mSyntaxError\u001b[0m\u001b[1;31m:\u001b[0m invalid syntax\n"
     ]
    }
   ],
   "source": []
  },
  {
   "cell_type": "code",
   "execution_count": 9,
   "metadata": {},
   "outputs": [],
   "source": [
    "import numpy as np\n",
    "import scipy as sp\n",
    "import pandas as pd\n",
    "import matplotlib.pyplot as plt\n",
    "import tadasets\n",
    "import ripser\n",
    "import persim\n",
    "import gudhi as gd\n",
    "import plotly.graph_objects as go\n",
    "import numpy as np\n",
    "import matplotlib.pyplot as plt"
   ]
  },
  {
   "cell_type": "code",
   "execution_count": 6,
   "metadata": {},
   "outputs": [
    {
     "data": {
      "image/png": "[encoded data removed]",
      "text/plain": [
       "<Figure size 640x480 with 1 Axes>"
      ]
     },
     "metadata": {},
     "output_type": "display_data"
    }
   ],
   "source": [
    "#Primero demos un conjunto de puntos simulados en 3 grupos\n",
    "X1 = np.random.multivariate_normal([0,0],np.array([[1,0],[0,1]]),size = 10)\n",
    "X2 = np.random.multivariate_normal([7,0],np.array([[1,0],[0,0.2]]),size = 8)\n",
    "X3 = np.random.multivariate_normal([0,11],np.array([[1,0],[0,1]]),size = 12)\n",
    "X = np.concatenate((X1,X2,X3))\n",
    "\n",
    "plt.plot(X[:,0],X[:,1],'r+')\n",
    "plt.axis('equal')\n",
    "plt.show()"
   ]
  },
  {
   "attachments": {},
   "cell_type": "markdown",
   "metadata": {},
   "source": [
    "### ¿Qué podemos decir de esta base de datos a primera vista?\n",
    "\n",
    "1. ¿Cuántos grupos de datos (componentes conexas) intuyes que hay?\n",
    "2. ¿Cuénta con huecos? ¿De qué dimensión?\n",
    "3. Si existen huecos, ¿podemos decir si estos datos son recurrentes?\n",
    "\n"
   ]
  },
  {
   "cell_type": "code",
   "execution_count": 24,
   "metadata": {},
   "outputs": [],
   "source": [
    "# Vamos a aumentar la dimensión de este array para utilizar la función rips_graph.\n",
    "Xaug=np.array([[X[i,0],X[i,1],0] for i in range(len(X))])"
   ]
  },
  {
   "cell_type": "code",
   "execution_count": 26,
   "metadata": {},
   "outputs": [],
   "source": [
    "\n",
    "def rips_graph(points,mel):\n",
    "    \"\"\"\n",
    "    Generate the Vietoris-Rips complex on the given set of points in 3D.\n",
    "    Only simplexes up to dimension 2 (2-skeleto) are computed.\n",
    "    The mel parameter denotes the distance cut-off value.\n",
    "    \"\"\"\n",
    "    rc = gd.RipsComplex(points=points,max_edge_length=mel)\n",
    "    st = rc.create_simplex_tree(max_dimension=3)\n",
    "    triangles = np.array([s[0] for s in st.get_skeleton(2) if len(s[0])==3])\n",
    "    edges = []\n",
    "    for s in st.get_skeleton(1):\n",
    "        e = s[0]\n",
    "        if len(e) == 2:\n",
    "            edges.append(points[[e[0],e[1]]])\n",
    "            \n",
    "    f2 = go.Mesh3d(\n",
    "        x=points[:,0],\n",
    "        y=points[:,1],\n",
    "        z=points[:,2],\n",
    "        i = triangles[:,0],\n",
    "        j = triangles[:,1],\n",
    "        k = triangles[:,2],\n",
    "    )\n",
    "    f0 = go.Scatter3d(x=points[:,0], y=points[:,1],z=points[:,2], mode=\"markers\")\n",
    "    data = [f2, f0]\n",
    "# Plot edges\n",
    "    for pts in edges:\n",
    "        seg = go.Scatter3d(x=pts[:,0],y=pts[:,1],z=pts[:,2],mode=\"lines\",line=dict(color='green'))\n",
    "        data.append(seg)\n",
    "    fig = go.Figure(data=data,layout=dict(showlegend=False))\n",
    "    fig.show()"
   ]
  },
  {
   "attachments": {},
   "cell_type": "markdown",
   "metadata": {},
   "source": [
    "### Ejemplo:\n",
    "\n",
    "Realiza el plot del complejo de Rips del conjunto de datos $X,$ utilizando diferentes radios: \n",
    "1. $r=1.$\n",
    "2. $r=2.$\n",
    "3. $r=10.$\n",
    "\n",
    "Dependiendo de los radios, ¿qué observas? ¿Qué puedes decir de la base de datos (propiedades topológicas)?\n",
    "\n",
    "(Responde aquí)"
   ]
  },
  {
   "cell_type": "code",
   "execution_count": null,
   "metadata": {},
   "outputs": [],
   "source": [
    "\n",
    "\n",
    "rips_graph(#tusdatosaquí,#tuparámetroderadioaquí\n",
    "           )"
   ]
  },
  {
   "attachments": {},
   "cell_type": "markdown",
   "metadata": {},
   "source": [
    "## Vamos a hacer el análisis de Persistencia\n",
    "\n",
    "Vamos a comparar lo observado anteriormente con el diagrama de persistencia. Para esto, vamos a utilizar la librería \"gudhi\" de Python."
   ]
  },
  {
   "attachments": {},
   "cell_type": "markdown",
   "metadata": {},
   "source": [
    "Vamos  utilizar otro método para construir nuestro complejo de Rips utilizando una matriz de distancia que encapsula la información de las distancias para dos puntos diferentes en nuestra nube de puntos."
   ]
  },
  {
   "cell_type": "code",
   "execution_count": 33,
   "metadata": {},
   "outputs": [],
   "source": [
    "from scipy.spatial import distance_matrix\n",
    "DX=distance_matrix(X,X,2)"
   ]
  },
  {
   "attachments": {},
   "cell_type": "markdown",
   "metadata": {},
   "source": [
    "Ahora construimos nuestro arbol de complejos de Rips utilizando la matriz de distancias y max_edge_lenght nos indica que tan grande será el radio de las bolas abiertas."
   ]
  },
  {
   "cell_type": "code",
   "execution_count": 53,
   "metadata": {},
   "outputs": [],
   "source": [
    "skeletonX=gd.RipsComplex(\n",
    "    distance_matrix = DX, \n",
    "    max_edge_length = 2\n",
    ") \n",
    "\n",
    "# Aquí vamos a pedir que nuestra complejo sea máximo de dimensión 1 (o sea, sólo tenga vértices y aristas)\n",
    "Rips_simplex_tree_X = skeletonX.create_simplex_tree(max_dimension = 1)"
   ]
  },
  {
   "attachments": {},
   "cell_type": "markdown",
   "metadata": {},
   "source": [
    "Vamos a calcular la persistencia de las propiedades topológicas ($\\beta_0$ y $\\beta_1$) de nuestros complejos de Rips en el árbol (filtración).\n",
    "\n",
    "Veamos los primeros 10 filas, ¿Qué observas?"
   ]
  },
  {
   "cell_type": "code",
   "execution_count": 54,
   "metadata": {},
   "outputs": [
    {
     "data": {
      "text/plain": [
       "[(0, (0.0, inf)),\n",
       " (0, (0.0, inf)),\n",
       " (0, (0.0, inf)),\n",
       " (0, (0.0, 1.602619370220775)),\n",
       " (0, (0.0, 1.5437373000944692)),\n",
       " (0, (0.0, 1.0970412766920588)),\n",
       " (0, (0.0, 1.069277438639664)),\n",
       " (0, (0.0, 0.9953270725346022)),\n",
       " (0, (0.0, 0.9933922545625121)),\n",
       " (0, (0.0, 0.9760479627148867)),\n",
       " (0, (0.0, 0.928141836052923)),\n",
       " (0, (0.0, 0.8091521136936792)),\n",
       " (0, (0.0, 0.6877798044033892)),\n",
       " (0, (0.0, 0.6708628393142443)),\n",
       " (0, (0.0, 0.6565983059564829)),\n",
       " (0, (0.0, 0.6243894070630781)),\n",
       " (0, (0.0, 0.6120337762257535)),\n",
       " (0, (0.0, 0.5519875649660325)),\n",
       " (0, (0.0, 0.5190877443343644)),\n",
       " (0, (0.0, 0.5148024321861416))]"
      ]
     },
     "execution_count": 54,
     "metadata": {},
     "output_type": "execute_result"
    }
   ],
   "source": [
    "Barcodes_Rips_X = Rips_simplex_tree_X.persistence()\n",
    "Barcodes_Rips_X[0:20]"
   ]
  },
  {
   "cell_type": "code",
   "execution_count": 55,
   "metadata": {},
   "outputs": [
    {
     "data": {
      "image/png": "[encoded data removed]",
      "text/plain": [
       "<Figure size 640x480 with 1 Axes>"
      ]
     },
     "metadata": {},
     "output_type": "display_data"
    }
   ],
   "source": [
    "gd.plot_persistence_diagram(Barcodes_Rips_X);"
   ]
  },
  {
   "attachments": {},
   "cell_type": "markdown",
   "metadata": {},
   "source": [
    "Notemos que en nuestro gráfico de persistencia, hay tres puntitos rojos que duraron mucho más tiempo en comparación que los otros. Esto nos indica que hay tres componentes conexas persistentes en nuestra base de datos.\n",
    "\n",
    "Por lo tanto, si quisieramos hacer un clustering de nuestros datos, podríamos hacerlo en tres grupos y con esto garantizar que los datos en cada cluster van a estar intrínsecamente relacionados."
   ]
  },
  {
   "attachments": {},
   "cell_type": "markdown",
   "metadata": {},
   "source": [
    "## Otra paquetería para lo mismo\n",
    "\n",
    "Ahora utilizaremos ripser.ripser que es una paquetería de C++ que nos permite calcular la persistencia de las propiedades topológicas de nuestros complejos de Rips de manera eficiente (con algoritmos especializados).\n",
    "\n",
    "La diferencia entre el método de gudhi y ripser es que el método de gudhi calcula la persistencia de las propiedades topológicas de una filtración comenzando desde un valor dado (un radio $r$ inicial para construir la filtración) y en ripser no es necesario inicializar esto."
   ]
  },
  {
   "cell_type": "code",
   "execution_count": 27,
   "metadata": {},
   "outputs": [],
   "source": [
    "def diagram_sizes(dgms):\n",
    "    return \", \".join([f\"|$H_{i}$|={len(d)}\" for i, d in enumerate(dgms)])   #Aquí almacenamos la cantidad de generadores de cada espacio de homología. Estas cantidades se muestran en la impresión del mismo (puedes omitirlo si gustas, por supuesto haciendo los cambios necesarios en el código del diagrama)"
   ]
  },
  {
   "attachments": {},
   "cell_type": "markdown",
   "metadata": {},
   "source": [
    "Vamos a construir el gráfico de persistencia para el mismo conjunto de datos con ripser suponiendo que nuestro complejo simplicial es de dimensión 2, y veamos si es necesaria esta suposición o no."
   ]
  },
  {
   "cell_type": "code",
   "execution_count": 58,
   "metadata": {},
   "outputs": [
    {
     "data": {
      "image/png": "[encoded data removed]",
      "text/plain": [
       "<Figure size 640x480 with 1 Axes>"
      ]
     },
     "metadata": {},
     "output_type": "display_data"
    }
   ],
   "source": [
    "dgm_X = ripser.ripser(X,maxdim=2)['dgms'] #Aquí se construye y grafica el diagrama de persistencia (en este caso, de los puntos simulados). maxdim es la dimensión máxima en homología que quieres que se muestre.\n",
    "persim.plot_diagrams(\n",
    "    dgm_X, \n",
    "    show=True, \n",
    "    title=f\"Datos Simulados\\n{diagram_sizes(dgm_X)}\"\n",
    ") "
   ]
  },
  {
   "attachments": {},
   "cell_type": "markdown",
   "metadata": {},
   "source": [
    "#### ¿Fue necesaria nuestra suposición de que nuestro complejo de Rips era de dimensión 2?\n",
    "\n",
    "(Tu respuesta aquí)"
   ]
  },
  {
   "attachments": {},
   "cell_type": "markdown",
   "metadata": {},
   "source": [
    "# Analicemos un circulo topológico\n",
    "\n",
    "Veamos como se ve un conjunto de datos circular topológico."
   ]
  },
  {
   "cell_type": "code",
   "execution_count": 31,
   "metadata": {},
   "outputs": [],
   "source": [
    "import math\n",
    "from random import random\n",
    "def generate_circle(dim,n, radius, max_noise):\n",
    "    \"\"\"\n",
    "    Generate n points on a 1-sphere with the center in the point (0,0) \n",
    "    with the given radius. \n",
    "    \n",
    "    Noise is added so that the distance from\n",
    "    the generated point to some point on the sphere does not\n",
    "    exceed max_noise parameter.\n",
    "    \n",
    "    Returns the list of generated points.    \n",
    "    \"\"\"\n",
    "    points = []\n",
    "    if dim==3:\n",
    "        for i in range(n):\n",
    "            anglet = 2 * math.pi * random()\n",
    "            anglep = 2* math.pi *random()\n",
    "            noise = max_noise * random()\n",
    "            r = radius * (1 + noise)\n",
    "            point = [r * math.cos(anglet)*math.cos(anglep), r * math.sin(anglet)*math.cos(anglep),r*math.sin(anglep)]\n",
    "            points.append(point)\n",
    "    if dim==2:\n",
    "        for i in range(n):\n",
    "            anglet = 2 * math.pi * random()\n",
    "            noise = max_noise * random()\n",
    "            r = radius * (1 + noise)\n",
    "            point = [r * math.cos(anglet), r * math.sin(anglet),0]\n",
    "            points.append(point)\n",
    "    return np.array(points)"
   ]
  },
  {
   "cell_type": "code",
   "execution_count": 33,
   "metadata": {},
   "outputs": [
    {
     "data": {
      "application/vnd.plotly.v1+json": {
       "config": {
        "plotlyServerURL": "https://plot.ly"
       },
       "data": [
        {
         "mode": "markers",
         "type": "scatter3d",
         "x": [
          14.764562359035011,
          14.941004548171161,
          -4.828212356741919,
          -16.648828651188772,
          15.55770416703918,
          9.752670066873838,
          1.2773084775537122,
          7.706097595275966,
          14.295656848023457,
          -17.476829346024648,
          -8.894380150194849,
          -3.2040921066694286,
          -14.6880876155847,
          -11.238868219715368,
          -6.409340732913126,
          5.927510992142545,
          -12.521185360020928,
          -5.653919752947795,
          -14.475179106282619,
          -3.782288946813746,
          1.5871898023774602,
          -8.369060786767548,
          -2.268954942182867,
          10.36190393739078,
          -14.576406648426795,
          -17.959678817606495,
          -5.687192044813804,
          7.636303108122729,
          -9.527374180022209,
          5.664059508559022,
          8.067563303809921,
          13.008890811140319,
          -3.8135900107962626,
          -1.262367382649869,
          14.824039846090171,
          11.335354155467106,
          -1.3734522727735063,
          -16.477031510488132,
          14.265144921873283,
          -8.990948234082436,
          0.3724250985613961,
          9.773804777147209,
          17.48795568848659,
          4.10435926386655,
          6.310601390102687,
          4.396910217393308,
          -13.960156085641733,
          0.37940629515644203,
          1.7982379431439806,
          -17.25912467011143,
          9.463949644746553,
          12.849969218855078,
          -12.065307164150958,
          10.442645999468056,
          13.093066476691767,
          8.849895069130993,
          -7.962073745943725,
          12.293895014892367,
          8.435531833353576,
          4.304211356484234,
          10.034751204112853,
          1.4216086115193831,
          0.7813997199577233,
          8.808965898840794,
          19.319601746928697,
          10.719222016436145,
          -14.857978567019615,
          -16.774363978385644,
          1.4542883744932982,
          8.382865902156862,
          -12.312678405796367,
          13.090778987944413,
          -1.3537486607950546,
          -9.062423336954478,
          9.542203603947689,
          12.106880872847455,
          -15.39209979445462,
          10.183044138594836,
          9.232247824678085,
          -9.711888508826117,
          -2.041274471374121,
          -15.55370394533692,
          8.840659479208968,
          0.6615840974768283,
          -15.63542933819533,
          -10.483244601871402,
          8.86383684563233,
          7.62748391491635,
          6.458159430394712,
          -5.512725639716638,
          18.646737608311117,
          -0.6589807900286175,
          8.347770249307706,
          5.7526675958527855,
          10.592091210678268,
          -3.771989052611233,
          -19.003243558902167,
          -10.456829543202,
          -9.162091312114304,
          9.29108893306473
         ],
         "y": [
          -1.3396878251994169,
          -7.7651418549977,
          10.221676142360877,
          -5.462951272748867,
          -9.821171808445746,
          -6.037980834885931,
          -17.860155170228193,
          -15.483786337648164,
          10.003058477118204,
          9.473839220619537,
          5.237448134881219,
          -14.110368612093005,
          -0.9583095933400294,
          -5.244616941759848,
          13.760580212365314,
          -18.086198962434338,
          6.460752876097251,
          -12.302154216938792,
          -0.4186356326225575,
          -12.48232674237745,
          -19.334727392142835,
          -5.709999247561716,
          14.184994846903457,
          -5.628392874843472,
          -13.215104303542333,
          -3.0858421319962557,
          -8.242810664599194,
          -15.50766560448488,
          10.536404944020564,
          -11.092496239210481,
          -9.780553919189341,
          -9.911936783913749,
          12.76033843535074,
          -13.927394667926496,
          -10.06707738568726,
          2.1227148807673544,
          18.51492222118429,
          -10.511567890952739,
          -1.2492288215035503,
          -11.918299942081804,
          -18.081185051789614,
          10.022826123879227,
          -4.501269315178983,
          -15.019160966025105,
          -16.969294128905496,
          -14.57365343735211,
          -11.23614038688403,
          -10.971920009341028,
          19.78799650669248,
          6.88251430238242,
          9.256529551315506,
          -7.771353603253257,
          -9.763403616139879,
          9.729112912920257,
          13.76784749144722,
          -9.53636672031747,
          -16.87488334136323,
          -5.404711898871186,
          7.743459514289439,
          -13.009316778656308,
          6.71044511886984,
          -10.12962990174534,
          17.172717583934826,
          7.97574612161551,
          -0.9575798149987296,
          -8.618094048889885,
          3.7709530324000013,
          -2.2824249162516757,
          -10.885032826037916,
          -11.638941657496217,
          7.573117485826503,
          11.952844100958083,
          13.972699221188238,
          -12.609189952907633,
          -13.90883841064518,
          0.3213794512895586,
          -8.240363901257824,
          1.2152107542081814,
          8.943287701272757,
          14.017701009184178,
          19.097464382582334,
          1.5897068443376141,
          -6.6390210973756485,
          -19.42039229756667,
          -2.742546334512239,
          8.802271909258636,
          -8.90603277622592,
          -8.18033455598707,
          -9.436050885723654,
          9.442511836412512,
          5.293003061719815,
          -10.188918419378265,
          5.753849426696446,
          -12.079448639653718,
          -8.254229567062145,
          -14.279032525688084,
          4.029700025884596,
          -9.553873946723044,
          15.14777623213557,
          7.359129945045685
         ],
         "z": [
          0,
          0,
          0,
          0,
          0,
          0,
          0,
          0,
          0,
          0,
          0,
          0,
          0,
          0,
          0,
          0,
          0,
          0,
          0,
          0,
          0,
          0,
          0,
          0,
          0,
          0,
          0,
          0,
          0,
          0,
          0,
          0,
          0,
          0,
          0,
          0,
          0,
          0,
          0,
          0,
          0,
          0,
          0,
          0,
          0,
          0,
          0,
          0,
          0,
          0,
          0,
          0,
          0,
          0,
          0,
          0,
          0,
          0,
          0,
          0,
          0,
          0,
          0,
          0,
          0,
          0,
          0,
          0,
          0,
          0,
          0,
          0,
          0,
          0,
          0,
          0,
          0,
          0,
          0,
          0,
          0,
          0,
          0,
          0,
          0,
          0,
          0,
          0,
          0,
          0,
          0,
          0,
          0,
          0,
          0,
          0,
          0,
          0,
          0,
          0
         ]
        }
       ],
       "layout": {
        "template": {
         "data": {
          "bar": [
           {
            "error_x": {
             "color": "#2a3f5f"
            },
            "error_y": {
             "color": "#2a3f5f"
            },
            "marker": {
             "line": {
              "color": "#E5ECF6",
              "width": 0.5
             },
             "pattern": {
              "fillmode": "overlay",
              "size": 10,
              "solidity": 0.2
             }
            },
            "type": "bar"
           }
          ],
          "barpolar": [
           {
            "marker": {
             "line": {
              "color": "#E5ECF6",
              "width": 0.5
             },
             "pattern": {
              "fillmode": "overlay",
              "size": 10,
              "solidity": 0.2
             }
            },
            "type": "barpolar"
           }
          ],
          "carpet": [
           {
            "aaxis": {
             "endlinecolor": "#2a3f5f",
             "gridcolor": "white",
             "linecolor": "white",
             "minorgridcolor": "white",
             "startlinecolor": "#2a3f5f"
            },
            "baxis": {
             "endlinecolor": "#2a3f5f",
             "gridcolor": "white",
             "linecolor": "white",
             "minorgridcolor": "white",
             "startlinecolor": "#2a3f5f"
            },
            "type": "carpet"
           }
          ],
          "choropleth": [
           {
            "colorbar": {
             "outlinewidth": 0,
             "ticks": ""
            },
            "type": "choropleth"
           }
          ],
          "contour": [
           {
            "colorbar": {
             "outlinewidth": 0,
             "ticks": ""
            },
            "colorscale": [
             [
              0,
              "#0d0887"
             ],
             [
              0.1111111111111111,
              "#46039f"
             ],
             [
              0.2222222222222222,
              "#7201a8"
             ],
             [
              0.3333333333333333,
              "#9c179e"
             ],
             [
              0.4444444444444444,
              "#bd3786"
             ],
             [
              0.5555555555555556,
              "#d8576b"
             ],
             [
              0.6666666666666666,
              "#ed7953"
             ],
             [
              0.7777777777777778,
              "#fb9f3a"
             ],
             [
              0.8888888888888888,
              "#fdca26"
             ],
             [
              1,
              "#f0f921"
             ]
            ],
            "type": "contour"
           }
          ],
          "contourcarpet": [
           {
            "colorbar": {
             "outlinewidth": 0,
             "ticks": ""
            },
            "type": "contourcarpet"
           }
          ],
          "heatmap": [
           {
            "colorbar": {
             "outlinewidth": 0,
             "ticks": ""
            },
            "colorscale": [
             [
              0,
              "#0d0887"
             ],
             [
              0.1111111111111111,
              "#46039f"
             ],
             [
              0.2222222222222222,
              "#7201a8"
             ],
             [
              0.3333333333333333,
              "#9c179e"
             ],
             [
              0.4444444444444444,
              "#bd3786"
             ],
             [
              0.5555555555555556,
              "#d8576b"
             ],
             [
              0.6666666666666666,
              "#ed7953"
             ],
             [
              0.7777777777777778,
              "#fb9f3a"
             ],
             [
              0.8888888888888888,
              "#fdca26"
             ],
             [
              1,
              "#f0f921"
             ]
            ],
            "type": "heatmap"
           }
          ],
          "heatmapgl": [
           {
            "colorbar": {
             "outlinewidth": 0,
             "ticks": ""
            },
            "colorscale": [
             [
              0,
              "#0d0887"
             ],
             [
              0.1111111111111111,
              "#46039f"
             ],
             [
              0.2222222222222222,
              "#7201a8"
             ],
             [
              0.3333333333333333,
              "#9c179e"
             ],
             [
              0.4444444444444444,
              "#bd3786"
             ],
             [
              0.5555555555555556,
              "#d8576b"
             ],
             [
              0.6666666666666666,
              "#ed7953"
             ],
             [
              0.7777777777777778,
              "#fb9f3a"
             ],
             [
              0.8888888888888888,
              "#fdca26"
             ],
             [
              1,
              "#f0f921"
             ]
            ],
            "type": "heatmapgl"
           }
          ],
          "histogram": [
           {
            "marker": {
             "pattern": {
              "fillmode": "overlay",
              "size": 10,
              "solidity": 0.2
             }
            },
            "type": "histogram"
           }
          ],
          "histogram2d": [
           {
            "colorbar": {
             "outlinewidth": 0,
             "ticks": ""
            },
            "colorscale": [
             [
              0,
              "#0d0887"
             ],
             [
              0.1111111111111111,
              "#46039f"
             ],
             [
              0.2222222222222222,
              "#7201a8"
             ],
             [
              0.3333333333333333,
              "#9c179e"
             ],
             [
              0.4444444444444444,
              "#bd3786"
             ],
             [
              0.5555555555555556,
              "#d8576b"
             ],
             [
              0.6666666666666666,
              "#ed7953"
             ],
             [
              0.7777777777777778,
              "#fb9f3a"
             ],
             [
              0.8888888888888888,
              "#fdca26"
             ],
             [
              1,
              "#f0f921"
             ]
            ],
            "type": "histogram2d"
           }
          ],
          "histogram2dcontour": [
           {
            "colorbar": {
             "outlinewidth": 0,
             "ticks": ""
            },
            "colorscale": [
             [
              0,
              "#0d0887"
             ],
             [
              0.1111111111111111,
              "#46039f"
             ],
             [
              0.2222222222222222,
              "#7201a8"
             ],
             [
              0.3333333333333333,
              "#9c179e"
             ],
             [
              0.4444444444444444,
              "#bd3786"
             ],
             [
              0.5555555555555556,
              "#d8576b"
             ],
             [
              0.6666666666666666,
              "#ed7953"
             ],
             [
              0.7777777777777778,
              "#fb9f3a"
             ],
             [
              0.8888888888888888,
              "#fdca26"
             ],
             [
              1,
              "#f0f921"
             ]
            ],
            "type": "histogram2dcontour"
           }
          ],
          "mesh3d": [
           {
            "colorbar": {
             "outlinewidth": 0,
             "ticks": ""
            },
            "type": "mesh3d"
           }
          ],
          "parcoords": [
           {
            "line": {
             "colorbar": {
              "outlinewidth": 0,
              "ticks": ""
             }
            },
            "type": "parcoords"
           }
          ],
          "pie": [
           {
            "automargin": true,
            "type": "pie"
           }
          ],
          "scatter": [
           {
            "fillpattern": {
             "fillmode": "overlay",
             "size": 10,
             "solidity": 0.2
            },
            "type": "scatter"
           }
          ],
          "scatter3d": [
           {
            "line": {
             "colorbar": {
              "outlinewidth": 0,
              "ticks": ""
             }
            },
            "marker": {
             "colorbar": {
              "outlinewidth": 0,
              "ticks": ""
             }
            },
            "type": "scatter3d"
           }
          ],
          "scattercarpet": [
           {
            "marker": {
             "colorbar": {
              "outlinewidth": 0,
              "ticks": ""
             }
            },
            "type": "scattercarpet"
           }
          ],
          "scattergeo": [
           {
            "marker": {
             "colorbar": {
              "outlinewidth": 0,
              "ticks": ""
             }
            },
            "type": "scattergeo"
           }
          ],
          "scattergl": [
           {
            "marker": {
             "colorbar": {
              "outlinewidth": 0,
              "ticks": ""
             }
            },
            "type": "scattergl"
           }
          ],
          "scattermapbox": [
           {
            "marker": {
             "colorbar": {
              "outlinewidth": 0,
              "ticks": ""
             }
            },
            "type": "scattermapbox"
           }
          ],
          "scatterpolar": [
           {
            "marker": {
             "colorbar": {
              "outlinewidth": 0,
              "ticks": ""
             }
            },
            "type": "scatterpolar"
           }
          ],
          "scatterpolargl": [
           {
            "marker": {
             "colorbar": {
              "outlinewidth": 0,
              "ticks": ""
             }
            },
            "type": "scatterpolargl"
           }
          ],
          "scatterternary": [
           {
            "marker": {
             "colorbar": {
              "outlinewidth": 0,
              "ticks": ""
             }
            },
            "type": "scatterternary"
           }
          ],
          "surface": [
           {
            "colorbar": {
             "outlinewidth": 0,
             "ticks": ""
            },
            "colorscale": [
             [
              0,
              "#0d0887"
             ],
             [
              0.1111111111111111,
              "#46039f"
             ],
             [
              0.2222222222222222,
              "#7201a8"
             ],
             [
              0.3333333333333333,
              "#9c179e"
             ],
             [
              0.4444444444444444,
              "#bd3786"
             ],
             [
              0.5555555555555556,
              "#d8576b"
             ],
             [
              0.6666666666666666,
              "#ed7953"
             ],
             [
              0.7777777777777778,
              "#fb9f3a"
             ],
             [
              0.8888888888888888,
              "#fdca26"
             ],
             [
              1,
              "#f0f921"
             ]
            ],
            "type": "surface"
           }
          ],
          "table": [
           {
            "cells": {
             "fill": {
              "color": "#EBF0F8"
             },
             "line": {
              "color": "white"
             }
            },
            "header": {
             "fill": {
              "color": "#C8D4E3"
             },
             "line": {
              "color": "white"
             }
            },
            "type": "table"
           }
          ]
         },
         "layout": {
          "annotationdefaults": {
           "arrowcolor": "#2a3f5f",
           "arrowhead": 0,
           "arrowwidth": 1
          },
          "autotypenumbers": "strict",
          "coloraxis": {
           "colorbar": {
            "outlinewidth": 0,
            "ticks": ""
           }
          },
          "colorscale": {
           "diverging": [
            [
             0,
             "#8e0152"
            ],
            [
             0.1,
             "#c51b7d"
            ],
            [
             0.2,
             "#de77ae"
            ],
            [
             0.3,
             "#f1b6da"
            ],
            [
             0.4,
             "#fde0ef"
            ],
            [
             0.5,
             "#f7f7f7"
            ],
            [
             0.6,
             "#e6f5d0"
            ],
            [
             0.7,
             "#b8e186"
            ],
            [
             0.8,
             "#7fbc41"
            ],
            [
             0.9,
             "#4d9221"
            ],
            [
             1,
             "#276419"
            ]
           ],
           "sequential": [
            [
             0,
             "#0d0887"
            ],
            [
             0.1111111111111111,
             "#46039f"
            ],
            [
             0.2222222222222222,
             "#7201a8"
            ],
            [
             0.3333333333333333,
             "#9c179e"
            ],
            [
             0.4444444444444444,
             "#bd3786"
            ],
            [
             0.5555555555555556,
             "#d8576b"
            ],
            [
             0.6666666666666666,
             "#ed7953"
            ],
            [
             0.7777777777777778,
             "#fb9f3a"
            ],
            [
             0.8888888888888888,
             "#fdca26"
            ],
            [
             1,
             "#f0f921"
            ]
           ],
           "sequentialminus": [
            [
             0,
             "#0d0887"
            ],
            [
             0.1111111111111111,
             "#46039f"
            ],
            [
             0.2222222222222222,
             "#7201a8"
            ],
            [
             0.3333333333333333,
             "#9c179e"
            ],
            [
             0.4444444444444444,
             "#bd3786"
            ],
            [
             0.5555555555555556,
             "#d8576b"
            ],
            [
             0.6666666666666666,
             "#ed7953"
            ],
            [
             0.7777777777777778,
             "#fb9f3a"
            ],
            [
             0.8888888888888888,
             "#fdca26"
            ],
            [
             1,
             "#f0f921"
            ]
           ]
          },
          "colorway": [
           "#636efa",
           "#EF553B",
           "#00cc96",
           "#ab63fa",
           "#FFA15A",
           "#19d3f3",
           "#FF6692",
           "#B6E880",
           "#FF97FF",
           "#FECB52"
          ],
          "font": {
           "color": "#2a3f5f"
          },
          "geo": {
           "bgcolor": "white",
           "lakecolor": "white",
           "landcolor": "#E5ECF6",
           "showlakes": true,
           "showland": true,
           "subunitcolor": "white"
          },
          "hoverlabel": {
           "align": "left"
          },
          "hovermode": "closest",
          "mapbox": {
           "style": "light"
          },
          "paper_bgcolor": "white",
          "plot_bgcolor": "#E5ECF6",
          "polar": {
           "angularaxis": {
            "gridcolor": "white",
            "linecolor": "white",
            "ticks": ""
           },
           "bgcolor": "#E5ECF6",
           "radialaxis": {
            "gridcolor": "white",
            "linecolor": "white",
            "ticks": ""
           }
          },
          "scene": {
           "xaxis": {
            "backgroundcolor": "#E5ECF6",
            "gridcolor": "white",
            "gridwidth": 2,
            "linecolor": "white",
            "showbackground": true,
            "ticks": "",
            "zerolinecolor": "white"
           },
           "yaxis": {
            "backgroundcolor": "#E5ECF6",
            "gridcolor": "white",
            "gridwidth": 2,
            "linecolor": "white",
            "showbackground": true,
            "ticks": "",
            "zerolinecolor": "white"
           },
           "zaxis": {
            "backgroundcolor": "#E5ECF6",
            "gridcolor": "white",
            "gridwidth": 2,
            "linecolor": "white",
            "showbackground": true,
            "ticks": "",
            "zerolinecolor": "white"
           }
          },
          "shapedefaults": {
           "line": {
            "color": "#2a3f5f"
           }
          },
          "ternary": {
           "aaxis": {
            "gridcolor": "white",
            "linecolor": "white",
            "ticks": ""
           },
           "baxis": {
            "gridcolor": "white",
            "linecolor": "white",
            "ticks": ""
           },
           "bgcolor": "#E5ECF6",
           "caxis": {
            "gridcolor": "white",
            "linecolor": "white",
            "ticks": ""
           }
          },
          "title": {
           "x": 0.05
          },
          "xaxis": {
           "automargin": true,
           "gridcolor": "white",
           "linecolor": "white",
           "ticks": "",
           "title": {
            "standoff": 15
           },
           "zerolinecolor": "white",
           "zerolinewidth": 2
          },
          "yaxis": {
           "automargin": true,
           "gridcolor": "white",
           "linecolor": "white",
           "ticks": "",
           "title": {
            "standoff": 15
           },
           "zerolinecolor": "white",
           "zerolinewidth": 2
          }
         }
        }
       }
      }
     },
     "metadata": {},
     "output_type": "display_data"
    }
   ],
   "source": [
    "circle = generate_circle(2,100, 10, 1)\n",
    "fig = go.Figure(data=[go.Scatter3d(x=circle[:,0], y=circle[:,1],z=circle[:,2],\n",
    "                                   mode='markers')])\n",
    "fig.show()"
   ]
  },
  {
   "cell_type": "code",
   "execution_count": 35,
   "metadata": {},
   "outputs": [
    {
     "data": {
      "image/png": "[encoded data removed]",
      "text/plain": [
       "<Figure size 640x480 with 1 Axes>"
      ]
     },
     "metadata": {},
     "output_type": "display_data"
    }
   ],
   "source": [
    "dgm_X = ripser.ripser(circle,maxdim=2)['dgms'] #Aquí se construye y grafica el diagrama de persistencia (en este caso, de los puntos simulados). maxdim es la dimensión máxima en homología que quieres que se muestre.\n",
    "persim.plot_diagrams(\n",
    "    dgm_X, \n",
    "    show=True, \n",
    "    title=f\"Datos Simulados\\n{diagram_sizes(dgm_X)}\"\n",
    ") "
   ]
  },
  {
   "cell_type": "code",
   "execution_count": 54,
   "metadata": {},
   "outputs": [
    {
     "data": {
      "application/vnd.plotly.v1+json": {
       "config": {
        "plotlyServerURL": "https://plot.ly"
       },
       "data": [
        {
         "mode": "markers",
         "type": "scatter3d",
         "x": [
          14.764562359035011,
          14.941004548171161,
          -4.828212356741919,
          -16.648828651188772,
          15.55770416703918,
          9.752670066873838,
          1.2773084775537122,
          7.706097595275966,
          14.295656848023457,
          -17.476829346024648,
          -8.894380150194849,
          -3.2040921066694286,
          -14.6880876155847,
          -11.238868219715368,
          -6.409340732913126,
          5.927510992142545,
          -12.521185360020928,
          -5.653919752947795,
          -14.475179106282619,
          -3.782288946813746,
          1.5871898023774602,
          -8.369060786767548,
          -2.268954942182867,
          10.36190393739078,
          -14.576406648426795,
          -17.959678817606495,
          -5.687192044813804,
          7.636303108122729,
          -9.527374180022209,
          5.664059508559022,
          8.067563303809921,
          13.008890811140319,
          -3.8135900107962626,
          -1.262367382649869,
          14.824039846090171,
          11.335354155467106,
          -1.3734522727735063,
          -16.477031510488132,
          14.265144921873283,
          -8.990948234082436,
          0.3724250985613961,
          9.773804777147209,
          17.48795568848659,
          4.10435926386655,
          6.310601390102687,
          4.396910217393308,
          -13.960156085641733,
          0.37940629515644203,
          1.7982379431439806,
          -17.25912467011143,
          9.463949644746553,
          12.849969218855078,
          -12.065307164150958,
          10.442645999468056,
          13.093066476691767,
          8.849895069130993,
          -7.962073745943725,
          12.293895014892367,
          8.435531833353576,
          4.304211356484234,
          10.034751204112853,
          1.4216086115193831,
          0.7813997199577233,
          8.808965898840794,
          19.319601746928697,
          10.719222016436145,
          -14.857978567019615,
          -16.774363978385644,
          1.4542883744932982,
          8.382865902156862,
          -12.312678405796367,
          13.090778987944413,
          -1.3537486607950546,
          -9.062423336954478,
          9.542203603947689,
          12.106880872847455,
          -15.39209979445462,
          10.183044138594836,
          9.232247824678085,
          -9.711888508826117,
          -2.041274471374121,
          -15.55370394533692,
          8.840659479208968,
          0.6615840974768283,
          -15.63542933819533,
          -10.483244601871402,
          8.86383684563233,
          7.62748391491635,
          6.458159430394712,
          -5.512725639716638,
          18.646737608311117,
          -0.6589807900286175,
          8.347770249307706,
          5.7526675958527855,
          10.592091210678268,
          -3.771989052611233,
          -19.003243558902167,
          -10.456829543202,
          -9.162091312114304,
          9.29108893306473,
          39.76456235903501,
          39.941004548171165,
          20.17178764325808,
          8.351171348811228,
          40.55770416703918,
          34.75267006687384,
          26.277308477553714,
          32.70609759527596,
          39.295656848023455,
          7.5231706539753525,
          16.10561984980515,
          21.795907893330572,
          10.3119123844153,
          13.761131780284632,
          18.590659267086874,
          30.927510992142544,
          12.478814639979072,
          19.346080247052207,
          10.524820893717381,
          21.217711053186253,
          26.58718980237746,
          16.630939213232452,
          22.731045057817134,
          35.36190393739078,
          10.423593351573205,
          7.040321182393505,
          19.312807955186194,
          32.63630310812273,
          15.472625819977791,
          30.66405950855902,
          33.06756330380992,
          38.00889081114032,
          21.18640998920374,
          23.73763261735013,
          39.82403984609017,
          36.33535415546711,
          23.626547727226495,
          8.522968489511868,
          39.265144921873286,
          16.00905176591756,
          25.372425098561397,
          34.773804777147205,
          42.48795568848659,
          29.10435926386655,
          31.310601390102686,
          29.39691021739331,
          11.039843914358267,
          25.379406295156443,
          26.79823794314398,
          7.740875329888571,
          34.46394964474655,
          37.84996921885508,
          12.934692835849042,
          35.442645999468056,
          38.09306647669177,
          33.849895069130994,
          17.037926254056273,
          37.29389501489237,
          33.43553183335358,
          29.304211356484235,
          35.03475120411285,
          26.421608611519382,
          25.781399719957722,
          33.808965898840796,
          44.3196017469287,
          35.71922201643615,
          10.142021432980385,
          8.225636021614356,
          26.4542883744933,
          33.382865902156865,
          12.687321594203633,
          38.09077898794441,
          23.646251339204944,
          15.937576663045522,
          34.54220360394769,
          37.106880872847455,
          9.60790020554538,
          35.18304413859484,
          34.23224782467808,
          15.288111491173883,
          22.95872552862588,
          9.44629605466308,
          33.840659479208966,
          25.66158409747683,
          9.36457066180467,
          14.516755398128598,
          33.86383684563233,
          32.62748391491635,
          31.458159430394712,
          19.48727436028336,
          43.64673760831111,
          24.341019209971382,
          33.34777024930771,
          30.752667595852785,
          35.59209121067827,
          21.228010947388768,
          5.996756441097833,
          14.543170456798,
          15.837908687885696,
          34.29108893306473
         ],
         "y": [
          -1.3396878251994169,
          -7.7651418549977,
          10.221676142360877,
          -5.462951272748867,
          -9.821171808445746,
          -6.037980834885931,
          -17.860155170228193,
          -15.483786337648164,
          10.003058477118204,
          9.473839220619537,
          5.237448134881219,
          -14.110368612093005,
          -0.9583095933400294,
          -5.244616941759848,
          13.760580212365314,
          -18.086198962434338,
          6.460752876097251,
          -12.302154216938792,
          -0.4186356326225575,
          -12.48232674237745,
          -19.334727392142835,
          -5.709999247561716,
          14.184994846903457,
          -5.628392874843472,
          -13.215104303542333,
          -3.0858421319962557,
          -8.242810664599194,
          -15.50766560448488,
          10.536404944020564,
          -11.092496239210481,
          -9.780553919189341,
          -9.911936783913749,
          12.76033843535074,
          -13.927394667926496,
          -10.06707738568726,
          2.1227148807673544,
          18.51492222118429,
          -10.511567890952739,
          -1.2492288215035503,
          -11.918299942081804,
          -18.081185051789614,
          10.022826123879227,
          -4.501269315178983,
          -15.019160966025105,
          -16.969294128905496,
          -14.57365343735211,
          -11.23614038688403,
          -10.971920009341028,
          19.78799650669248,
          6.88251430238242,
          9.256529551315506,
          -7.771353603253257,
          -9.763403616139879,
          9.729112912920257,
          13.76784749144722,
          -9.53636672031747,
          -16.87488334136323,
          -5.404711898871186,
          7.743459514289439,
          -13.009316778656308,
          6.71044511886984,
          -10.12962990174534,
          17.172717583934826,
          7.97574612161551,
          -0.9575798149987296,
          -8.618094048889885,
          3.7709530324000013,
          -2.2824249162516757,
          -10.885032826037916,
          -11.638941657496217,
          7.573117485826503,
          11.952844100958083,
          13.972699221188238,
          -12.609189952907633,
          -13.90883841064518,
          0.3213794512895586,
          -8.240363901257824,
          1.2152107542081814,
          8.943287701272757,
          14.017701009184178,
          19.097464382582334,
          1.5897068443376141,
          -6.6390210973756485,
          -19.42039229756667,
          -2.742546334512239,
          8.802271909258636,
          -8.90603277622592,
          -8.18033455598707,
          -9.436050885723654,
          9.442511836412512,
          5.293003061719815,
          -10.188918419378265,
          5.753849426696446,
          -12.079448639653718,
          -8.254229567062145,
          -14.279032525688084,
          4.029700025884596,
          -9.553873946723044,
          15.14777623213557,
          7.359129945045685,
          -1.3396878251994169,
          -7.7651418549977,
          10.221676142360877,
          -5.462951272748867,
          -9.821171808445746,
          -6.037980834885931,
          -17.860155170228193,
          -15.483786337648164,
          10.003058477118204,
          9.473839220619537,
          5.237448134881219,
          -14.110368612093005,
          -0.9583095933400294,
          -5.244616941759848,
          13.760580212365314,
          -18.086198962434338,
          6.460752876097251,
          -12.302154216938792,
          -0.4186356326225575,
          -12.48232674237745,
          -19.334727392142835,
          -5.709999247561716,
          14.184994846903457,
          -5.628392874843472,
          -13.215104303542333,
          -3.0858421319962557,
          -8.242810664599194,
          -15.50766560448488,
          10.536404944020564,
          -11.092496239210481,
          -9.780553919189341,
          -9.911936783913749,
          12.76033843535074,
          -13.927394667926496,
          -10.06707738568726,
          2.1227148807673544,
          18.51492222118429,
          -10.511567890952739,
          -1.2492288215035503,
          -11.918299942081804,
          -18.081185051789614,
          10.022826123879227,
          -4.501269315178983,
          -15.019160966025105,
          -16.969294128905496,
          -14.57365343735211,
          -11.23614038688403,
          -10.971920009341028,
          19.78799650669248,
          6.88251430238242,
          9.256529551315506,
          -7.771353603253257,
          -9.763403616139879,
          9.729112912920257,
          13.76784749144722,
          -9.53636672031747,
          -16.87488334136323,
          -5.404711898871186,
          7.743459514289439,
          -13.009316778656308,
          6.71044511886984,
          -10.12962990174534,
          17.172717583934826,
          7.97574612161551,
          -0.9575798149987296,
          -8.618094048889885,
          3.7709530324000013,
          -2.2824249162516757,
          -10.885032826037916,
          -11.638941657496217,
          7.573117485826503,
          11.952844100958083,
          13.972699221188238,
          -12.609189952907633,
          -13.90883841064518,
          0.3213794512895586,
          -8.240363901257824,
          1.2152107542081814,
          8.943287701272757,
          14.017701009184178,
          19.097464382582334,
          1.5897068443376141,
          -6.6390210973756485,
          -19.42039229756667,
          -2.742546334512239,
          8.802271909258636,
          -8.90603277622592,
          -8.18033455598707,
          -9.436050885723654,
          9.442511836412512,
          5.293003061719815,
          -10.188918419378265,
          5.753849426696446,
          -12.079448639653718,
          -8.254229567062145,
          -14.279032525688084,
          4.029700025884596,
          -9.553873946723044,
          15.14777623213557,
          7.359129945045685
         ],
         "z": [
          0,
          0,
          0,
          0,
          0,
          0,
          0,
          0,
          0,
          0,
          0,
          0,
          0,
          0,
          0,
          0,
          0,
          0,
          0,
          0,
          0,
          0,
          0,
          0,
          0,
          0,
          0,
          0,
          0,
          0,
          0,
          0,
          0,
          0,
          0,
          0,
          0,
          0,
          0,
          0,
          0,
          0,
          0,
          0,
          0,
          0,
          0,
          0,
          0,
          0,
          0,
          0,
          0,
          0,
          0,
          0,
          0,
          0,
          0,
          0,
          0,
          0,
          0,
          0,
          0,
          0,
          0,
          0,
          0,
          0,
          0,
          0,
          0,
          0,
          0,
          0,
          0,
          0,
          0,
          0,
          0,
          0,
          0,
          0,
          0,
          0,
          0,
          0,
          0,
          0,
          0,
          0,
          0,
          0,
          0,
          0,
          0,
          0,
          0,
          0,
          0,
          0,
          0,
          0,
          0,
          0,
          0,
          0,
          0,
          0,
          0,
          0,
          0,
          0,
          0,
          0,
          0,
          0,
          0,
          0,
          0,
          0,
          0,
          0,
          0,
          0,
          0,
          0,
          0,
          0,
          0,
          0,
          0,
          0,
          0,
          0,
          0,
          0,
          0,
          0,
          0,
          0,
          0,
          0,
          0,
          0,
          0,
          0,
          0,
          0,
          0,
          0,
          0,
          0,
          0,
          0,
          0,
          0,
          0,
          0,
          0,
          0,
          0,
          0,
          0,
          0,
          0,
          0,
          0,
          0,
          0,
          0,
          0,
          0,
          0,
          0,
          0,
          0,
          0,
          0,
          0,
          0,
          0,
          0,
          0,
          0,
          0,
          0,
          0,
          0,
          0,
          0,
          0,
          0,
          0,
          0,
          0,
          0,
          0,
          0
         ]
        }
       ],
       "layout": {
        "template": {
         "data": {
          "bar": [
           {
            "error_x": {
             "color": "#2a3f5f"
            },
            "error_y": {
             "color": "#2a3f5f"
            },
            "marker": {
             "line": {
              "color": "#E5ECF6",
              "width": 0.5
             },
             "pattern": {
              "fillmode": "overlay",
              "size": 10,
              "solidity": 0.2
             }
            },
            "type": "bar"
           }
          ],
          "barpolar": [
           {
            "marker": {
             "line": {
              "color": "#E5ECF6",
              "width": 0.5
             },
             "pattern": {
              "fillmode": "overlay",
              "size": 10,
              "solidity": 0.2
             }
            },
            "type": "barpolar"
           }
          ],
          "carpet": [
           {
            "aaxis": {
             "endlinecolor": "#2a3f5f",
             "gridcolor": "white",
             "linecolor": "white",
             "minorgridcolor": "white",
             "startlinecolor": "#2a3f5f"
            },
            "baxis": {
             "endlinecolor": "#2a3f5f",
             "gridcolor": "white",
             "linecolor": "white",
             "minorgridcolor": "white",
             "startlinecolor": "#2a3f5f"
            },
            "type": "carpet"
           }
          ],
          "choropleth": [
           {
            "colorbar": {
             "outlinewidth": 0,
             "ticks": ""
            },
            "type": "choropleth"
           }
          ],
          "contour": [
           {
            "colorbar": {
             "outlinewidth": 0,
             "ticks": ""
            },
            "colorscale": [
             [
              0,
              "#0d0887"
             ],
             [
              0.1111111111111111,
              "#46039f"
             ],
             [
              0.2222222222222222,
              "#7201a8"
             ],
             [
              0.3333333333333333,
              "#9c179e"
             ],
             [
              0.4444444444444444,
              "#bd3786"
             ],
             [
              0.5555555555555556,
              "#d8576b"
             ],
             [
              0.6666666666666666,
              "#ed7953"
             ],
             [
              0.7777777777777778,
              "#fb9f3a"
             ],
             [
              0.8888888888888888,
              "#fdca26"
             ],
             [
              1,
              "#f0f921"
             ]
            ],
            "type": "contour"
           }
          ],
          "contourcarpet": [
           {
            "colorbar": {
             "outlinewidth": 0,
             "ticks": ""
            },
            "type": "contourcarpet"
           }
          ],
          "heatmap": [
           {
            "colorbar": {
             "outlinewidth": 0,
             "ticks": ""
            },
            "colorscale": [
             [
              0,
              "#0d0887"
             ],
             [
              0.1111111111111111,
              "#46039f"
             ],
             [
              0.2222222222222222,
              "#7201a8"
             ],
             [
              0.3333333333333333,
              "#9c179e"
             ],
             [
              0.4444444444444444,
              "#bd3786"
             ],
             [
              0.5555555555555556,
              "#d8576b"
             ],
             [
              0.6666666666666666,
              "#ed7953"
             ],
             [
              0.7777777777777778,
              "#fb9f3a"
             ],
             [
              0.8888888888888888,
              "#fdca26"
             ],
             [
              1,
              "#f0f921"
             ]
            ],
            "type": "heatmap"
           }
          ],
          "heatmapgl": [
           {
            "colorbar": {
             "outlinewidth": 0,
             "ticks": ""
            },
            "colorscale": [
             [
              0,
              "#0d0887"
             ],
             [
              0.1111111111111111,
              "#46039f"
             ],
             [
              0.2222222222222222,
              "#7201a8"
             ],
             [
              0.3333333333333333,
              "#9c179e"
             ],
             [
              0.4444444444444444,
              "#bd3786"
             ],
             [
              0.5555555555555556,
              "#d8576b"
             ],
             [
              0.6666666666666666,
              "#ed7953"
             ],
             [
              0.7777777777777778,
              "#fb9f3a"
             ],
             [
              0.8888888888888888,
              "#fdca26"
             ],
             [
              1,
              "#f0f921"
             ]
            ],
            "type": "heatmapgl"
           }
          ],
          "histogram": [
           {
            "marker": {
             "pattern": {
              "fillmode": "overlay",
              "size": 10,
              "solidity": 0.2
             }
            },
            "type": "histogram"
           }
          ],
          "histogram2d": [
           {
            "colorbar": {
             "outlinewidth": 0,
             "ticks": ""
            },
            "colorscale": [
             [
              0,
              "#0d0887"
             ],
             [
              0.1111111111111111,
              "#46039f"
             ],
             [
              0.2222222222222222,
              "#7201a8"
             ],
             [
              0.3333333333333333,
              "#9c179e"
             ],
             [
              0.4444444444444444,
              "#bd3786"
             ],
             [
              0.5555555555555556,
              "#d8576b"
             ],
             [
              0.6666666666666666,
              "#ed7953"
             ],
             [
              0.7777777777777778,
              "#fb9f3a"
             ],
             [
              0.8888888888888888,
              "#fdca26"
             ],
             [
              1,
              "#f0f921"
             ]
            ],
            "type": "histogram2d"
           }
          ],
          "histogram2dcontour": [
           {
            "colorbar": {
             "outlinewidth": 0,
             "ticks": ""
            },
            "colorscale": [
             [
              0,
              "#0d0887"
             ],
             [
              0.1111111111111111,
              "#46039f"
             ],
             [
              0.2222222222222222,
              "#7201a8"
             ],
             [
              0.3333333333333333,
              "#9c179e"
             ],
             [
              0.4444444444444444,
              "#bd3786"
             ],
             [
              0.5555555555555556,
              "#d8576b"
             ],
             [
              0.6666666666666666,
              "#ed7953"
             ],
             [
              0.7777777777777778,
              "#fb9f3a"
             ],
             [
              0.8888888888888888,
              "#fdca26"
             ],
             [
              1,
              "#f0f921"
             ]
            ],
            "type": "histogram2dcontour"
           }
          ],
          "mesh3d": [
           {
            "colorbar": {
             "outlinewidth": 0,
             "ticks": ""
            },
            "type": "mesh3d"
           }
          ],
          "parcoords": [
           {
            "line": {
             "colorbar": {
              "outlinewidth": 0,
              "ticks": ""
             }
            },
            "type": "parcoords"
           }
          ],
          "pie": [
           {
            "automargin": true,
            "type": "pie"
           }
          ],
          "scatter": [
           {
            "fillpattern": {
             "fillmode": "overlay",
             "size": 10,
             "solidity": 0.2
            },
            "type": "scatter"
           }
          ],
          "scatter3d": [
           {
            "line": {
             "colorbar": {
              "outlinewidth": 0,
              "ticks": ""
             }
            },
            "marker": {
             "colorbar": {
              "outlinewidth": 0,
              "ticks": ""
             }
            },
            "type": "scatter3d"
           }
          ],
          "scattercarpet": [
           {
            "marker": {
             "colorbar": {
              "outlinewidth": 0,
              "ticks": ""
             }
            },
            "type": "scattercarpet"
           }
          ],
          "scattergeo": [
           {
            "marker": {
             "colorbar": {
              "outlinewidth": 0,
              "ticks": ""
             }
            },
            "type": "scattergeo"
           }
          ],
          "scattergl": [
           {
            "marker": {
             "colorbar": {
              "outlinewidth": 0,
              "ticks": ""
             }
            },
            "type": "scattergl"
           }
          ],
          "scattermapbox": [
           {
            "marker": {
             "colorbar": {
              "outlinewidth": 0,
              "ticks": ""
             }
            },
            "type": "scattermapbox"
           }
          ],
          "scatterpolar": [
           {
            "marker": {
             "colorbar": {
              "outlinewidth": 0,
              "ticks": ""
             }
            },
            "type": "scatterpolar"
           }
          ],
          "scatterpolargl": [
           {
            "marker": {
             "colorbar": {
              "outlinewidth": 0,
              "ticks": ""
             }
            },
            "type": "scatterpolargl"
           }
          ],
          "scatterternary": [
           {
            "marker": {
             "colorbar": {
              "outlinewidth": 0,
              "ticks": ""
             }
            },
            "type": "scatterternary"
           }
          ],
          "surface": [
           {
            "colorbar": {
             "outlinewidth": 0,
             "ticks": ""
            },
            "colorscale": [
             [
              0,
              "#0d0887"
             ],
             [
              0.1111111111111111,
              "#46039f"
             ],
             [
              0.2222222222222222,
              "#7201a8"
             ],
             [
              0.3333333333333333,
              "#9c179e"
             ],
             [
              0.4444444444444444,
              "#bd3786"
             ],
             [
              0.5555555555555556,
              "#d8576b"
             ],
             [
              0.6666666666666666,
              "#ed7953"
             ],
             [
              0.7777777777777778,
              "#fb9f3a"
             ],
             [
              0.8888888888888888,
              "#fdca26"
             ],
             [
              1,
              "#f0f921"
             ]
            ],
            "type": "surface"
           }
          ],
          "table": [
           {
            "cells": {
             "fill": {
              "color": "#EBF0F8"
             },
             "line": {
              "color": "white"
             }
            },
            "header": {
             "fill": {
              "color": "#C8D4E3"
             },
             "line": {
              "color": "white"
             }
            },
            "type": "table"
           }
          ]
         },
         "layout": {
          "annotationdefaults": {
           "arrowcolor": "#2a3f5f",
           "arrowhead": 0,
           "arrowwidth": 1
          },
          "autotypenumbers": "strict",
          "coloraxis": {
           "colorbar": {
            "outlinewidth": 0,
            "ticks": ""
           }
          },
          "colorscale": {
           "diverging": [
            [
             0,
             "#8e0152"
            ],
            [
             0.1,
             "#c51b7d"
            ],
            [
             0.2,
             "#de77ae"
            ],
            [
             0.3,
             "#f1b6da"
            ],
            [
             0.4,
             "#fde0ef"
            ],
            [
             0.5,
             "#f7f7f7"
            ],
            [
             0.6,
             "#e6f5d0"
            ],
            [
             0.7,
             "#b8e186"
            ],
            [
             0.8,
             "#7fbc41"
            ],
            [
             0.9,
             "#4d9221"
            ],
            [
             1,
             "#276419"
            ]
           ],
           "sequential": [
            [
             0,
             "#0d0887"
            ],
            [
             0.1111111111111111,
             "#46039f"
            ],
            [
             0.2222222222222222,
             "#7201a8"
            ],
            [
             0.3333333333333333,
             "#9c179e"
            ],
            [
             0.4444444444444444,
             "#bd3786"
            ],
            [
             0.5555555555555556,
             "#d8576b"
            ],
            [
             0.6666666666666666,
             "#ed7953"
            ],
            [
             0.7777777777777778,
             "#fb9f3a"
            ],
            [
             0.8888888888888888,
             "#fdca26"
            ],
            [
             1,
             "#f0f921"
            ]
           ],
           "sequentialminus": [
            [
             0,
             "#0d0887"
            ],
            [
             0.1111111111111111,
             "#46039f"
            ],
            [
             0.2222222222222222,
             "#7201a8"
            ],
            [
             0.3333333333333333,
             "#9c179e"
            ],
            [
             0.4444444444444444,
             "#bd3786"
            ],
            [
             0.5555555555555556,
             "#d8576b"
            ],
            [
             0.6666666666666666,
             "#ed7953"
            ],
            [
             0.7777777777777778,
             "#fb9f3a"
            ],
            [
             0.8888888888888888,
             "#fdca26"
            ],
            [
             1,
             "#f0f921"
            ]
           ]
          },
          "colorway": [
           "#636efa",
           "#EF553B",
           "#00cc96",
           "#ab63fa",
           "#FFA15A",
           "#19d3f3",
           "#FF6692",
           "#B6E880",
           "#FF97FF",
           "#FECB52"
          ],
          "font": {
           "color": "#2a3f5f"
          },
          "geo": {
           "bgcolor": "white",
           "lakecolor": "white",
           "landcolor": "#E5ECF6",
           "showlakes": true,
           "showland": true,
           "subunitcolor": "white"
          },
          "hoverlabel": {
           "align": "left"
          },
          "hovermode": "closest",
          "mapbox": {
           "style": "light"
          },
          "paper_bgcolor": "white",
          "plot_bgcolor": "#E5ECF6",
          "polar": {
           "angularaxis": {
            "gridcolor": "white",
            "linecolor": "white",
            "ticks": ""
           },
           "bgcolor": "#E5ECF6",
           "radialaxis": {
            "gridcolor": "white",
            "linecolor": "white",
            "ticks": ""
           }
          },
          "scene": {
           "xaxis": {
            "backgroundcolor": "#E5ECF6",
            "gridcolor": "white",
            "gridwidth": 2,
            "linecolor": "white",
            "showbackground": true,
            "ticks": "",
            "zerolinecolor": "white"
           },
           "yaxis": {
            "backgroundcolor": "#E5ECF6",
            "gridcolor": "white",
            "gridwidth": 2,
            "linecolor": "white",
            "showbackground": true,
            "ticks": "",
            "zerolinecolor": "white"
           },
           "zaxis": {
            "backgroundcolor": "#E5ECF6",
            "gridcolor": "white",
            "gridwidth": 2,
            "linecolor": "white",
            "showbackground": true,
            "ticks": "",
            "zerolinecolor": "white"
           }
          },
          "shapedefaults": {
           "line": {
            "color": "#2a3f5f"
           }
          },
          "ternary": {
           "aaxis": {
            "gridcolor": "white",
            "linecolor": "white",
            "ticks": ""
           },
           "baxis": {
            "gridcolor": "white",
            "linecolor": "white",
            "ticks": ""
           },
           "bgcolor": "#E5ECF6",
           "caxis": {
            "gridcolor": "white",
            "linecolor": "white",
            "ticks": ""
           }
          },
          "title": {
           "x": 0.05
          },
          "xaxis": {
           "automargin": true,
           "gridcolor": "white",
           "linecolor": "white",
           "ticks": "",
           "title": {
            "standoff": 15
           },
           "zerolinecolor": "white",
           "zerolinewidth": 2
          },
          "yaxis": {
           "automargin": true,
           "gridcolor": "white",
           "linecolor": "white",
           "ticks": "",
           "title": {
            "standoff": 15
           },
           "zerolinecolor": "white",
           "zerolinewidth": 2
          }
         }
        }
       }
      }
     },
     "metadata": {},
     "output_type": "display_data"
    }
   ],
   "source": [
    "aux=np.array([[25,0,0]+circle[i] for i in range(len(circle))])\n",
    "doublecircle=np.append(circle,aux,0)\n",
    "fig = go.Figure(data=[go.Scatter3d(x=doublecircle[:,0], y=doublecircle[:,1],z=doublecircle[:,2],\n",
    "                                   mode='markers')])\n",
    "fig.show()"
   ]
  },
  {
   "cell_type": "code",
   "execution_count": 55,
   "metadata": {},
   "outputs": [
    {
     "data": {
      "image/png": "[encoded data removed]",
      "text/plain": [
       "<Figure size 640x480 with 1 Axes>"
      ]
     },
     "metadata": {},
     "output_type": "display_data"
    }
   ],
   "source": [
    "dgm_X = ripser.ripser(doublecircle,maxdim=2)['dgms'] #Aquí se construye y grafica el diagrama de persistencia (en este caso, de los puntos simulados). maxdim es la dimensión máxima en homología que quieres que se muestre.\n",
    "persim.plot_diagrams(\n",
    "    dgm_X, \n",
    "    show=True, \n",
    "    title=f\"Datos Simulados\\n{diagram_sizes(dgm_X)}\"\n",
    ") "
   ]
  },
  {
   "cell_type": "code",
   "execution_count": null,
   "metadata": {},
   "outputs": [],
   "source": []
  }
 ],
 "metadata": {
  "kernelspec": {
   "display_name": "Python 3",
   "language": "python",
   "name": "python3"
  },
  "language_info": {
   "codemirror_mode": {
    "name": "ipython",
    "version": 3
   },
   "file_extension": ".py",
   "mimetype": "text/x-python",
   "name": "python",
   "nbconvert_exporter": "python",
   "pygments_lexer": "ipython3",
   "version": "3.10.6"
  },
  "orig_nbformat": 4
 },
 "nbformat": 4,
 "nbformat_minor": 2
}
