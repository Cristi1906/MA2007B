{
 "cells": [
  {
   "attachments": {},
   "cell_type": "markdown",
   "metadata": {},
   "source": [
    "# AC3: Coverings and Nerves\n",
    "\n",
    "En la siguiente actividad trabajaremos los conceptos de: \n",
    "* Coverings (cubiertas).\n",
    "* Nerves (nervios) asociadas a ciertos espacios y coverings.\n",
    "\n",
    "\n",
    "# Coverings (Cubiertas)\n",
    "\n",
    "__Definition:__ A covering of a space $X$ is a family of sets $\\mathcal{C}$ such that: $$X=\\bigcup_{C\\in\\mathcal{C}}C.$$\n",
    "If the elements of $\\mathcal{C}$ are open sets of $X,$ we said that $\\mathcal{C}$ is an open covering of $X,$ and if the elements of $\\mathcal{C}$ are closed sets of $X$ we said that $\\mathcal{C}$ is a closed covering of $X.$\n",
    "\n",
    "### Ejercicio 1 (Sensibilización a las cubiertas):\n",
    "Considere $(\\{0,1\\},\\{\\varnothing,\\{0\\},\\{0,1\\}\\})$ como espacio topológico y considere las siguientes colecciones de conjuntos:\n",
    "* $\\mathcal{C}_1=\\{\\{0\\},\\{1\\}\\}$\n",
    "* $\\mathcal{C}_2=\\{\\{0\\},\\{0,1\\}\\}$\n",
    "* $\\mathcal{C}_3=\\{\\{0\\},\\{2\\},\\{0,1\\}\\}$\n",
    "Determine quien de las colecciones anteriores es una cubierta de $(\\{0,1\\},\\{\\varnothing,\\{0\\},\\{0,1\\}\\})$ y si es abierta, cerrada o ninguna de las dos.\n",
    "\n",
    "### Ejercicio 2 (Sensibilización a las cubiertas generalizado):\n",
    "\n",
    "Considere el espacio topológico $(\\mathbb{R},d_e)$ y considere las siguientes colecciones de conjuntos:\n",
    "* $\\mathcal{C}_1=\\{\\mathbb{R}\\}$\n",
    "* $\\mathcal{C}_2=\\{(-\\infty,0),\\{0\\},(0,\\infty)\\}$\n",
    "* $\\mathcal{C}_3=\\{(-\\infty,0),(-1,1),(0,\\infty)\\}$\n",
    "\n",
    "Determine quien de las colecciones anteriores es una cubierta para $(\\mathbb{R},d_e)$ y si es abierta, cerrada o ninguna de las dos.\n",
    "\n",
    "### Ejercicio 3 (Sensibilización a las cubiertas generalizado):\n",
    "\n",
    "Considere el espacio topológico $(\\mathbb{R}^2,d_e)$ y considere las siguientes colecciones de conjuntos:\n",
    "* $\\mathcal{C}_1=\\{(-\\infty,0]\\times[0,\\infty),(-\\infty,0]\\times(-\\infty,0],[0,\\infty)\\times[0,\\infty),[0,\\infty)\\times(-\\infty,0]\\}$\n",
    "* $\\mathcal{C}_2=\\{(-n,n)\\times(-n,n): n\\in\\mathbb{N}\\}$\n",
    "* $\\mathcal{C}_3=\\{\\mathbb{R}\\times(-1,1), \\mathbb{R}\\times(-0.5,2),\\mathbb{R}\\times(0.5,2),\\mathbb{R}\\times(1.5,\\infty), \\mathbb{R}\\times(-\\infty,-1.5)\\}$\n",
    "Determinar quien de las colecciones anteriores es una cubierta para $(\\mathbb{R}^2,d_e)$ y si es abierta, cerrada o ninguna de las dos."
   ]
  },
  {
   "attachments": {},
   "cell_type": "markdown",
   "metadata": {},
   "source": [
    "## Nerves (Nervios)\n",
    "\n",
    "__Definition:__ The nerve of a (finite) covering $\\mathcal{C}=\\{C_1,C_2,\\cdots,C_n\\}$ of $X$ is the simplicial complex $\\mathcal{N}(\\mathcal{C})$ whose vertices are the indices of $\\mathcal{C}$ and $i_1\\cdots i_k$ is a simplex if the intersections of the sets $C_{i_1},\\cdots,C_{i_k}$ is non-empty.\n",
    "\n",
    "### Ejercicio 4 (Sensibilización a los nervios):\n",
    "\n",
    "Considere el espacio topológico $(X,t_\\sub)$ donde $X=\\{(x,x^2):x\\in\\mathbb{R}\\}$ como subespacio de $\\mathbb{R}^2$ con la métrica estándar. Y considere la cubierta dada por $\\mathcal{C}=\\{\\{(x,x^2):x\\in(-\\infty,0)\\},\\{(x,x^2):x\\in(-1,1)\\},\\{(x,x^2):x\\in(0,\\infty)\\}\\}.$ Realice un dibujo del nervio asociado.\n",
    "\n",
    "### Ejercicio 5 (Sensibilización a los nervios generalizado):\n",
    "\n",
    "Considere el espacio topológico $(X,t_\\sub)$ donde $X=\\{(x,y)\\in\\mathbb{R}^2: x^2+y^2=5\\}$ como subespacio $\\mathbb{R}^2$ con la métrica estándar. Y considere la función $f:\\mathbb{R}^2\\to\\mathbb{R}$ dada por $f(x,y)=x$. Considere la colección $\\mathcal{C}=\\{f^{-1}([-1,-0.5)),f^{-1}((-0.6,0.2)),f^{-1}((-0.2,0.6)),f^{-1}((0.6,1])\\}.$ Determine si $\\mathcal{C}$ es una cubierta abierta de $X$ y dibuje el nervio asociado a la cubierta.\n",
    "\n",
    "### Ejercicio 6 (Sensibilización a los nervios generalizado):\n",
    "\n",
    "Considere el espacio topológico del ejercicio anterior. Ahora considere la función $g:\\mathbb{R}^2\\to\\mathbb{R}$ dada por $g(x,y)=3x^2+2y.$ Considere la colección $\\mathcal{C}=\\{f^{-1}([-\\min(g),0)),f^{-1}((-1,1)),f^{-1}((1,\\max(g)))\\}.$ Determine si $\\mathcal{C}$ es una cubierta abierta de $X$ y dibuje el nervio asociado a la cubierta.\n",
    "\n",
    "Preguntas detonadoras: ¿Cómo cambió el nervio respecto a las diferentes cubiertas en el ejercicio 5 y 6? ¿Qué pasa si aumentamos el número de elementos en las cubiertas? ¿Las funciones $f$ y $g$ son continuas? ¿Los nervios asociados son diferentes?"
   ]
  },
  {
   "cell_type": "code",
   "execution_count": null,
   "metadata": {},
   "outputs": [],
   "source": []
  }
 ],
 "metadata": {
  "kernelspec": {
   "display_name": "Python 3",
   "language": "python",
   "name": "python3"
  },
  "language_info": {
   "name": "python",
   "version": "3.10.6"
  },
  "orig_nbformat": 4
 },
 "nbformat": 4,
 "nbformat_minor": 2
}
