{
 "cells": [
  {
   "cell_type": "code",
   "execution_count": 5,
   "metadata": {},
   "outputs": [],
   "source": [
    "import numpy as np\n",
    "import pandas as pd\n",
    "import gtda\n",
    "import matplotlib.pyplot as plt"
   ]
  },
  {
   "attachments": {},
   "cell_type": "markdown",
   "metadata": {},
   "source": [
    "# Series de Tiempo de Contaminantes para la CDMX\n",
    "\n",
    "A continuación estudiaremos una base de datos con algunos contaminantes de la CDMX. La base de datos se encuentra en el archivo `contaminantes_CDMX.csv` y contiene las siguientes columnas:\n",
    "\n",
    "- `fecha`: Fecha de la medición\n",
    "- `NO`: Monóxido de Nitrógeno\n",
    "- `NO.1`: Dióxido de Nitrógeno\n",
    "- `O3`: Ozono\n",
    "- `PM10`: Partículas menores a 10 micras\n",
    "- `PM25`: Partículas menores a 2.5 micras\n",
    "- `SO2`: Dióxido de Azufre\n",
    "- `Ln_PM10`: Logaritmo natural de PM10\n",
    "\n",
    "Queremos conocer si existen recurrencia entre nuestras mediciones."
   ]
  },
  {
   "cell_type": "code",
   "execution_count": 6,
   "metadata": {},
   "outputs": [],
   "source": [
    "contaminants = pd.read_csv('contaminantes_CDMX.csv')"
   ]
  },
  {
   "cell_type": "code",
   "execution_count": 7,
   "metadata": {},
   "outputs": [
    {
     "data": {
      "text/html": [
       "<div>\n",
       "<style scoped>\n",
       "    .dataframe tbody tr th:only-of-type {\n",
       "        vertical-align: middle;\n",
       "    }\n",
       "\n",
       "    .dataframe tbody tr th {\n",
       "        vertical-align: top;\n",
       "    }\n",
       "\n",
       "    .dataframe thead th {\n",
       "        text-align: right;\n",
       "    }\n",
       "</style>\n",
       "<table border=\"1\" class=\"dataframe\">\n",
       "  <thead>\n",
       "    <tr style=\"text-align: right;\">\n",
       "      <th></th>\n",
       "      <th>Fecha</th>\n",
       "      <th>NO</th>\n",
       "      <th>NO.1</th>\n",
       "      <th>O3</th>\n",
       "      <th>PM10</th>\n",
       "      <th>PM25</th>\n",
       "      <th>SO2</th>\n",
       "      <th>Ln_PM10</th>\n",
       "    </tr>\n",
       "  </thead>\n",
       "  <tbody>\n",
       "    <tr>\n",
       "      <th>0</th>\n",
       "      <td>01/01/2020</td>\n",
       "      <td>7</td>\n",
       "      <td>25</td>\n",
       "      <td>29</td>\n",
       "      <td>13</td>\n",
       "      <td>10</td>\n",
       "      <td>6</td>\n",
       "      <td>2.564949</td>\n",
       "    </tr>\n",
       "    <tr>\n",
       "      <th>1</th>\n",
       "      <td>02/01/2020</td>\n",
       "      <td>1</td>\n",
       "      <td>2</td>\n",
       "      <td>54</td>\n",
       "      <td>4</td>\n",
       "      <td>2</td>\n",
       "      <td>5</td>\n",
       "      <td>1.386294</td>\n",
       "    </tr>\n",
       "    <tr>\n",
       "      <th>2</th>\n",
       "      <td>03/01/2020</td>\n",
       "      <td>1</td>\n",
       "      <td>3</td>\n",
       "      <td>76</td>\n",
       "      <td>12</td>\n",
       "      <td>2</td>\n",
       "      <td>4</td>\n",
       "      <td>2.484907</td>\n",
       "    </tr>\n",
       "    <tr>\n",
       "      <th>3</th>\n",
       "      <td>04/01/2020</td>\n",
       "      <td>1</td>\n",
       "      <td>3</td>\n",
       "      <td>56</td>\n",
       "      <td>4</td>\n",
       "      <td>2</td>\n",
       "      <td>4</td>\n",
       "      <td>1.386294</td>\n",
       "    </tr>\n",
       "    <tr>\n",
       "      <th>4</th>\n",
       "      <td>05/01/2020</td>\n",
       "      <td>2</td>\n",
       "      <td>1</td>\n",
       "      <td>53</td>\n",
       "      <td>6</td>\n",
       "      <td>3</td>\n",
       "      <td>2</td>\n",
       "      <td>1.791759</td>\n",
       "    </tr>\n",
       "  </tbody>\n",
       "</table>\n",
       "</div>"
      ],
      "text/plain": [
       "        Fecha  NO  NO.1  O3  PM10  PM25  SO2   Ln_PM10\n",
       "0  01/01/2020   7    25  29    13    10    6  2.564949\n",
       "1  02/01/2020   1     2  54     4     2    5  1.386294\n",
       "2  03/01/2020   1     3  76    12     2    4  2.484907\n",
       "3  04/01/2020   1     3  56     4     2    4  1.386294\n",
       "4  05/01/2020   2     1  53     6     3    2  1.791759"
      ]
     },
     "execution_count": 7,
     "metadata": {},
     "output_type": "execute_result"
    }
   ],
   "source": [
    "contaminants.head()"
   ]
  },
  {
   "attachments": {},
   "cell_type": "markdown",
   "metadata": {},
   "source": [
    "Veamos si la fecha es un timestamp de pandas"
   ]
  },
  {
   "cell_type": "code",
   "execution_count": 8,
   "metadata": {},
   "outputs": [
    {
     "data": {
      "text/plain": [
       "Fecha       object\n",
       "NO           int64\n",
       "NO.1         int64\n",
       "O3           int64\n",
       "PM10         int64\n",
       "PM25         int64\n",
       "SO2          int64\n",
       "Ln_PM10    float64\n",
       "dtype: object"
      ]
     },
     "execution_count": 8,
     "metadata": {},
     "output_type": "execute_result"
    }
   ],
   "source": [
    "\n",
    "contaminants.dtypes"
   ]
  },
  {
   "cell_type": "markdown",
   "metadata": {},
   "source": [
    "No lo es, por lo que cambiaremos a timestamp para su manejo más eficiente."
   ]
  },
  {
   "cell_type": "code",
   "execution_count": 9,
   "metadata": {},
   "outputs": [
    {
     "name": "stderr",
     "output_type": "stream",
     "text": [
      "C:\\Users\\L03088338\\AppData\\Local\\Temp\\ipykernel_11056\\1586979963.py:1: UserWarning: Parsing dates in DD/MM/YYYY format when dayfirst=False (the default) was specified. This may lead to inconsistently parsed dates! Specify a format to ensure consistent parsing.\n",
      "  contaminants['Fecha'] = pd.to_datetime(contaminants['Fecha'])\n"
     ]
    }
   ],
   "source": [
    "contaminants['Fecha'] = pd.to_datetime(contaminants['Fecha'])"
   ]
  },
  {
   "cell_type": "code",
   "execution_count": 14,
   "metadata": {},
   "outputs": [],
   "source": [
    "PM10 = pd.Series(contaminants['PM10'])"
   ]
  },
  {
   "cell_type": "code",
   "execution_count": 15,
   "metadata": {},
   "outputs": [
    {
     "data": {
      "text/plain": [
       "[<matplotlib.lines.Line2D at 0x21ac2d635e0>]"
      ]
     },
     "execution_count": 15,
     "metadata": {},
     "output_type": "execute_result"
    },
    {
     "data": {
      "image/png": "[encoded data removed]",
      "text/plain": [
       "<Figure size 640x480 with 1 Axes>"
      ]
     },
     "metadata": {},
     "output_type": "display_data"
    }
   ],
   "source": [
    " plt.plot(PM10, '--', label='ML Predictions')"
   ]
  },
  {
   "cell_type": "code",
   "execution_count": 17,
   "metadata": {},
   "outputs": [],
   "source": [
    "from gtda.time_series import SingleTakensEmbedding, takens_embedding_optimal_parameters\n",
    "import plotly.graph_objects as go\n",
    "from gtda.plotting import plot_point_cloud"
   ]
  },
  {
   "cell_type": "code",
   "execution_count": 32,
   "metadata": {},
   "outputs": [
    {
     "data": {
      "text/plain": [
       "4"
      ]
     },
     "execution_count": 32,
     "metadata": {},
     "output_type": "execute_result"
    }
   ],
   "source": [
    "PM10[1]"
   ]
  },
  {
   "cell_type": "code",
   "execution_count": 53,
   "metadata": {},
   "outputs": [
    {
     "name": "stdout",
     "output_type": "stream",
     "text": [
      "Shape of embedded time series: (75, 3)\n"
     ]
    }
   ],
   "source": [
    "x_contaminantes = PM10.index\n",
    "y_contaminantes = [PM10[i] for i in x_contaminantes]\n",
    "\n",
    "# Escogemos nuestros parametros para el encaje\n",
    "# d= embedding_dimension_periodic\n",
    "# tau = embedding_time_delay_periodic\n",
    "# stride = nos permite tomar un subconjunto de los datos.\n",
    "embedding_dimension_periodic = 3\n",
    "embedding_time_delay_periodic = 30\n",
    "stride = 1\n",
    "\n",
    "# Modifica el `stride` y el `delay` para obtener diferentes encajes, de lo anterior.\n",
    "\n",
    "embedder_periodic = SingleTakensEmbedding(\n",
    "    parameters_type=\"fixed\",\n",
    "    n_jobs=2,\n",
    "    time_delay=embedding_time_delay_periodic,\n",
    "    dimension=embedding_dimension_periodic,\n",
    "    stride=stride,\n",
    ")\n",
    "\n",
    "y_periodic_embedded = embedder_periodic.fit_transform(y_contaminantes)\n",
    "print(f\"Shape of embedded time series: {y_periodic_embedded.shape}\")"
   ]
  },
  {
   "cell_type": "code",
   "execution_count": 50,
   "metadata": {},
   "outputs": [
    {
     "data": {
      "application/vnd.plotly.v1+json": {
       "config": {
        "plotlyServerURL": "https://plot.ly"
       },
       "data": [
        {
         "marker": {
          "color": [
           0,
           1,
           2,
           3,
           4,
           5,
           6,
           7,
           8,
           9,
           10,
           11,
           12,
           13,
           14,
           15,
           16,
           17,
           18,
           19,
           20,
           21,
           22,
           23,
           24,
           25,
           26,
           27,
           28,
           29,
           30,
           31,
           32,
           33,
           34,
           35,
           36,
           37,
           38,
           39,
           40,
           41,
           42,
           43,
           44,
           45,
           46,
           47,
           48,
           49,
           50,
           51,
           52,
           53,
           54,
           55,
           56,
           57,
           58,
           59,
           60,
           61,
           62,
           63,
           64,
           65,
           66,
           67,
           68,
           69,
           70,
           71,
           72,
           73,
           74,
           75,
           76,
           77,
           78,
           79,
           80,
           81,
           82,
           83,
           84,
           85,
           86,
           87,
           88,
           89,
           90,
           91,
           92,
           93,
           94,
           95,
           96,
           97,
           98,
           99,
           100,
           101,
           102,
           103,
           104
          ],
          "colorscale": [
           [
            0,
            "#440154"
           ],
           [
            0.1111111111111111,
            "#482878"
           ],
           [
            0.2222222222222222,
            "#3e4989"
           ],
           [
            0.3333333333333333,
            "#31688e"
           ],
           [
            0.4444444444444444,
            "#26828e"
           ],
           [
            0.5555555555555556,
            "#1f9e89"
           ],
           [
            0.6666666666666666,
            "#35b779"
           ],
           [
            0.7777777777777778,
            "#6ece58"
           ],
           [
            0.8888888888888888,
            "#b5de2b"
           ],
           [
            1,
            "#fde725"
           ]
          ],
          "opacity": 0.8,
          "size": 4
         },
         "mode": "markers",
         "type": "scatter3d",
         "x": [
          13,
          4,
          12,
          4,
          6,
          9,
          8,
          7,
          7,
          7,
          7,
          5,
          7,
          12,
          8,
          13,
          24,
          21,
          7,
          8,
          7,
          4,
          4,
          6,
          4,
          13,
          4,
          3,
          8,
          4,
          20,
          7,
          6,
          9,
          6,
          5,
          8,
          7,
          12,
          13,
          9,
          10,
          20,
          9,
          6,
          45,
          54,
          50,
          15,
          18,
          9,
          11,
          7,
          17,
          11,
          25,
          23,
          21,
          12,
          15,
          12,
          15,
          6,
          4,
          11,
          12,
          5,
          7,
          19,
          9,
          13,
          10,
          5,
          5,
          4,
          5,
          5,
          6,
          7,
          8,
          9,
          8,
          9,
          8,
          9,
          6,
          6,
          6,
          8,
          11,
          6,
          6,
          8,
          7,
          6,
          9,
          8,
          14,
          13,
          12,
          13,
          12,
          13,
          16,
          11
         ],
         "y": [
          13,
          24,
          21,
          7,
          8,
          7,
          4,
          4,
          6,
          4,
          13,
          4,
          3,
          8,
          4,
          20,
          7,
          6,
          9,
          6,
          5,
          8,
          7,
          12,
          13,
          9,
          10,
          20,
          9,
          6,
          45,
          54,
          50,
          15,
          18,
          9,
          11,
          7,
          17,
          11,
          25,
          23,
          21,
          12,
          15,
          12,
          15,
          6,
          4,
          11,
          12,
          5,
          7,
          19,
          9,
          13,
          10,
          5,
          5,
          4,
          5,
          5,
          6,
          7,
          8,
          9,
          8,
          9,
          8,
          9,
          6,
          6,
          6,
          8,
          11,
          6,
          6,
          8,
          7,
          6,
          9,
          8,
          14,
          13,
          12,
          13,
          12,
          13,
          16,
          11,
          12,
          16,
          13,
          15,
          17,
          14,
          16,
          15,
          5,
          15,
          5,
          5,
          8,
          12,
          6
         ],
         "z": [
          20,
          7,
          6,
          9,
          6,
          5,
          8,
          7,
          12,
          13,
          9,
          10,
          20,
          9,
          6,
          45,
          54,
          50,
          15,
          18,
          9,
          11,
          7,
          17,
          11,
          25,
          23,
          21,
          12,
          15,
          12,
          15,
          6,
          4,
          11,
          12,
          5,
          7,
          19,
          9,
          13,
          10,
          5,
          5,
          4,
          5,
          5,
          6,
          7,
          8,
          9,
          8,
          9,
          8,
          9,
          6,
          6,
          6,
          8,
          11,
          6,
          6,
          8,
          7,
          6,
          9,
          8,
          14,
          13,
          12,
          13,
          12,
          13,
          16,
          11,
          12,
          16,
          13,
          15,
          17,
          14,
          16,
          15,
          5,
          15,
          5,
          5,
          8,
          12,
          6,
          8,
          7,
          7,
          10,
          10,
          10,
          9,
          15,
          15,
          18,
          17,
          8,
          8,
          9,
          11
         ]
        }
       ],
       "layout": {
        "scene": {
         "xaxis": {
          "exponentformat": "e",
          "showexponent": "all",
          "title": {
           "text": "0th"
          },
          "type": "linear"
         },
         "yaxis": {
          "exponentformat": "e",
          "showexponent": "all",
          "title": {
           "text": "1st"
          },
          "type": "linear"
         },
         "zaxis": {
          "exponentformat": "e",
          "showexponent": "all",
          "title": {
           "text": "2nd"
          },
          "type": "linear"
         }
        },
        "template": {
         "data": {
          "bar": [
           {
            "error_x": {
             "color": "#2a3f5f"
            },
            "error_y": {
             "color": "#2a3f5f"
            },
            "marker": {
             "line": {
              "color": "#E5ECF6",
              "width": 0.5
             },
             "pattern": {
              "fillmode": "overlay",
              "size": 10,
              "solidity": 0.2
             }
            },
            "type": "bar"
           }
          ],
          "barpolar": [
           {
            "marker": {
             "line": {
              "color": "#E5ECF6",
              "width": 0.5
             },
             "pattern": {
              "fillmode": "overlay",
              "size": 10,
              "solidity": 0.2
             }
            },
            "type": "barpolar"
           }
          ],
          "carpet": [
           {
            "aaxis": {
             "endlinecolor": "#2a3f5f",
             "gridcolor": "white",
             "linecolor": "white",
             "minorgridcolor": "white",
             "startlinecolor": "#2a3f5f"
            },
            "baxis": {
             "endlinecolor": "#2a3f5f",
             "gridcolor": "white",
             "linecolor": "white",
             "minorgridcolor": "white",
             "startlinecolor": "#2a3f5f"
            },
            "type": "carpet"
           }
          ],
          "choropleth": [
           {
            "colorbar": {
             "outlinewidth": 0,
             "ticks": ""
            },
            "type": "choropleth"
           }
          ],
          "contour": [
           {
            "colorbar": {
             "outlinewidth": 0,
             "ticks": ""
            },
            "colorscale": [
             [
              0,
              "#0d0887"
             ],
             [
              0.1111111111111111,
              "#46039f"
             ],
             [
              0.2222222222222222,
              "#7201a8"
             ],
             [
              0.3333333333333333,
              "#9c179e"
             ],
             [
              0.4444444444444444,
              "#bd3786"
             ],
             [
              0.5555555555555556,
              "#d8576b"
             ],
             [
              0.6666666666666666,
              "#ed7953"
             ],
             [
              0.7777777777777778,
              "#fb9f3a"
             ],
             [
              0.8888888888888888,
              "#fdca26"
             ],
             [
              1,
              "#f0f921"
             ]
            ],
            "type": "contour"
           }
          ],
          "contourcarpet": [
           {
            "colorbar": {
             "outlinewidth": 0,
             "ticks": ""
            },
            "type": "contourcarpet"
           }
          ],
          "heatmap": [
           {
            "colorbar": {
             "outlinewidth": 0,
             "ticks": ""
            },
            "colorscale": [
             [
              0,
              "#0d0887"
             ],
             [
              0.1111111111111111,
              "#46039f"
             ],
             [
              0.2222222222222222,
              "#7201a8"
             ],
             [
              0.3333333333333333,
              "#9c179e"
             ],
             [
              0.4444444444444444,
              "#bd3786"
             ],
             [
              0.5555555555555556,
              "#d8576b"
             ],
             [
              0.6666666666666666,
              "#ed7953"
             ],
             [
              0.7777777777777778,
              "#fb9f3a"
             ],
             [
              0.8888888888888888,
              "#fdca26"
             ],
             [
              1,
              "#f0f921"
             ]
            ],
            "type": "heatmap"
           }
          ],
          "heatmapgl": [
           {
            "colorbar": {
             "outlinewidth": 0,
             "ticks": ""
            },
            "colorscale": [
             [
              0,
              "#0d0887"
             ],
             [
              0.1111111111111111,
              "#46039f"
             ],
             [
              0.2222222222222222,
              "#7201a8"
             ],
             [
              0.3333333333333333,
              "#9c179e"
             ],
             [
              0.4444444444444444,
              "#bd3786"
             ],
             [
              0.5555555555555556,
              "#d8576b"
             ],
             [
              0.6666666666666666,
              "#ed7953"
             ],
             [
              0.7777777777777778,
              "#fb9f3a"
             ],
             [
              0.8888888888888888,
              "#fdca26"
             ],
             [
              1,
              "#f0f921"
             ]
            ],
            "type": "heatmapgl"
           }
          ],
          "histogram": [
           {
            "marker": {
             "pattern": {
              "fillmode": "overlay",
              "size": 10,
              "solidity": 0.2
             }
            },
            "type": "histogram"
           }
          ],
          "histogram2d": [
           {
            "colorbar": {
             "outlinewidth": 0,
             "ticks": ""
            },
            "colorscale": [
             [
              0,
              "#0d0887"
             ],
             [
              0.1111111111111111,
              "#46039f"
             ],
             [
              0.2222222222222222,
              "#7201a8"
             ],
             [
              0.3333333333333333,
              "#9c179e"
             ],
             [
              0.4444444444444444,
              "#bd3786"
             ],
             [
              0.5555555555555556,
              "#d8576b"
             ],
             [
              0.6666666666666666,
              "#ed7953"
             ],
             [
              0.7777777777777778,
              "#fb9f3a"
             ],
             [
              0.8888888888888888,
              "#fdca26"
             ],
             [
              1,
              "#f0f921"
             ]
            ],
            "type": "histogram2d"
           }
          ],
          "histogram2dcontour": [
           {
            "colorbar": {
             "outlinewidth": 0,
             "ticks": ""
            },
            "colorscale": [
             [
              0,
              "#0d0887"
             ],
             [
              0.1111111111111111,
              "#46039f"
             ],
             [
              0.2222222222222222,
              "#7201a8"
             ],
             [
              0.3333333333333333,
              "#9c179e"
             ],
             [
              0.4444444444444444,
              "#bd3786"
             ],
             [
              0.5555555555555556,
              "#d8576b"
             ],
             [
              0.6666666666666666,
              "#ed7953"
             ],
             [
              0.7777777777777778,
              "#fb9f3a"
             ],
             [
              0.8888888888888888,
              "#fdca26"
             ],
             [
              1,
              "#f0f921"
             ]
            ],
            "type": "histogram2dcontour"
           }
          ],
          "mesh3d": [
           {
            "colorbar": {
             "outlinewidth": 0,
             "ticks": ""
            },
            "type": "mesh3d"
           }
          ],
          "parcoords": [
           {
            "line": {
             "colorbar": {
              "outlinewidth": 0,
              "ticks": ""
             }
            },
            "type": "parcoords"
           }
          ],
          "pie": [
           {
            "automargin": true,
            "type": "pie"
           }
          ],
          "scatter": [
           {
            "fillpattern": {
             "fillmode": "overlay",
             "size": 10,
             "solidity": 0.2
            },
            "type": "scatter"
           }
          ],
          "scatter3d": [
           {
            "line": {
             "colorbar": {
              "outlinewidth": 0,
              "ticks": ""
             }
            },
            "marker": {
             "colorbar": {
              "outlinewidth": 0,
              "ticks": ""
             }
            },
            "type": "scatter3d"
           }
          ],
          "scattercarpet": [
           {
            "marker": {
             "colorbar": {
              "outlinewidth": 0,
              "ticks": ""
             }
            },
            "type": "scattercarpet"
           }
          ],
          "scattergeo": [
           {
            "marker": {
             "colorbar": {
              "outlinewidth": 0,
              "ticks": ""
             }
            },
            "type": "scattergeo"
           }
          ],
          "scattergl": [
           {
            "marker": {
             "colorbar": {
              "outlinewidth": 0,
              "ticks": ""
             }
            },
            "type": "scattergl"
           }
          ],
          "scattermapbox": [
           {
            "marker": {
             "colorbar": {
              "outlinewidth": 0,
              "ticks": ""
             }
            },
            "type": "scattermapbox"
           }
          ],
          "scatterpolar": [
           {
            "marker": {
             "colorbar": {
              "outlinewidth": 0,
              "ticks": ""
             }
            },
            "type": "scatterpolar"
           }
          ],
          "scatterpolargl": [
           {
            "marker": {
             "colorbar": {
              "outlinewidth": 0,
              "ticks": ""
             }
            },
            "type": "scatterpolargl"
           }
          ],
          "scatterternary": [
           {
            "marker": {
             "colorbar": {
              "outlinewidth": 0,
              "ticks": ""
             }
            },
            "type": "scatterternary"
           }
          ],
          "surface": [
           {
            "colorbar": {
             "outlinewidth": 0,
             "ticks": ""
            },
            "colorscale": [
             [
              0,
              "#0d0887"
             ],
             [
              0.1111111111111111,
              "#46039f"
             ],
             [
              0.2222222222222222,
              "#7201a8"
             ],
             [
              0.3333333333333333,
              "#9c179e"
             ],
             [
              0.4444444444444444,
              "#bd3786"
             ],
             [
              0.5555555555555556,
              "#d8576b"
             ],
             [
              0.6666666666666666,
              "#ed7953"
             ],
             [
              0.7777777777777778,
              "#fb9f3a"
             ],
             [
              0.8888888888888888,
              "#fdca26"
             ],
             [
              1,
              "#f0f921"
             ]
            ],
            "type": "surface"
           }
          ],
          "table": [
           {
            "cells": {
             "fill": {
              "color": "#EBF0F8"
             },
             "line": {
              "color": "white"
             }
            },
            "header": {
             "fill": {
              "color": "#C8D4E3"
             },
             "line": {
              "color": "white"
             }
            },
            "type": "table"
           }
          ]
         },
         "layout": {
          "annotationdefaults": {
           "arrowcolor": "#2a3f5f",
           "arrowhead": 0,
           "arrowwidth": 1
          },
          "autotypenumbers": "strict",
          "coloraxis": {
           "colorbar": {
            "outlinewidth": 0,
            "ticks": ""
           }
          },
          "colorscale": {
           "diverging": [
            [
             0,
             "#8e0152"
            ],
            [
             0.1,
             "#c51b7d"
            ],
            [
             0.2,
             "#de77ae"
            ],
            [
             0.3,
             "#f1b6da"
            ],
            [
             0.4,
             "#fde0ef"
            ],
            [
             0.5,
             "#f7f7f7"
            ],
            [
             0.6,
             "#e6f5d0"
            ],
            [
             0.7,
             "#b8e186"
            ],
            [
             0.8,
             "#7fbc41"
            ],
            [
             0.9,
             "#4d9221"
            ],
            [
             1,
             "#276419"
            ]
           ],
           "sequential": [
            [
             0,
             "#0d0887"
            ],
            [
             0.1111111111111111,
             "#46039f"
            ],
            [
             0.2222222222222222,
             "#7201a8"
            ],
            [
             0.3333333333333333,
             "#9c179e"
            ],
            [
             0.4444444444444444,
             "#bd3786"
            ],
            [
             0.5555555555555556,
             "#d8576b"
            ],
            [
             0.6666666666666666,
             "#ed7953"
            ],
            [
             0.7777777777777778,
             "#fb9f3a"
            ],
            [
             0.8888888888888888,
             "#fdca26"
            ],
            [
             1,
             "#f0f921"
            ]
           ],
           "sequentialminus": [
            [
             0,
             "#0d0887"
            ],
            [
             0.1111111111111111,
             "#46039f"
            ],
            [
             0.2222222222222222,
             "#7201a8"
            ],
            [
             0.3333333333333333,
             "#9c179e"
            ],
            [
             0.4444444444444444,
             "#bd3786"
            ],
            [
             0.5555555555555556,
             "#d8576b"
            ],
            [
             0.6666666666666666,
             "#ed7953"
            ],
            [
             0.7777777777777778,
             "#fb9f3a"
            ],
            [
             0.8888888888888888,
             "#fdca26"
            ],
            [
             1,
             "#f0f921"
            ]
           ]
          },
          "colorway": [
           "#636efa",
           "#EF553B",
           "#00cc96",
           "#ab63fa",
           "#FFA15A",
           "#19d3f3",
           "#FF6692",
           "#B6E880",
           "#FF97FF",
           "#FECB52"
          ],
          "font": {
           "color": "#2a3f5f"
          },
          "geo": {
           "bgcolor": "white",
           "lakecolor": "white",
           "landcolor": "#E5ECF6",
           "showlakes": true,
           "showland": true,
           "subunitcolor": "white"
          },
          "hoverlabel": {
           "align": "left"
          },
          "hovermode": "closest",
          "mapbox": {
           "style": "light"
          },
          "paper_bgcolor": "white",
          "plot_bgcolor": "#E5ECF6",
          "polar": {
           "angularaxis": {
            "gridcolor": "white",
            "linecolor": "white",
            "ticks": ""
           },
           "bgcolor": "#E5ECF6",
           "radialaxis": {
            "gridcolor": "white",
            "linecolor": "white",
            "ticks": ""
           }
          },
          "scene": {
           "xaxis": {
            "backgroundcolor": "#E5ECF6",
            "gridcolor": "white",
            "gridwidth": 2,
            "linecolor": "white",
            "showbackground": true,
            "ticks": "",
            "zerolinecolor": "white"
           },
           "yaxis": {
            "backgroundcolor": "#E5ECF6",
            "gridcolor": "white",
            "gridwidth": 2,
            "linecolor": "white",
            "showbackground": true,
            "ticks": "",
            "zerolinecolor": "white"
           },
           "zaxis": {
            "backgroundcolor": "#E5ECF6",
            "gridcolor": "white",
            "gridwidth": 2,
            "linecolor": "white",
            "showbackground": true,
            "ticks": "",
            "zerolinecolor": "white"
           }
          },
          "shapedefaults": {
           "line": {
            "color": "#2a3f5f"
           }
          },
          "ternary": {
           "aaxis": {
            "gridcolor": "white",
            "linecolor": "white",
            "ticks": ""
           },
           "baxis": {
            "gridcolor": "white",
            "linecolor": "white",
            "ticks": ""
           },
           "bgcolor": "#E5ECF6",
           "caxis": {
            "gridcolor": "white",
            "linecolor": "white",
            "ticks": ""
           }
          },
          "title": {
           "x": 0.05
          },
          "xaxis": {
           "automargin": true,
           "gridcolor": "white",
           "linecolor": "white",
           "ticks": "",
           "title": {
            "standoff": 15
           },
           "zerolinecolor": "white",
           "zerolinewidth": 2
          },
          "yaxis": {
           "automargin": true,
           "gridcolor": "white",
           "linecolor": "white",
           "ticks": "",
           "title": {
            "standoff": 15
           },
           "zerolinecolor": "white",
           "zerolinewidth": 2
          }
         }
        }
       }
      }
     },
     "metadata": {},
     "output_type": "display_data"
    }
   ],
   "source": [
    "plot_point_cloud(y_periodic_embedded)"
   ]
  },
  {
   "cell_type": "code",
   "execution_count": 54,
   "metadata": {},
   "outputs": [
    {
     "name": "stdout",
     "output_type": "stream",
     "text": [
      "Persistence diagram for periodic signal\n"
     ]
    },
    {
     "data": {
      "application/vnd.plotly.v1+json": {
       "config": {
        "plotlyServerURL": "https://plot.ly"
       },
       "data": [
        {
         "hoverinfo": "none",
         "line": {
          "color": "black",
          "dash": "dash",
          "width": 1
         },
         "mode": "lines",
         "showlegend": false,
         "type": "scatter",
         "x": [
          -0.4242640686035156,
          21.637467498779298
         ],
         "y": [
          -0.4242640686035156,
          21.637467498779298
         ]
        },
        {
         "hoverinfo": "text",
         "hovertext": [
          "(0.0, 1.0), multiplicity: 3",
          "(0.0, 1.0), multiplicity: 3",
          "(0.0, 1.0), multiplicity: 3",
          "(0.0, 1.4142135381698608), multiplicity: 6",
          "(0.0, 1.4142135381698608), multiplicity: 6",
          "(0.0, 1.4142135381698608), multiplicity: 6",
          "(0.0, 1.4142135381698608), multiplicity: 6",
          "(0.0, 1.4142135381698608), multiplicity: 6",
          "(0.0, 1.4142135381698608), multiplicity: 6",
          "(0.0, 1.7320507764816284), multiplicity: 7",
          "(0.0, 1.7320507764816284), multiplicity: 7",
          "(0.0, 1.7320507764816284), multiplicity: 7",
          "(0.0, 1.7320507764816284), multiplicity: 7",
          "(0.0, 1.7320507764816284), multiplicity: 7",
          "(0.0, 1.7320507764816284), multiplicity: 7",
          "(0.0, 1.7320507764816284), multiplicity: 7",
          "(0.0, 2.0), multiplicity: 5",
          "(0.0, 2.0), multiplicity: 5",
          "(0.0, 2.0), multiplicity: 5",
          "(0.0, 2.0), multiplicity: 5",
          "(0.0, 2.0), multiplicity: 5",
          "(0.0, 2.2360680103302), multiplicity: 14",
          "(0.0, 2.2360680103302), multiplicity: 14",
          "(0.0, 2.2360680103302), multiplicity: 14",
          "(0.0, 2.2360680103302), multiplicity: 14",
          "(0.0, 2.2360680103302), multiplicity: 14",
          "(0.0, 2.2360680103302), multiplicity: 14",
          "(0.0, 2.2360680103302), multiplicity: 14",
          "(0.0, 2.2360680103302), multiplicity: 14",
          "(0.0, 2.2360680103302), multiplicity: 14",
          "(0.0, 2.2360680103302), multiplicity: 14",
          "(0.0, 2.2360680103302), multiplicity: 14",
          "(0.0, 2.2360680103302), multiplicity: 14",
          "(0.0, 2.2360680103302), multiplicity: 14",
          "(0.0, 2.2360680103302), multiplicity: 14",
          "(0.0, 2.4494898319244385), multiplicity: 5",
          "(0.0, 2.4494898319244385), multiplicity: 5",
          "(0.0, 2.4494898319244385), multiplicity: 5",
          "(0.0, 2.4494898319244385), multiplicity: 5",
          "(0.0, 2.4494898319244385), multiplicity: 5",
          "(0.0, 2.8284270763397217), multiplicity: 3",
          "(0.0, 2.8284270763397217), multiplicity: 3",
          "(0.0, 2.8284270763397217), multiplicity: 3",
          "(0.0, 3.0), multiplicity: 3",
          "(0.0, 3.0), multiplicity: 3",
          "(0.0, 3.0), multiplicity: 3",
          "(0.0, 3.1622776985168457), multiplicity: 3",
          "(0.0, 3.1622776985168457), multiplicity: 3",
          "(0.0, 3.1622776985168457), multiplicity: 3",
          "(0.0, 3.316624879837036), multiplicity: 2",
          "(0.0, 3.316624879837036), multiplicity: 2",
          "(0.0, 3.464101552963257), multiplicity: 3",
          "(0.0, 3.464101552963257), multiplicity: 3",
          "(0.0, 3.464101552963257), multiplicity: 3",
          "(0.0, 3.605551242828369)",
          "(0.0, 3.7416574954986572), multiplicity: 3",
          "(0.0, 3.7416574954986572), multiplicity: 3",
          "(0.0, 3.7416574954986572), multiplicity: 3",
          "(0.0, 4.123105525970459), multiplicity: 2",
          "(0.0, 4.123105525970459), multiplicity: 2",
          "(0.0, 4.242640495300293), multiplicity: 2",
          "(0.0, 4.242640495300293), multiplicity: 2",
          "(0.0, 5.099019527435303), multiplicity: 3",
          "(0.0, 5.099019527435303), multiplicity: 3",
          "(0.0, 5.099019527435303), multiplicity: 3",
          "(0.0, 5.196152210235596), multiplicity: 2",
          "(0.0, 5.196152210235596), multiplicity: 2",
          "(0.0, 5.385164737701416)",
          "(0.0, 5.4772257804870605)",
          "(0.0, 6.480740547180176)",
          "(0.0, 7.8102498054504395)",
          "(0.0, 9.486832618713379)",
          "(0.0, 20.02498435974121)",
          "(0.0, 21.21320343017578)"
         ],
         "mode": "markers",
         "name": "H0",
         "type": "scatter",
         "x": [
          0,
          0,
          0,
          0,
          0,
          0,
          0,
          0,
          0,
          0,
          0,
          0,
          0,
          0,
          0,
          0,
          0,
          0,
          0,
          0,
          0,
          0,
          0,
          0,
          0,
          0,
          0,
          0,
          0,
          0,
          0,
          0,
          0,
          0,
          0,
          0,
          0,
          0,
          0,
          0,
          0,
          0,
          0,
          0,
          0,
          0,
          0,
          0,
          0,
          0,
          0,
          0,
          0,
          0,
          0,
          0,
          0,
          0,
          0,
          0,
          0,
          0,
          0,
          0,
          0,
          0,
          0,
          0,
          0,
          0,
          0,
          0,
          0,
          0
         ],
         "y": [
          1,
          1,
          1,
          1.4142135381698608,
          1.4142135381698608,
          1.4142135381698608,
          1.4142135381698608,
          1.4142135381698608,
          1.4142135381698608,
          1.7320507764816284,
          1.7320507764816284,
          1.7320507764816284,
          1.7320507764816284,
          1.7320507764816284,
          1.7320507764816284,
          1.7320507764816284,
          2,
          2,
          2,
          2,
          2,
          2.2360680103302,
          2.2360680103302,
          2.2360680103302,
          2.2360680103302,
          2.2360680103302,
          2.2360680103302,
          2.2360680103302,
          2.2360680103302,
          2.2360680103302,
          2.2360680103302,
          2.2360680103302,
          2.2360680103302,
          2.2360680103302,
          2.2360680103302,
          2.4494898319244385,
          2.4494898319244385,
          2.4494898319244385,
          2.4494898319244385,
          2.4494898319244385,
          2.8284270763397217,
          2.8284270763397217,
          2.8284270763397217,
          3,
          3,
          3,
          3.1622776985168457,
          3.1622776985168457,
          3.1622776985168457,
          3.316624879837036,
          3.316624879837036,
          3.464101552963257,
          3.464101552963257,
          3.464101552963257,
          3.605551242828369,
          3.7416574954986572,
          3.7416574954986572,
          3.7416574954986572,
          4.123105525970459,
          4.123105525970459,
          4.242640495300293,
          4.242640495300293,
          5.099019527435303,
          5.099019527435303,
          5.099019527435303,
          5.196152210235596,
          5.196152210235596,
          5.385164737701416,
          5.4772257804870605,
          6.480740547180176,
          7.8102498054504395,
          9.486832618713379,
          20.02498435974121,
          21.21320343017578
         ]
        },
        {
         "hoverinfo": "text",
         "hovertext": [
          "(9.110433578491211, 9.486832618713379)",
          "(7.874007701873779, 8.83176040649414)",
          "(6.7082037925720215, 7.141428470611572)",
          "(6.324555397033691, 7.071067810058594)",
          "(5.385164737701416, 8.062257766723633)",
          "(5.099019527435303, 5.74456262588501)",
          "(4.690415859222412, 5.0), multiplicity: 2",
          "(4.690415859222412, 5.0), multiplicity: 2",
          "(4.4721360206604, 5.196152210235596)",
          "(4.242640495300293, 4.358899116516113)",
          "(4.123105525970459, 4.582575798034668)",
          "(4.123105525970459, 4.4721360206604)",
          "(3.7416574954986572, 5.099019527435303)",
          "(3.7416574954986572, 4.123105525970459), multiplicity: 2",
          "(3.7416574954986572, 4.123105525970459), multiplicity: 2",
          "(3.7416574954986572, 4.0)",
          "(3.605551242828369, 4.4721360206604)",
          "(3.316624879837036, 4.4721360206604)",
          "(3.316624879837036, 3.605551242828369)",
          "(3.1622776985168457, 3.7416574954986572)",
          "(3.0, 3.1622776985168457)"
         ],
         "mode": "markers",
         "name": "H1",
         "type": "scatter",
         "x": [
          9.110433578491211,
          7.874007701873779,
          6.7082037925720215,
          6.324555397033691,
          5.385164737701416,
          5.099019527435303,
          4.690415859222412,
          4.690415859222412,
          4.4721360206604,
          4.242640495300293,
          4.123105525970459,
          4.123105525970459,
          3.7416574954986572,
          3.7416574954986572,
          3.7416574954986572,
          3.7416574954986572,
          3.605551242828369,
          3.316624879837036,
          3.316624879837036,
          3.1622776985168457,
          3
         ],
         "y": [
          9.486832618713379,
          8.83176040649414,
          7.141428470611572,
          7.071067810058594,
          8.062257766723633,
          5.74456262588501,
          5,
          5,
          5.196152210235596,
          4.358899116516113,
          4.582575798034668,
          4.4721360206604,
          5.099019527435303,
          4.123105525970459,
          4.123105525970459,
          4,
          4.4721360206604,
          4.4721360206604,
          3.605551242828369,
          3.7416574954986572,
          3.1622776985168457
         ]
        },
        {
         "hoverinfo": "text",
         "hovertext": [
          "(5.385164737701416, 6.164413928985596)",
          "(5.099019527435303, 5.385164737701416)"
         ],
         "mode": "markers",
         "name": "H2",
         "type": "scatter",
         "x": [
          5.385164737701416,
          5.099019527435303
         ],
         "y": [
          6.164413928985596,
          5.385164737701416
         ]
        }
       ],
       "layout": {
        "height": 500,
        "plot_bgcolor": "white",
        "template": {
         "data": {
          "bar": [
           {
            "error_x": {
             "color": "#2a3f5f"
            },
            "error_y": {
             "color": "#2a3f5f"
            },
            "marker": {
             "line": {
              "color": "#E5ECF6",
              "width": 0.5
             },
             "pattern": {
              "fillmode": "overlay",
              "size": 10,
              "solidity": 0.2
             }
            },
            "type": "bar"
           }
          ],
          "barpolar": [
           {
            "marker": {
             "line": {
              "color": "#E5ECF6",
              "width": 0.5
             },
             "pattern": {
              "fillmode": "overlay",
              "size": 10,
              "solidity": 0.2
             }
            },
            "type": "barpolar"
           }
          ],
          "carpet": [
           {
            "aaxis": {
             "endlinecolor": "#2a3f5f",
             "gridcolor": "white",
             "linecolor": "white",
             "minorgridcolor": "white",
             "startlinecolor": "#2a3f5f"
            },
            "baxis": {
             "endlinecolor": "#2a3f5f",
             "gridcolor": "white",
             "linecolor": "white",
             "minorgridcolor": "white",
             "startlinecolor": "#2a3f5f"
            },
            "type": "carpet"
           }
          ],
          "choropleth": [
           {
            "colorbar": {
             "outlinewidth": 0,
             "ticks": ""
            },
            "type": "choropleth"
           }
          ],
          "contour": [
           {
            "colorbar": {
             "outlinewidth": 0,
             "ticks": ""
            },
            "colorscale": [
             [
              0,
              "#0d0887"
             ],
             [
              0.1111111111111111,
              "#46039f"
             ],
             [
              0.2222222222222222,
              "#7201a8"
             ],
             [
              0.3333333333333333,
              "#9c179e"
             ],
             [
              0.4444444444444444,
              "#bd3786"
             ],
             [
              0.5555555555555556,
              "#d8576b"
             ],
             [
              0.6666666666666666,
              "#ed7953"
             ],
             [
              0.7777777777777778,
              "#fb9f3a"
             ],
             [
              0.8888888888888888,
              "#fdca26"
             ],
             [
              1,
              "#f0f921"
             ]
            ],
            "type": "contour"
           }
          ],
          "contourcarpet": [
           {
            "colorbar": {
             "outlinewidth": 0,
             "ticks": ""
            },
            "type": "contourcarpet"
           }
          ],
          "heatmap": [
           {
            "colorbar": {
             "outlinewidth": 0,
             "ticks": ""
            },
            "colorscale": [
             [
              0,
              "#0d0887"
             ],
             [
              0.1111111111111111,
              "#46039f"
             ],
             [
              0.2222222222222222,
              "#7201a8"
             ],
             [
              0.3333333333333333,
              "#9c179e"
             ],
             [
              0.4444444444444444,
              "#bd3786"
             ],
             [
              0.5555555555555556,
              "#d8576b"
             ],
             [
              0.6666666666666666,
              "#ed7953"
             ],
             [
              0.7777777777777778,
              "#fb9f3a"
             ],
             [
              0.8888888888888888,
              "#fdca26"
             ],
             [
              1,
              "#f0f921"
             ]
            ],
            "type": "heatmap"
           }
          ],
          "heatmapgl": [
           {
            "colorbar": {
             "outlinewidth": 0,
             "ticks": ""
            },
            "colorscale": [
             [
              0,
              "#0d0887"
             ],
             [
              0.1111111111111111,
              "#46039f"
             ],
             [
              0.2222222222222222,
              "#7201a8"
             ],
             [
              0.3333333333333333,
              "#9c179e"
             ],
             [
              0.4444444444444444,
              "#bd3786"
             ],
             [
              0.5555555555555556,
              "#d8576b"
             ],
             [
              0.6666666666666666,
              "#ed7953"
             ],
             [
              0.7777777777777778,
              "#fb9f3a"
             ],
             [
              0.8888888888888888,
              "#fdca26"
             ],
             [
              1,
              "#f0f921"
             ]
            ],
            "type": "heatmapgl"
           }
          ],
          "histogram": [
           {
            "marker": {
             "pattern": {
              "fillmode": "overlay",
              "size": 10,
              "solidity": 0.2
             }
            },
            "type": "histogram"
           }
          ],
          "histogram2d": [
           {
            "colorbar": {
             "outlinewidth": 0,
             "ticks": ""
            },
            "colorscale": [
             [
              0,
              "#0d0887"
             ],
             [
              0.1111111111111111,
              "#46039f"
             ],
             [
              0.2222222222222222,
              "#7201a8"
             ],
             [
              0.3333333333333333,
              "#9c179e"
             ],
             [
              0.4444444444444444,
              "#bd3786"
             ],
             [
              0.5555555555555556,
              "#d8576b"
             ],
             [
              0.6666666666666666,
              "#ed7953"
             ],
             [
              0.7777777777777778,
              "#fb9f3a"
             ],
             [
              0.8888888888888888,
              "#fdca26"
             ],
             [
              1,
              "#f0f921"
             ]
            ],
            "type": "histogram2d"
           }
          ],
          "histogram2dcontour": [
           {
            "colorbar": {
             "outlinewidth": 0,
             "ticks": ""
            },
            "colorscale": [
             [
              0,
              "#0d0887"
             ],
             [
              0.1111111111111111,
              "#46039f"
             ],
             [
              0.2222222222222222,
              "#7201a8"
             ],
             [
              0.3333333333333333,
              "#9c179e"
             ],
             [
              0.4444444444444444,
              "#bd3786"
             ],
             [
              0.5555555555555556,
              "#d8576b"
             ],
             [
              0.6666666666666666,
              "#ed7953"
             ],
             [
              0.7777777777777778,
              "#fb9f3a"
             ],
             [
              0.8888888888888888,
              "#fdca26"
             ],
             [
              1,
              "#f0f921"
             ]
            ],
            "type": "histogram2dcontour"
           }
          ],
          "mesh3d": [
           {
            "colorbar": {
             "outlinewidth": 0,
             "ticks": ""
            },
            "type": "mesh3d"
           }
          ],
          "parcoords": [
           {
            "line": {
             "colorbar": {
              "outlinewidth": 0,
              "ticks": ""
             }
            },
            "type": "parcoords"
           }
          ],
          "pie": [
           {
            "automargin": true,
            "type": "pie"
           }
          ],
          "scatter": [
           {
            "fillpattern": {
             "fillmode": "overlay",
             "size": 10,
             "solidity": 0.2
            },
            "type": "scatter"
           }
          ],
          "scatter3d": [
           {
            "line": {
             "colorbar": {
              "outlinewidth": 0,
              "ticks": ""
             }
            },
            "marker": {
             "colorbar": {
              "outlinewidth": 0,
              "ticks": ""
             }
            },
            "type": "scatter3d"
           }
          ],
          "scattercarpet": [
           {
            "marker": {
             "colorbar": {
              "outlinewidth": 0,
              "ticks": ""
             }
            },
            "type": "scattercarpet"
           }
          ],
          "scattergeo": [
           {
            "marker": {
             "colorbar": {
              "outlinewidth": 0,
              "ticks": ""
             }
            },
            "type": "scattergeo"
           }
          ],
          "scattergl": [
           {
            "marker": {
             "colorbar": {
              "outlinewidth": 0,
              "ticks": ""
             }
            },
            "type": "scattergl"
           }
          ],
          "scattermapbox": [
           {
            "marker": {
             "colorbar": {
              "outlinewidth": 0,
              "ticks": ""
             }
            },
            "type": "scattermapbox"
           }
          ],
          "scatterpolar": [
           {
            "marker": {
             "colorbar": {
              "outlinewidth": 0,
              "ticks": ""
             }
            },
            "type": "scatterpolar"
           }
          ],
          "scatterpolargl": [
           {
            "marker": {
             "colorbar": {
              "outlinewidth": 0,
              "ticks": ""
             }
            },
            "type": "scatterpolargl"
           }
          ],
          "scatterternary": [
           {
            "marker": {
             "colorbar": {
              "outlinewidth": 0,
              "ticks": ""
             }
            },
            "type": "scatterternary"
           }
          ],
          "surface": [
           {
            "colorbar": {
             "outlinewidth": 0,
             "ticks": ""
            },
            "colorscale": [
             [
              0,
              "#0d0887"
             ],
             [
              0.1111111111111111,
              "#46039f"
             ],
             [
              0.2222222222222222,
              "#7201a8"
             ],
             [
              0.3333333333333333,
              "#9c179e"
             ],
             [
              0.4444444444444444,
              "#bd3786"
             ],
             [
              0.5555555555555556,
              "#d8576b"
             ],
             [
              0.6666666666666666,
              "#ed7953"
             ],
             [
              0.7777777777777778,
              "#fb9f3a"
             ],
             [
              0.8888888888888888,
              "#fdca26"
             ],
             [
              1,
              "#f0f921"
             ]
            ],
            "type": "surface"
           }
          ],
          "table": [
           {
            "cells": {
             "fill": {
              "color": "#EBF0F8"
             },
             "line": {
              "color": "white"
             }
            },
            "header": {
             "fill": {
              "color": "#C8D4E3"
             },
             "line": {
              "color": "white"
             }
            },
            "type": "table"
           }
          ]
         },
         "layout": {
          "annotationdefaults": {
           "arrowcolor": "#2a3f5f",
           "arrowhead": 0,
           "arrowwidth": 1
          },
          "autotypenumbers": "strict",
          "coloraxis": {
           "colorbar": {
            "outlinewidth": 0,
            "ticks": ""
           }
          },
          "colorscale": {
           "diverging": [
            [
             0,
             "#8e0152"
            ],
            [
             0.1,
             "#c51b7d"
            ],
            [
             0.2,
             "#de77ae"
            ],
            [
             0.3,
             "#f1b6da"
            ],
            [
             0.4,
             "#fde0ef"
            ],
            [
             0.5,
             "#f7f7f7"
            ],
            [
             0.6,
             "#e6f5d0"
            ],
            [
             0.7,
             "#b8e186"
            ],
            [
             0.8,
             "#7fbc41"
            ],
            [
             0.9,
             "#4d9221"
            ],
            [
             1,
             "#276419"
            ]
           ],
           "sequential": [
            [
             0,
             "#0d0887"
            ],
            [
             0.1111111111111111,
             "#46039f"
            ],
            [
             0.2222222222222222,
             "#7201a8"
            ],
            [
             0.3333333333333333,
             "#9c179e"
            ],
            [
             0.4444444444444444,
             "#bd3786"
            ],
            [
             0.5555555555555556,
             "#d8576b"
            ],
            [
             0.6666666666666666,
             "#ed7953"
            ],
            [
             0.7777777777777778,
             "#fb9f3a"
            ],
            [
             0.8888888888888888,
             "#fdca26"
            ],
            [
             1,
             "#f0f921"
            ]
           ],
           "sequentialminus": [
            [
             0,
             "#0d0887"
            ],
            [
             0.1111111111111111,
             "#46039f"
            ],
            [
             0.2222222222222222,
             "#7201a8"
            ],
            [
             0.3333333333333333,
             "#9c179e"
            ],
            [
             0.4444444444444444,
             "#bd3786"
            ],
            [
             0.5555555555555556,
             "#d8576b"
            ],
            [
             0.6666666666666666,
             "#ed7953"
            ],
            [
             0.7777777777777778,
             "#fb9f3a"
            ],
            [
             0.8888888888888888,
             "#fdca26"
            ],
            [
             1,
             "#f0f921"
            ]
           ]
          },
          "colorway": [
           "#636efa",
           "#EF553B",
           "#00cc96",
           "#ab63fa",
           "#FFA15A",
           "#19d3f3",
           "#FF6692",
           "#B6E880",
           "#FF97FF",
           "#FECB52"
          ],
          "font": {
           "color": "#2a3f5f"
          },
          "geo": {
           "bgcolor": "white",
           "lakecolor": "white",
           "landcolor": "#E5ECF6",
           "showlakes": true,
           "showland": true,
           "subunitcolor": "white"
          },
          "hoverlabel": {
           "align": "left"
          },
          "hovermode": "closest",
          "mapbox": {
           "style": "light"
          },
          "paper_bgcolor": "white",
          "plot_bgcolor": "#E5ECF6",
          "polar": {
           "angularaxis": {
            "gridcolor": "white",
            "linecolor": "white",
            "ticks": ""
           },
           "bgcolor": "#E5ECF6",
           "radialaxis": {
            "gridcolor": "white",
            "linecolor": "white",
            "ticks": ""
           }
          },
          "scene": {
           "xaxis": {
            "backgroundcolor": "#E5ECF6",
            "gridcolor": "white",
            "gridwidth": 2,
            "linecolor": "white",
            "showbackground": true,
            "ticks": "",
            "zerolinecolor": "white"
           },
           "yaxis": {
            "backgroundcolor": "#E5ECF6",
            "gridcolor": "white",
            "gridwidth": 2,
            "linecolor": "white",
            "showbackground": true,
            "ticks": "",
            "zerolinecolor": "white"
           },
           "zaxis": {
            "backgroundcolor": "#E5ECF6",
            "gridcolor": "white",
            "gridwidth": 2,
            "linecolor": "white",
            "showbackground": true,
            "ticks": "",
            "zerolinecolor": "white"
           }
          },
          "shapedefaults": {
           "line": {
            "color": "#2a3f5f"
           }
          },
          "ternary": {
           "aaxis": {
            "gridcolor": "white",
            "linecolor": "white",
            "ticks": ""
           },
           "baxis": {
            "gridcolor": "white",
            "linecolor": "white",
            "ticks": ""
           },
           "bgcolor": "#E5ECF6",
           "caxis": {
            "gridcolor": "white",
            "linecolor": "white",
            "ticks": ""
           }
          },
          "title": {
           "x": 0.05
          },
          "xaxis": {
           "automargin": true,
           "gridcolor": "white",
           "linecolor": "white",
           "ticks": "",
           "title": {
            "standoff": 15
           },
           "zerolinecolor": "white",
           "zerolinewidth": 2
          },
          "yaxis": {
           "automargin": true,
           "gridcolor": "white",
           "linecolor": "white",
           "ticks": "",
           "title": {
            "standoff": 15
           },
           "zerolinecolor": "white",
           "zerolinewidth": 2
          }
         }
        },
        "width": 500,
        "xaxis": {
         "autorange": false,
         "exponentformat": "e",
         "linecolor": "black",
         "linewidth": 1,
         "mirror": false,
         "range": [
          -0.4242640686035156,
          21.637467498779298
         ],
         "showexponent": "all",
         "showline": true,
         "side": "bottom",
         "ticks": "outside",
         "title": {
          "text": "Birth"
         },
         "type": "linear",
         "zeroline": true
        },
        "yaxis": {
         "autorange": false,
         "exponentformat": "e",
         "linecolor": "black",
         "linewidth": 1,
         "mirror": false,
         "range": [
          -0.4242640686035156,
          21.637467498779298
         ],
         "scaleanchor": "x",
         "scaleratio": 1,
         "showexponent": "all",
         "showline": true,
         "side": "left",
         "ticks": "outside",
         "title": {
          "text": "Death"
         },
         "type": "linear",
         "zeroline": true
        }
       }
      }
     },
     "metadata": {},
     "output_type": "display_data"
    },
    {
     "data": {
      "text/plain": [
       "array([[[ 0.        ,  1.        ,  0.        ],\n",
       "        [ 0.        ,  1.        ,  0.        ],\n",
       "        [ 0.        ,  1.        ,  0.        ],\n",
       "        [ 0.        ,  1.41421354,  0.        ],\n",
       "        [ 0.        ,  1.41421354,  0.        ],\n",
       "        [ 0.        ,  1.41421354,  0.        ],\n",
       "        [ 0.        ,  1.41421354,  0.        ],\n",
       "        [ 0.        ,  1.41421354,  0.        ],\n",
       "        [ 0.        ,  1.41421354,  0.        ],\n",
       "        [ 0.        ,  1.73205078,  0.        ],\n",
       "        [ 0.        ,  1.73205078,  0.        ],\n",
       "        [ 0.        ,  1.73205078,  0.        ],\n",
       "        [ 0.        ,  1.73205078,  0.        ],\n",
       "        [ 0.        ,  1.73205078,  0.        ],\n",
       "        [ 0.        ,  1.73205078,  0.        ],\n",
       "        [ 0.        ,  1.73205078,  0.        ],\n",
       "        [ 0.        ,  2.        ,  0.        ],\n",
       "        [ 0.        ,  2.        ,  0.        ],\n",
       "        [ 0.        ,  2.        ,  0.        ],\n",
       "        [ 0.        ,  2.        ,  0.        ],\n",
       "        [ 0.        ,  2.        ,  0.        ],\n",
       "        [ 0.        ,  2.23606801,  0.        ],\n",
       "        [ 0.        ,  2.23606801,  0.        ],\n",
       "        [ 0.        ,  2.23606801,  0.        ],\n",
       "        [ 0.        ,  2.23606801,  0.        ],\n",
       "        [ 0.        ,  2.23606801,  0.        ],\n",
       "        [ 0.        ,  2.23606801,  0.        ],\n",
       "        [ 0.        ,  2.23606801,  0.        ],\n",
       "        [ 0.        ,  2.23606801,  0.        ],\n",
       "        [ 0.        ,  2.23606801,  0.        ],\n",
       "        [ 0.        ,  2.23606801,  0.        ],\n",
       "        [ 0.        ,  2.23606801,  0.        ],\n",
       "        [ 0.        ,  2.23606801,  0.        ],\n",
       "        [ 0.        ,  2.23606801,  0.        ],\n",
       "        [ 0.        ,  2.23606801,  0.        ],\n",
       "        [ 0.        ,  2.44948983,  0.        ],\n",
       "        [ 0.        ,  2.44948983,  0.        ],\n",
       "        [ 0.        ,  2.44948983,  0.        ],\n",
       "        [ 0.        ,  2.44948983,  0.        ],\n",
       "        [ 0.        ,  2.44948983,  0.        ],\n",
       "        [ 0.        ,  2.82842708,  0.        ],\n",
       "        [ 0.        ,  2.82842708,  0.        ],\n",
       "        [ 0.        ,  2.82842708,  0.        ],\n",
       "        [ 0.        ,  3.        ,  0.        ],\n",
       "        [ 0.        ,  3.        ,  0.        ],\n",
       "        [ 0.        ,  3.        ,  0.        ],\n",
       "        [ 0.        ,  3.1622777 ,  0.        ],\n",
       "        [ 0.        ,  3.1622777 ,  0.        ],\n",
       "        [ 0.        ,  3.1622777 ,  0.        ],\n",
       "        [ 0.        ,  3.31662488,  0.        ],\n",
       "        [ 0.        ,  3.31662488,  0.        ],\n",
       "        [ 0.        ,  3.46410155,  0.        ],\n",
       "        [ 0.        ,  3.46410155,  0.        ],\n",
       "        [ 0.        ,  3.46410155,  0.        ],\n",
       "        [ 0.        ,  3.60555124,  0.        ],\n",
       "        [ 0.        ,  3.7416575 ,  0.        ],\n",
       "        [ 0.        ,  3.7416575 ,  0.        ],\n",
       "        [ 0.        ,  3.7416575 ,  0.        ],\n",
       "        [ 0.        ,  4.12310553,  0.        ],\n",
       "        [ 0.        ,  4.12310553,  0.        ],\n",
       "        [ 0.        ,  4.2426405 ,  0.        ],\n",
       "        [ 0.        ,  4.2426405 ,  0.        ],\n",
       "        [ 0.        ,  5.09901953,  0.        ],\n",
       "        [ 0.        ,  5.09901953,  0.        ],\n",
       "        [ 0.        ,  5.09901953,  0.        ],\n",
       "        [ 0.        ,  5.19615221,  0.        ],\n",
       "        [ 0.        ,  5.19615221,  0.        ],\n",
       "        [ 0.        ,  5.38516474,  0.        ],\n",
       "        [ 0.        ,  5.47722578,  0.        ],\n",
       "        [ 0.        ,  6.48074055,  0.        ],\n",
       "        [ 0.        ,  7.81024981,  0.        ],\n",
       "        [ 0.        ,  9.48683262,  0.        ],\n",
       "        [ 0.        , 20.02498436,  0.        ],\n",
       "        [ 0.        , 21.21320343,  0.        ],\n",
       "        [ 9.11043358,  9.48683262,  1.        ],\n",
       "        [ 7.8740077 ,  8.83176041,  1.        ],\n",
       "        [ 6.70820379,  7.14142847,  1.        ],\n",
       "        [ 6.3245554 ,  7.07106781,  1.        ],\n",
       "        [ 5.38516474,  8.06225777,  1.        ],\n",
       "        [ 5.09901953,  5.74456263,  1.        ],\n",
       "        [ 4.69041586,  5.        ,  1.        ],\n",
       "        [ 4.69041586,  5.        ,  1.        ],\n",
       "        [ 4.47213602,  5.19615221,  1.        ],\n",
       "        [ 4.2426405 ,  4.35889912,  1.        ],\n",
       "        [ 4.12310553,  4.5825758 ,  1.        ],\n",
       "        [ 4.12310553,  4.47213602,  1.        ],\n",
       "        [ 3.7416575 ,  5.09901953,  1.        ],\n",
       "        [ 3.7416575 ,  4.12310553,  1.        ],\n",
       "        [ 3.7416575 ,  4.12310553,  1.        ],\n",
       "        [ 3.7416575 ,  4.        ,  1.        ],\n",
       "        [ 3.60555124,  4.47213602,  1.        ],\n",
       "        [ 3.31662488,  4.47213602,  1.        ],\n",
       "        [ 3.31662488,  3.60555124,  1.        ],\n",
       "        [ 3.1622777 ,  3.7416575 ,  1.        ],\n",
       "        [ 3.        ,  3.1622777 ,  1.        ],\n",
       "        [ 5.38516474,  6.16441393,  2.        ],\n",
       "        [ 5.09901953,  5.38516474,  2.        ]]])"
      ]
     },
     "execution_count": 54,
     "metadata": {},
     "output_type": "execute_result"
    }
   ],
   "source": [
    "from gtda.homology import VietorisRipsPersistence\n",
    "\n",
    "y_periodic_embedded = y_periodic_embedded[None, :, :]\n",
    "# 0 - connected components, 1 - loops, 2 - voids\n",
    "homology_dimensions = [0, 1, 2]\n",
    "\n",
    "contaminantes_persistence = VietorisRipsPersistence(\n",
    "    homology_dimensions=homology_dimensions, n_jobs=1\n",
    ")\n",
    "print(\"Persistence diagram for periodic signal\")\n",
    "contaminantes_persistence.fit_transform_plot(y_periodic_embedded)"
   ]
  },
  {
   "cell_type": "code",
   "execution_count": null,
   "metadata": {},
   "outputs": [],
   "source": []
  }
 ],
 "metadata": {
  "kernelspec": {
   "display_name": "Python 3",
   "language": "python",
   "name": "python3"
  },
  "language_info": {
   "codemirror_mode": {
    "name": "ipython",
    "version": 3
   },
   "file_extension": ".py",
   "mimetype": "text/x-python",
   "name": "python",
   "nbconvert_exporter": "python",
   "pygments_lexer": "ipython3",
   "version": "3.10.6"
  },
  "orig_nbformat": 4
 },
 "nbformat": 4,
 "nbformat_minor": 2
}
