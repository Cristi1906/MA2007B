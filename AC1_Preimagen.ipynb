{
 "cells": [
  {
   "attachments": {},
   "cell_type": "markdown",
   "metadata": {},
   "source": [
    "# Preimage, Image and Continuous (finite) Functions\n",
    "\n",
    "Over the following notebook you will understand how to compute preimage set for a given finite function, and determine if the function is (topologically) continuous or not.\n",
    "\n",
    "## Example:\n",
    "\n",
    "Consider the set $D=\\{-4,-3,-2,-1,0,1,2,3,4\\}\\subset \\mathbb{Z}$ and $C=\\{0,1,4,9,16\\}.$ We define the function $$\\begin{array}{c} f:D\\to C\\\\ x\\mapsto x^2 \\end{array}$$\n",
    "\n",
    "We want to construct a python function that given a subset of $C,$ return us its preimage subset of $C.$"
   ]
  },
  {
   "cell_type": "code",
   "execution_count": 1,
   "metadata": {},
   "outputs": [
    {
     "name": "stdout",
     "output_type": "stream",
     "text": [
      "{0, 1, 4, 9, 16}\n"
     ]
    }
   ],
   "source": [
    "# First we define our domain, function and image\n",
    "Domain=set([-4,-3,-2,-1,0,1,2,3,4])\n",
    "mapping={x: x*x for x in Domain}\n",
    "Image=set(mapping.values())\n",
    "print(Image)"
   ]
  },
  {
   "cell_type": "code",
   "execution_count": 3,
   "metadata": {},
   "outputs": [
    {
     "name": "stdout",
     "output_type": "stream",
     "text": [
      "{1, 4}\n"
     ]
    }
   ],
   "source": [
    "# We check that the function applied to subsets of the domain provide subsets of the Codomain.\n",
    "function = lambda x:mapping[x]\n",
    "check_image=set([function(x) for x in {1,-2}])\n",
    "print(check_image)"
   ]
  },
  {
   "attachments": {},
   "cell_type": "markdown",
   "metadata": {},
   "source": [
    "# Preimage\n",
    "\n",
    "Recall that given a function $f:D\\to C$ and a subset $E\\subset C,$ the preimage of $E,$ denoted by $f^{-1}(E)$ is the set consisting on all elements in $D$ such that $f(x)\\in E.$ \n",
    "\n",
    "In set notation this is: $$f^{-1}(E)=\\{x\\in D: f(x)\\in E\\}.$$\n",
    "\n",
    "Using this definition we construct the python function."
   ]
  },
  {
   "cell_type": "code",
   "execution_count": 25,
   "metadata": {},
   "outputs": [],
   "source": [
    "def preimage(f, A, Domain): # Given a function, a subset A of the codomain and the Domain,\n",
    "# the preimage function will return the preimage of A.\n",
    "    aux = []\n",
    "    # First we look for all preimage set of each element of A\n",
    "    for y in A:\n",
    "        aux.append({x for x in Domain if f(x) == y})\n",
    "    # Then we take the union of all preimage sets\n",
    "    preimageSet=aux[0]\n",
    "    for x in aux:\n",
    "        preimageSet=preimageSet.union(x)\n",
    "    # Finally we return the preimage set\n",
    "    return preimageSet"
   ]
  },
  {
   "attachments": {},
   "cell_type": "markdown",
   "metadata": {},
   "source": [
    "#### Example\n",
    "\n",
    "Find the preimage of the set $\\{1,4\\}.$"
   ]
  },
  {
   "cell_type": "code",
   "execution_count": 9,
   "metadata": {},
   "outputs": [
    {
     "data": {
      "text/plain": [
       "{-1, 1}"
      ]
     },
     "execution_count": 9,
     "metadata": {},
     "output_type": "execute_result"
    }
   ],
   "source": [
    "preimage(function,{1,4},Domain)"
   ]
  },
  {
   "attachments": {},
   "cell_type": "markdown",
   "metadata": {},
   "source": [
    "#### Example\n",
    " \n",
    "* Find the preimage of the set $C.$\n",
    "* Find the preimage of the set $\\{1,16\\}.$"
   ]
  },
  {
   "attachments": {},
   "cell_type": "markdown",
   "metadata": {},
   "source": [
    "# (Topological) Continuity\n",
    "\n",
    "If we provide topologies on $D$ and $C,$ i.e., we take a function between topological spaces: $$f:(D,\\tau_D)\\to (C,\\tau_C)$$ we said that $f$ is __continuous__ if for every open set $E\\in \\tau_C$ we have that $f^{-1}(E)$ is an open set in $\\tau_D.$\n",
    "\n",
    "$$ E\\in\\tau_C\\Rightarrow f^{-1}(E)\\in\\tau_D. $$\n",
    "\n",
    "Let $(D,\\tau_D)$ with the topology $$\\tau_D=\\{\\varnothing, \\{0\\},\\{-2,-1,1,2\\},\\{-4,-3,3,4\\},\\{-2,-1,0,1,2\\},\\{-4,-3,0,3,4\\},\\{-4,-3,-2,-1,1,2,3,4\\},D\\}$$\n",
    "\n",
    "and let $(C,\\tau_C)$ where $$\\tau_C=\\{\\varnothing, \\{0\\},\\{1,4\\},\\{9,16\\},\\{0,1,4\\},\\{0,9,16\\},\\{1,4,9,16\\},D\\}.$$\n",
    "\n",
    "Let's verify if $f$ is continuous for those topological spaces."
   ]
  },
  {
   "cell_type": "code",
   "execution_count": 28,
   "metadata": {},
   "outputs": [],
   "source": [
    "# We ommit the empty set because it is not interesting.\n",
    "topology_C=[{0},{1,4},{9,16},{0,1,4},{0,9,16},{1,4,9,16},{0,1,4,9,16}]\n",
    "preimages=[]\n",
    "for A in topology_C:\n",
    "    preimages.append(preimage(function,A,Domain))"
   ]
  },
  {
   "cell_type": "code",
   "execution_count": 29,
   "metadata": {},
   "outputs": [
    {
     "name": "stdout",
     "output_type": "stream",
     "text": [
      "The preimage {0} is in the topology of the domain\n",
      "The preimage {1, 2, -1, -2} is in the topology of the domain\n",
      "The preimage {-3, 3, 4, -4} is in the topology of the domain\n",
      "The preimage {0, 1, 2, -2, -1} is in the topology of the domain\n",
      "The preimage {0, 3, 4, -4, -3} is in the topology of the domain\n",
      "The preimage {1, 2, 3, 4, -2, -4, -3, -1} is in the topology of the domain\n",
      "The preimage {0, 1, 2, 3, 4, -1, -4, -3, -2} is in the topology of the domain\n"
     ]
    }
   ],
   "source": [
    "# We will check if our preimages are in the topology of the domain\n",
    "topology_D=[set(),{0},{-2,-1,1,2},{-4,-3,3,4},{-2,-1,0,1,2},{-4,-3,0,3,4},{-4,-3,-2,-1,1,2,3,4},{-4,-3,-2,-1,0,1,2,3,4}]\n",
    "for A in preimages:\n",
    "    for B in topology_D:\n",
    "        if A==B:\n",
    "            print(\"The preimage {} is in the topology of the domain\".format(A))\n",
    "            break"
   ]
  }
 ],
 "metadata": {
  "kernelspec": {
   "display_name": "Python 3",
   "language": "python",
   "name": "python3"
  },
  "language_info": {
   "codemirror_mode": {
    "name": "ipython",
    "version": 3
   },
   "file_extension": ".py",
   "mimetype": "text/x-python",
   "name": "python",
   "nbconvert_exporter": "python",
   "pygments_lexer": "ipython3",
   "version": "3.10.6"
  },
  "orig_nbformat": 4,
  "vscode": {
   "interpreter": {
    "hash": "c937e1fda9f955598d1e9ce2f0a8b833dc3f319bbe96c6232a06f21c3925d963"
   }
  }
 },
 "nbformat": 4,
 "nbformat_minor": 2
}
